{
 "cells": [
  {
   "cell_type": "markdown",
   "id": "a0e99d3a-007e-4e68-bf65-8f12398b7da3",
   "metadata": {},
   "source": [
    "# Get track uris"
   ]
  },
  {
   "cell_type": "markdown",
   "id": "132fc2fb-7942-4a1d-a490-ce1c75a187d9",
   "metadata": {},
   "source": [
    "## Import all the things"
   ]
  },
  {
   "cell_type": "code",
   "execution_count": 1,
   "id": "90e9ee84-cb5a-4ff2-8205-5deefefd0766",
   "metadata": {},
   "outputs": [],
   "source": [
    "import pandas as pd\n",
    "\n",
    "import spotipy as sp\n",
    "from spotipy.oauth2 import SpotifyClientCredentials # will update so user can create their own playlist"
   ]
  },
  {
   "cell_type": "markdown",
   "id": "48a7b4f2-68cb-4985-86ae-3ed841575033",
   "metadata": {},
   "source": [
    "## Get Spotify API credentials\n",
    "\n",
    "Create a text file named creds.txt in the same folder as this notebook. On the top line put your client id and on the second put your secret id. Don't add a return at the end of the secret id."
   ]
  },
  {
   "cell_type": "code",
   "execution_count": 2,
   "id": "ad29f82b-fd71-486d-bc2c-3dd4a16dd86b",
   "metadata": {
    "tags": []
   },
   "outputs": [],
   "source": [
    "# read Spotify credentials from txt file\n",
    "with open(\"creds.txt\") as f:\n",
    "    creds = f.readlines()"
   ]
  },
  {
   "cell_type": "code",
   "execution_count": 3,
   "id": "59951628-7711-485c-98bc-2a4d970f1fd8",
   "metadata": {},
   "outputs": [],
   "source": [
    "cid = creds[0][:-1]   # 0 means top number and -1 gets rid of \\n\n",
    "secret = creds[1]     # second number"
   ]
  },
  {
   "cell_type": "code",
   "execution_count": 4,
   "id": "04250bac-0641-4ff3-bf5d-0e6f9410db40",
   "metadata": {},
   "outputs": [],
   "source": [
    "# Authentication - without user\n",
    "client_credentials_manager = SpotifyClientCredentials(client_id=cid, client_secret=secret)\n",
    "sp = sp.Spotify(client_credentials_manager = client_credentials_manager)"
   ]
  },
  {
   "cell_type": "markdown",
   "id": "891bb824-8b26-4ac7-aa2f-8b638f9ec73e",
   "metadata": {},
   "source": [
    "## Function that does all the work"
   ]
  },
  {
   "cell_type": "code",
   "execution_count": 5,
   "id": "2e9837db-4737-4177-9c1a-7fffefe4826b",
   "metadata": {},
   "outputs": [],
   "source": [
    "def get_songs(genre):\n",
    "    '''Function to get 1000 songs of any genre from spotify\n",
    "       input: genre wanted (see readme to get a link to a list of genres)\n",
    "       output: dataframe that includes artist, track name, and track uri\n",
    "    '''\n",
    "    \n",
    "    # create empty lists to append track information to\n",
    "    artist_name = []\n",
    "    track_name = []\n",
    "    track_id = []\n",
    "    \n",
    "    # for loop for offset value\n",
    "    # offset value makes it get songs from multiple pages\n",
    "    for i in range(0, 1000, 50):\n",
    "        track_results = sp.search(q=\"genre:\" + genre, limit = 50, type='track', offset=i) \n",
    "        \n",
    "        # get information for all tracks and append to lists above. \n",
    "        for i, t in enumerate(track_results['tracks']['items']):\n",
    "            artist_name.append(t['artists'][0]['name'])\n",
    "            track_name.append(t['name'])\n",
    "            track_id.append(t['id'])\n",
    "        \n",
    "    # dictionary created with lists saved to dictionary. \n",
    "    songs = {}\n",
    "    songs['artist'] = artist_name\n",
    "    songs['track_name'] = track_name\n",
    "    songs['track_id'] = track_id\n",
    "    songs['genre'] = genre\n",
    "    \n",
    "    # dictionary saved as data frame.\n",
    "    songs = pd.DataFrame(songs)\n",
    "    \n",
    "    return songs"
   ]
  },
  {
   "cell_type": "markdown",
   "id": "66deff28-4b05-410a-928a-be192d485d37",
   "metadata": {},
   "source": [
    "## Call function and clean data"
   ]
  },
  {
   "cell_type": "code",
   "execution_count": 6,
   "id": "e235ab48-af48-43c6-a2af-f2d32a6aed02",
   "metadata": {},
   "outputs": [],
   "source": [
    "# call function to get songs\n",
    "songs_df = get_songs('glam metal')"
   ]
  },
  {
   "cell_type": "code",
   "execution_count": 7,
   "id": "f4bbf974-aa0e-458b-a4f5-ada5ae98de06",
   "metadata": {},
   "outputs": [],
   "source": [
    "# drop all live and demo version\n",
    "songs_df = songs_df[~songs_df['track_name'].str.contains(\"Live\")]\n",
    "songs_df = songs_df[~songs_df['track_name'].str.contains(\"live\")]\n",
    "songs_df = songs_df[~songs_df['track_name'].str.contains(\"Demo\")]\n",
    "songs_df = songs_df[~songs_df['track_name'].str.contains(\"demo\")]"
   ]
  },
  {
   "cell_type": "code",
   "execution_count": 8,
   "id": "5ac65b44-1698-4ad6-952b-f9175e1c302a",
   "metadata": {},
   "outputs": [
    {
     "data": {
      "text/html": [
       "<div>\n",
       "<style scoped>\n",
       "    .dataframe tbody tr th:only-of-type {\n",
       "        vertical-align: middle;\n",
       "    }\n",
       "\n",
       "    .dataframe tbody tr th {\n",
       "        vertical-align: top;\n",
       "    }\n",
       "\n",
       "    .dataframe thead th {\n",
       "        text-align: right;\n",
       "    }\n",
       "</style>\n",
       "<table border=\"1\" class=\"dataframe\">\n",
       "  <thead>\n",
       "    <tr style=\"text-align: right;\">\n",
       "      <th></th>\n",
       "      <th>artist</th>\n",
       "      <th>track_name</th>\n",
       "      <th>track_id</th>\n",
       "      <th>genre</th>\n",
       "    </tr>\n",
       "  </thead>\n",
       "  <tbody>\n",
       "    <tr>\n",
       "      <th>69</th>\n",
       "      <td>Accept</td>\n",
       "      <td>Too High to Get It Right</td>\n",
       "      <td>0rDhrV26w2t2pwB68sE8J7</td>\n",
       "      <td>glam metal</td>\n",
       "    </tr>\n",
       "    <tr>\n",
       "      <th>144</th>\n",
       "      <td>Accept</td>\n",
       "      <td>Slaves To Metal</td>\n",
       "      <td>5PKCaK2R5hNyApWqXiZHYo</td>\n",
       "      <td>glam metal</td>\n",
       "    </tr>\n",
       "    <tr>\n",
       "      <th>58</th>\n",
       "      <td>Accept</td>\n",
       "      <td>Screaming for a Love-Bite</td>\n",
       "      <td>67di8AD3Pkshu40iQOjKzD</td>\n",
       "      <td>glam metal</td>\n",
       "    </tr>\n",
       "    <tr>\n",
       "      <th>74</th>\n",
       "      <td>Accept</td>\n",
       "      <td>Up to the Limit</td>\n",
       "      <td>46VXd3fLT4oQdB2CuBRVzG</td>\n",
       "      <td>glam metal</td>\n",
       "    </tr>\n",
       "    <tr>\n",
       "      <th>76</th>\n",
       "      <td>Accept</td>\n",
       "      <td>Living for Tonite</td>\n",
       "      <td>2fsdgJ8HPXkH2btaqijj3x</td>\n",
       "      <td>glam metal</td>\n",
       "    </tr>\n",
       "  </tbody>\n",
       "</table>\n",
       "</div>"
      ],
      "text/plain": [
       "     artist                 track_name                track_id       genre\n",
       "69   Accept   Too High to Get It Right  0rDhrV26w2t2pwB68sE8J7  glam metal\n",
       "144  Accept            Slaves To Metal  5PKCaK2R5hNyApWqXiZHYo  glam metal\n",
       "58   Accept  Screaming for a Love-Bite  67di8AD3Pkshu40iQOjKzD  glam metal\n",
       "74   Accept            Up to the Limit  46VXd3fLT4oQdB2CuBRVzG  glam metal\n",
       "76   Accept          Living for Tonite  2fsdgJ8HPXkH2btaqijj3x  glam metal"
      ]
     },
     "execution_count": 8,
     "metadata": {},
     "output_type": "execute_result"
    }
   ],
   "source": [
    "# sort by artist\n",
    "songs_df = songs_df.sort_values('artist')\n",
    "songs_df.head()"
   ]
  },
  {
   "cell_type": "code",
   "execution_count": 9,
   "id": "044fe7ed-187f-46bd-ad58-55f4ca0e2b16",
   "metadata": {},
   "outputs": [
    {
     "data": {
      "text/plain": [
       "array(['Accept', 'Ace Frehley', 'Airbourne', 'Alice Cooper',\n",
       "       'Baton Rouge', 'Beautiful Creatures', 'Bon Jovi', 'Britny Fox',\n",
       "       'Buckcherry', 'Bulletboys', 'Cheap Trick', 'Cinderella',\n",
       "       'Crash Kelly', \"D'Molls\", 'Damn Yankees', 'Dangerous Toys',\n",
       "       'Dee Snider', 'Diamond Rexx', 'Dio', 'Dirty Looks', 'Dokken',\n",
       "       'Electric Angels', 'Electric Boys', \"Enuff Z'Nuff\", 'Eric Carr',\n",
       "       'Europe', 'Extreme', 'Exxocet', 'Faster Pussycat', 'Firehouse',\n",
       "       'George Lynch', 'Great White', 'Heavy Metal Kids', 'Helix',\n",
       "       'Hericane Alice', 'House Of Lords', 'Iggy Pop', 'Jani Lane',\n",
       "       'Jeff Scott Soto', 'Joan Jett & The Blackhearts', 'KISS', 'Keel',\n",
       "       'King Kobra', 'Kingdom Come', 'Kip Winger', \"Kissin' Dynamite\",\n",
       "       'Kix', 'Krokus', 'L.A. Guns', 'LOUDNESS', 'Lee Aaron', 'Lita Ford',\n",
       "       'Lizzy Borden', 'Lou Reed', 'Lynch Mob', 'Madam X',\n",
       "       'Mark Slaughter', 'Metal Shop', 'Michael Monroe', 'Mother Feather',\n",
       "       'Nazareth', 'Nelson', 'New York Dolls', 'Night Ranger', 'Poison',\n",
       "       'Pretty Boy Floyd', 'Queensrÿche', 'Quiet Riot', 'Rainbow', 'Ratt',\n",
       "       'Reckless Love', 'Robin McAuley', 'Rough Cutt', 'STEELHEART',\n",
       "       'Saigon Kick', 'Sammy Hagar', 'Saxon', 'Sebastian Bach',\n",
       "       'Shooting Gallery', 'Skid Row', 'Slaughter', 'Sleeze Beez',\n",
       "       'Smack', 'Sparkling Bombs', 'Steel Panther', 'Steeler',\n",
       "       'Stephen Pearcy', 'Steve Stevens', 'Stryper', 'Swedish Erotica',\n",
       "       'T. Rex', 'TNT', 'Tesla', 'The Cherry Bombz', 'The Darkness',\n",
       "       \"The Dogs D'Amour\", 'The Donnas', 'The London Suede',\n",
       "       'The Quireboys', 'Torpedohead', 'Tuff', 'Twisted Sister',\n",
       "       'Ugly Kid Joe', 'Vain', 'Vandenberg', 'Vince Neil', 'Vixen',\n",
       "       'Warlock', 'Warrant',\n",
       "       \"Wednesday 13's Frankenstein Drag Queens From Planet 13\",\n",
       "       'White Lion', 'Whitesnake', 'Winger', 'Wrathchild', 'Y&T', 'Zebra'],\n",
       "      dtype=object)"
      ]
     },
     "execution_count": 9,
     "metadata": {},
     "output_type": "execute_result"
    }
   ],
   "source": [
    "# get a list of artists\n",
    "artists = songs_df.artist.unique()\n",
    "artists"
   ]
  },
  {
   "cell_type": "code",
   "execution_count": 13,
   "id": "989113f7-a661-438a-8966-3fb17be73d8f",
   "metadata": {},
   "outputs": [
    {
     "data": {
      "text/plain": [
       "artist\n",
       "Heavy Metal Kids               116\n",
       "Faster Pussycat                 39\n",
       "Saxon                           38\n",
       "Quiet Riot                      35\n",
       "Bulletboys                      30\n",
       "                              ... \n",
       "Robin McAuley                    1\n",
       "Kip Winger                       1\n",
       "Joan Jett & The Blackhearts      1\n",
       "Keel                             1\n",
       "Zebra                            1\n",
       "Length: 116, dtype: int64"
      ]
     },
     "execution_count": 13,
     "metadata": {},
     "output_type": "execute_result"
    }
   ],
   "source": [
    "# count songs by each artist\n",
    "num_songs = songs_df.value_counts('artist')\n",
    "num_songs"
   ]
  },
  {
   "cell_type": "code",
   "execution_count": 11,
   "id": "75121bae-9fc7-4af6-aeab-d04cd075165e",
   "metadata": {
    "tags": []
   },
   "outputs": [
    {
     "name": "stdout",
     "output_type": "stream",
     "text": [
      "<class 'pandas.core.frame.DataFrame'>\n",
      "Int64Index: 912 entries, 69 to 7\n",
      "Data columns (total 4 columns):\n",
      " #   Column      Non-Null Count  Dtype \n",
      "---  ------      --------------  ----- \n",
      " 0   artist      912 non-null    object\n",
      " 1   track_name  912 non-null    object\n",
      " 2   track_id    912 non-null    object\n",
      " 3   genre       912 non-null    object\n",
      "dtypes: object(4)\n",
      "memory usage: 35.6+ KB\n"
     ]
    }
   ],
   "source": [
    "songs_df.info()"
   ]
  }
 ],
 "metadata": {
  "kernelspec": {
   "display_name": "Python 3 (ipykernel)",
   "language": "python",
   "name": "python3"
  },
  "language_info": {
   "codemirror_mode": {
    "name": "ipython",
    "version": 3
   },
   "file_extension": ".py",
   "mimetype": "text/x-python",
   "name": "python",
   "nbconvert_exporter": "python",
   "pygments_lexer": "ipython3",
   "version": "3.10.4"
  }
 },
 "nbformat": 4,
 "nbformat_minor": 5
}

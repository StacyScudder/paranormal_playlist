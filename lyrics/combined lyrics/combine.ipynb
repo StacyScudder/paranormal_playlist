{
 "cells": [
  {
   "cell_type": "markdown",
   "id": "48b37bcf",
   "metadata": {
    "toc": true
   },
   "source": [
    "<h1>Table of Contents<span class=\"tocSkip\"></span></h1>\n",
    "<div class=\"toc\"><ul class=\"toc-item\"><li><span><a href=\"#Import-all-the-things\" data-toc-modified-id=\"Import-all-the-things-1\"><span class=\"toc-item-num\">1&nbsp;&nbsp;</span>Import all the things</a></span></li><li><span><a href=\"#Get-found-and-scraped-lyrics-files\" data-toc-modified-id=\"Get-found-and-scraped-lyrics-files-2\"><span class=\"toc-item-num\">2&nbsp;&nbsp;</span>Get found and scraped lyrics files</a></span></li><li><span><a href=\"#Combine-the-two-dataframes\" data-toc-modified-id=\"Combine-the-two-dataframes-3\"><span class=\"toc-item-num\">3&nbsp;&nbsp;</span>Combine the two dataframes</a></span></li><li><span><a href=\"#Basic-EDA\" data-toc-modified-id=\"Basic-EDA-4\"><span class=\"toc-item-num\">4&nbsp;&nbsp;</span>Basic EDA</a></span><ul class=\"toc-item\"><li><span><a href=\"#Are-there-any-nulls?\" data-toc-modified-id=\"Are-there-any-nulls?-4.1\"><span class=\"toc-item-num\">4.1&nbsp;&nbsp;</span>Are there any nulls?</a></span></li></ul></li><li><span><a href=\"#Add-a-column-of-1s-for-music\" data-toc-modified-id=\"Add-a-column-of-1s-for-music-5\"><span class=\"toc-item-num\">5&nbsp;&nbsp;</span>Add a column of 1s for music</a></span></li><li><span><a href=\"#Export-lyrics-file-to-csv\" data-toc-modified-id=\"Export-lyrics-file-to-csv-6\"><span class=\"toc-item-num\">6&nbsp;&nbsp;</span>Export lyrics file to csv</a></span></li></ul></div>"
   ]
  },
  {
   "cell_type": "markdown",
   "id": "7234ca74",
   "metadata": {},
   "source": [
    "**Explanation of Process**<br>\n",
    "This file combines the two csv files of scraped and found lyrics in preparation of combining them with the books for our final dataframe."
   ]
  },
  {
   "cell_type": "markdown",
   "id": "31ede93c",
   "metadata": {},
   "source": [
    "# Import all the things"
   ]
  },
  {
   "cell_type": "code",
   "execution_count": 1,
   "id": "02797f37",
   "metadata": {},
   "outputs": [],
   "source": [
    "import pandas as pd\n",
    "import numpy as np\n",
    "\n",
    "#for text pre-processing\n",
    "import re, string"
   ]
  },
  {
   "cell_type": "markdown",
   "id": "58978cc5",
   "metadata": {},
   "source": [
    "# Get found and scraped lyrics files"
   ]
  },
  {
   "cell_type": "code",
   "execution_count": 3,
   "id": "3504c5e8",
   "metadata": {},
   "outputs": [
    {
     "data": {
      "text/plain": [
       "(1843, 3)"
      ]
     },
     "execution_count": 3,
     "metadata": {},
     "output_type": "execute_result"
    }
   ],
   "source": [
    "#found lyrics\n",
    "#already has index, so use first column\n",
    "\n",
    "flyrics = pd.read_csv(r\"..\\..\\datasets\\hair_lyrics.csv\", index_col = 0, na_values = \"\")\n",
    "#flyrics.head()\n",
    "flyrics.shape"
   ]
  },
  {
   "cell_type": "code",
   "execution_count": 4,
   "id": "8dde8bd2",
   "metadata": {
    "scrolled": true
   },
   "outputs": [
    {
     "data": {
      "text/plain": [
       "(1288, 3)"
      ]
     },
     "execution_count": 4,
     "metadata": {},
     "output_type": "execute_result"
    }
   ],
   "source": [
    "#scraped lyrics\n",
    "#already has index, so use first column\n",
    "\n",
    "slyrics = pd.read_csv(r\"..\\..\\datasets\\more_hair_lyrics.csv\", index_col = 0, na_values = \"\")\n",
    "slyrics.head()\n",
    "slyrics.shape"
   ]
  },
  {
   "cell_type": "markdown",
   "id": "7895c474",
   "metadata": {},
   "source": [
    "# Combine the two dataframes"
   ]
  },
  {
   "cell_type": "code",
   "execution_count": 5,
   "id": "21a3d742",
   "metadata": {
    "scrolled": false
   },
   "outputs": [
    {
     "data": {
      "text/html": [
       "<div>\n",
       "<style scoped>\n",
       "    .dataframe tbody tr th:only-of-type {\n",
       "        vertical-align: middle;\n",
       "    }\n",
       "\n",
       "    .dataframe tbody tr th {\n",
       "        vertical-align: top;\n",
       "    }\n",
       "\n",
       "    .dataframe thead th {\n",
       "        text-align: right;\n",
       "    }\n",
       "</style>\n",
       "<table border=\"1\" class=\"dataframe\">\n",
       "  <thead>\n",
       "    <tr style=\"text-align: right;\">\n",
       "      <th></th>\n",
       "      <th>artist</th>\n",
       "      <th>title</th>\n",
       "      <th>words</th>\n",
       "    </tr>\n",
       "  </thead>\n",
       "  <tbody>\n",
       "    <tr>\n",
       "      <th>3126</th>\n",
       "      <td>Winger</td>\n",
       "      <td>Under One Condition</td>\n",
       "      <td>She's looking in the eye of a\\nMind made up th...</td>\n",
       "    </tr>\n",
       "    <tr>\n",
       "      <th>3127</th>\n",
       "      <td>Winger</td>\n",
       "      <td>Who's The One</td>\n",
       "      <td>--------------------\\nWhen all the colors begi...</td>\n",
       "    </tr>\n",
       "    <tr>\n",
       "      <th>3128</th>\n",
       "      <td>Winger</td>\n",
       "      <td>Without the Night</td>\n",
       "      <td>Watch the sun go down\\nIt's just my luck again...</td>\n",
       "    </tr>\n",
       "    <tr>\n",
       "      <th>3129</th>\n",
       "      <td>Winger</td>\n",
       "      <td>Witness</td>\n",
       "      <td>There's a shadow in your heart\\nKeeps you in t...</td>\n",
       "    </tr>\n",
       "    <tr>\n",
       "      <th>3130</th>\n",
       "      <td>Winger</td>\n",
       "      <td>You Are The Saint, I Am The Sinner</td>\n",
       "      <td>You Are The Saint, I Am The Sinner (3: 35) (Wi...</td>\n",
       "    </tr>\n",
       "  </tbody>\n",
       "</table>\n",
       "</div>"
      ],
      "text/plain": [
       "      artist                               title  \\\n",
       "3126  Winger                 Under One Condition   \n",
       "3127  Winger                       Who's The One   \n",
       "3128  Winger                   Without the Night   \n",
       "3129  Winger                             Witness   \n",
       "3130  Winger  You Are The Saint, I Am The Sinner   \n",
       "\n",
       "                                                  words  \n",
       "3126  She's looking in the eye of a\\nMind made up th...  \n",
       "3127  --------------------\\nWhen all the colors begi...  \n",
       "3128  Watch the sun go down\\nIt's just my luck again...  \n",
       "3129  There's a shadow in your heart\\nKeeps you in t...  \n",
       "3130  You Are The Saint, I Am The Sinner (3: 35) (Wi...  "
      ]
     },
     "execution_count": 5,
     "metadata": {},
     "output_type": "execute_result"
    }
   ],
   "source": [
    "df = pd.concat([flyrics, slyrics]).reset_index(drop = True)\n",
    "df.tail()"
   ]
  },
  {
   "cell_type": "markdown",
   "id": "db629b76",
   "metadata": {},
   "source": [
    "# Basic EDA"
   ]
  },
  {
   "cell_type": "markdown",
   "id": "4a414ad1",
   "metadata": {},
   "source": [
    "## Are there any nulls?"
   ]
  },
  {
   "cell_type": "code",
   "execution_count": 6,
   "id": "69564177",
   "metadata": {},
   "outputs": [
    {
     "data": {
      "text/plain": [
       "artist    0\n",
       "title     0\n",
       "words     0\n",
       "dtype: int64"
      ]
     },
     "execution_count": 6,
     "metadata": {},
     "output_type": "execute_result"
    }
   ],
   "source": [
    "df.isnull().sum()"
   ]
  },
  {
   "cell_type": "code",
   "execution_count": 13,
   "id": "4eda6027",
   "metadata": {},
   "outputs": [],
   "source": [
    "#There are songs that are Demos here, so drop those\n",
    "df = df[~df['title'].str.contains('\\(Demo\\)','', regex=True)]\n",
    "\n",
    "#The lyrics all have \\n in them, so replace that with a space\n",
    "df['words'] = df['words'].str.replace('\\\\n',' ', regex=True)\n",
    "df['words'] = df['words'].str.replace('\\\\r','', regex=True)"
   ]
  },
  {
   "cell_type": "code",
   "execution_count": 8,
   "id": "f540d60c",
   "metadata": {
    "scrolled": true
   },
   "outputs": [
    {
     "data": {
      "text/plain": [
       "False    3131\n",
       "dtype: int64"
      ]
     },
     "execution_count": 8,
     "metadata": {},
     "output_type": "execute_result"
    }
   ],
   "source": [
    "df.duplicated().value_counts()"
   ]
  },
  {
   "cell_type": "code",
   "execution_count": 9,
   "id": "49ba5e90",
   "metadata": {},
   "outputs": [
    {
     "data": {
      "text/plain": [
       "(3131, 3)"
      ]
     },
     "execution_count": 9,
     "metadata": {},
     "output_type": "execute_result"
    }
   ],
   "source": [
    "df.drop_duplicates(keep = 'first', inplace = True)\n",
    "df.shape"
   ]
  },
  {
   "cell_type": "code",
   "execution_count": 10,
   "id": "5cc9bec8",
   "metadata": {},
   "outputs": [
    {
     "data": {
      "text/html": [
       "<div>\n",
       "<style scoped>\n",
       "    .dataframe tbody tr th:only-of-type {\n",
       "        vertical-align: middle;\n",
       "    }\n",
       "\n",
       "    .dataframe tbody tr th {\n",
       "        vertical-align: top;\n",
       "    }\n",
       "\n",
       "    .dataframe thead th {\n",
       "        text-align: right;\n",
       "    }\n",
       "</style>\n",
       "<table border=\"1\" class=\"dataframe\">\n",
       "  <thead>\n",
       "    <tr style=\"text-align: right;\">\n",
       "      <th></th>\n",
       "      <th>artist</th>\n",
       "      <th>title</th>\n",
       "      <th>words</th>\n",
       "    </tr>\n",
       "  </thead>\n",
       "  <tbody>\n",
       "    <tr>\n",
       "      <th>0</th>\n",
       "      <td>Cinderella</td>\n",
       "      <td>All Comes Down</td>\n",
       "      <td>Everybody thinks it's so easy Everybody thinks...</td>\n",
       "    </tr>\n",
       "    <tr>\n",
       "      <th>1</th>\n",
       "      <td>Cinderella</td>\n",
       "      <td>Back Home Again</td>\n",
       "      <td>I hit the road wide open at seventeen Mama cri...</td>\n",
       "    </tr>\n",
       "    <tr>\n",
       "      <th>2</th>\n",
       "      <td>Cinderella</td>\n",
       "      <td>Bad Attitude Shuffle</td>\n",
       "      <td>When I get up in the morning Got a world of tr...</td>\n",
       "    </tr>\n",
       "    <tr>\n",
       "      <th>3</th>\n",
       "      <td>Cinderella</td>\n",
       "      <td>Blood from a Stone</td>\n",
       "      <td>Well I've been walkin' Down a one way dirty st...</td>\n",
       "    </tr>\n",
       "    <tr>\n",
       "      <th>4</th>\n",
       "      <td>Cinderella</td>\n",
       "      <td>Coming Home</td>\n",
       "      <td>I took a walk down a road it's the road I was ...</td>\n",
       "    </tr>\n",
       "    <tr>\n",
       "      <th>...</th>\n",
       "      <td>...</td>\n",
       "      <td>...</td>\n",
       "      <td>...</td>\n",
       "    </tr>\n",
       "    <tr>\n",
       "      <th>3126</th>\n",
       "      <td>Winger</td>\n",
       "      <td>Under One Condition</td>\n",
       "      <td>She's looking in the eye of a Mind made up tha...</td>\n",
       "    </tr>\n",
       "    <tr>\n",
       "      <th>3127</th>\n",
       "      <td>Winger</td>\n",
       "      <td>Who's The One</td>\n",
       "      <td>-------------------- When all the colors begin...</td>\n",
       "    </tr>\n",
       "    <tr>\n",
       "      <th>3128</th>\n",
       "      <td>Winger</td>\n",
       "      <td>Without the Night</td>\n",
       "      <td>Watch the sun go down It's just my luck again ...</td>\n",
       "    </tr>\n",
       "    <tr>\n",
       "      <th>3129</th>\n",
       "      <td>Winger</td>\n",
       "      <td>Witness</td>\n",
       "      <td>There's a shadow in your heart Keeps you in th...</td>\n",
       "    </tr>\n",
       "    <tr>\n",
       "      <th>3130</th>\n",
       "      <td>Winger</td>\n",
       "      <td>You Are The Saint, I Am The Sinner</td>\n",
       "      <td>You Are The Saint, I Am The Sinner (3: 35) (Wi...</td>\n",
       "    </tr>\n",
       "  </tbody>\n",
       "</table>\n",
       "<p>3131 rows × 3 columns</p>\n",
       "</div>"
      ],
      "text/plain": [
       "          artist                               title  \\\n",
       "0     Cinderella                      All Comes Down   \n",
       "1     Cinderella                     Back Home Again   \n",
       "2     Cinderella                Bad Attitude Shuffle   \n",
       "3     Cinderella                  Blood from a Stone   \n",
       "4     Cinderella                         Coming Home   \n",
       "...          ...                                 ...   \n",
       "3126      Winger                 Under One Condition   \n",
       "3127      Winger                       Who's The One   \n",
       "3128      Winger                   Without the Night   \n",
       "3129      Winger                             Witness   \n",
       "3130      Winger  You Are The Saint, I Am The Sinner   \n",
       "\n",
       "                                                  words  \n",
       "0     Everybody thinks it's so easy Everybody thinks...  \n",
       "1     I hit the road wide open at seventeen Mama cri...  \n",
       "2     When I get up in the morning Got a world of tr...  \n",
       "3     Well I've been walkin' Down a one way dirty st...  \n",
       "4     I took a walk down a road it's the road I was ...  \n",
       "...                                                 ...  \n",
       "3126  She's looking in the eye of a Mind made up tha...  \n",
       "3127  -------------------- When all the colors begin...  \n",
       "3128  Watch the sun go down It's just my luck again ...  \n",
       "3129  There's a shadow in your heart Keeps you in th...  \n",
       "3130  You Are The Saint, I Am The Sinner (3: 35) (Wi...  \n",
       "\n",
       "[3131 rows x 3 columns]"
      ]
     },
     "execution_count": 10,
     "metadata": {},
     "output_type": "execute_result"
    }
   ],
   "source": [
    "df = df.reset_index(drop = True)\n",
    "df"
   ]
  },
  {
   "cell_type": "markdown",
   "id": "1c0c5dae",
   "metadata": {},
   "source": [
    "# Add a column of 1s for music"
   ]
  },
  {
   "cell_type": "code",
   "execution_count": 11,
   "id": "d4ee766d",
   "metadata": {},
   "outputs": [
    {
     "data": {
      "text/html": [
       "<div>\n",
       "<style scoped>\n",
       "    .dataframe tbody tr th:only-of-type {\n",
       "        vertical-align: middle;\n",
       "    }\n",
       "\n",
       "    .dataframe tbody tr th {\n",
       "        vertical-align: top;\n",
       "    }\n",
       "\n",
       "    .dataframe thead th {\n",
       "        text-align: right;\n",
       "    }\n",
       "</style>\n",
       "<table border=\"1\" class=\"dataframe\">\n",
       "  <thead>\n",
       "    <tr style=\"text-align: right;\">\n",
       "      <th></th>\n",
       "      <th>artist</th>\n",
       "      <th>title</th>\n",
       "      <th>words</th>\n",
       "      <th>format</th>\n",
       "    </tr>\n",
       "  </thead>\n",
       "  <tbody>\n",
       "    <tr>\n",
       "      <th>3129</th>\n",
       "      <td>Winger</td>\n",
       "      <td>Witness</td>\n",
       "      <td>There's a shadow in your heart Keeps you in th...</td>\n",
       "      <td>1</td>\n",
       "    </tr>\n",
       "    <tr>\n",
       "      <th>3130</th>\n",
       "      <td>Winger</td>\n",
       "      <td>You Are The Saint, I Am The Sinner</td>\n",
       "      <td>You Are The Saint, I Am The Sinner (3: 35) (Wi...</td>\n",
       "      <td>1</td>\n",
       "    </tr>\n",
       "  </tbody>\n",
       "</table>\n",
       "</div>"
      ],
      "text/plain": [
       "      artist                               title  \\\n",
       "3129  Winger                             Witness   \n",
       "3130  Winger  You Are The Saint, I Am The Sinner   \n",
       "\n",
       "                                                  words  format  \n",
       "3129  There's a shadow in your heart Keeps you in th...       1  \n",
       "3130  You Are The Saint, I Am The Sinner (3: 35) (Wi...       1  "
      ]
     },
     "execution_count": 11,
     "metadata": {},
     "output_type": "execute_result"
    }
   ],
   "source": [
    "df['format'] = 1\n",
    "df.tail(2)"
   ]
  },
  {
   "cell_type": "markdown",
   "id": "51cb17df",
   "metadata": {},
   "source": [
    "# Export lyrics file to csv"
   ]
  },
  {
   "cell_type": "code",
   "execution_count": 12,
   "id": "8d065027",
   "metadata": {},
   "outputs": [],
   "source": [
    "df.to_csv(r\"..\\..\\datasets\\lyrics_raw.csv\")"
   ]
  }
 ],
 "metadata": {
  "kernelspec": {
   "display_name": "Python 3 (ipykernel)",
   "language": "python",
   "name": "python3"
  },
  "language_info": {
   "codemirror_mode": {
    "name": "ipython",
    "version": 3
   },
   "file_extension": ".py",
   "mimetype": "text/x-python",
   "name": "python",
   "nbconvert_exporter": "python",
   "pygments_lexer": "ipython3",
   "version": "3.9.7"
  },
  "toc": {
   "base_numbering": 1,
   "nav_menu": {},
   "number_sections": true,
   "sideBar": true,
   "skip_h1_title": false,
   "title_cell": "Table of Contents",
   "title_sidebar": "Contents",
   "toc_cell": true,
   "toc_position": {},
   "toc_section_display": true,
   "toc_window_display": true
  }
 },
 "nbformat": 4,
 "nbformat_minor": 5
}

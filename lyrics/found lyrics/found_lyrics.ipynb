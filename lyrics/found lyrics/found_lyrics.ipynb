{
 "cells": [
  {
   "cell_type": "markdown",
   "id": "43e85c41",
   "metadata": {
    "toc": true
   },
   "source": [
    "<h1>Table of Contents<span class=\"tocSkip\"></span></h1>\n",
    "<div class=\"toc\"><ul class=\"toc-item\"><li><span><a href=\"#Import-all-the-things\" data-toc-modified-id=\"Import-all-the-things-1\"><span class=\"toc-item-num\">1&nbsp;&nbsp;</span>Import all the things</a></span></li><li><span><a href=\"#Read-all-csv-files\" data-toc-modified-id=\"Read-all-csv-files-2\"><span class=\"toc-item-num\">2&nbsp;&nbsp;</span>Read all csv files</a></span><ul class=\"toc-item\"><li><span><a href=\"#Cinderella\" data-toc-modified-id=\"Cinderella-2.1\"><span class=\"toc-item-num\">2.1&nbsp;&nbsp;</span>Cinderella</a></span></li><li><span><a href=\"#Killer-Dwarfs\" data-toc-modified-id=\"Killer-Dwarfs-2.2\"><span class=\"toc-item-num\">2.2&nbsp;&nbsp;</span>Killer Dwarfs</a></span></li><li><span><a href=\"#Kip-Winger\" data-toc-modified-id=\"Kip-Winger-2.3\"><span class=\"toc-item-num\">2.3&nbsp;&nbsp;</span>Kip Winger</a></span></li><li><span><a href=\"#Kiss\" data-toc-modified-id=\"Kiss-2.4\"><span class=\"toc-item-num\">2.4&nbsp;&nbsp;</span>Kiss</a></span></li><li><span><a href=\"#Kix\" data-toc-modified-id=\"Kix-2.5\"><span class=\"toc-item-num\">2.5&nbsp;&nbsp;</span>Kix</a></span></li><li><span><a href=\"#Krokus\" data-toc-modified-id=\"Krokus-2.6\"><span class=\"toc-item-num\">2.6&nbsp;&nbsp;</span>Krokus</a></span></li><li><span><a href=\"#L.A.-Guns\" data-toc-modified-id=\"L.A.-Guns-2.7\"><span class=\"toc-item-num\">2.7&nbsp;&nbsp;</span>L.A. Guns</a></span></li><li><span><a href=\"#Lita-Ford\" data-toc-modified-id=\"Lita-Ford-2.8\"><span class=\"toc-item-num\">2.8&nbsp;&nbsp;</span>Lita Ford</a></span></li><li><span><a href=\"#Loverboy\" data-toc-modified-id=\"Loverboy-2.9\"><span class=\"toc-item-num\">2.9&nbsp;&nbsp;</span>Loverboy</a></span></li></ul></li><li><span><a href=\"#--1-band-(Autograph)-417-rows\" data-toc-modified-id=\"--1-band-(Autograph)-417-rows-3\"><span class=\"toc-item-num\">3&nbsp;&nbsp;</span>- 1 band (Autograph) 417 rows</a></span></li><li><span><a href=\"#-1-band-(Bad-English)-439-rows\" data-toc-modified-id=\"-1-band-(Bad-English)-439-rows-4\"><span class=\"toc-item-num\">4&nbsp;&nbsp;</span>-1 band (Bad English) 439 rows</a></span></li><li><span><a href=\"#-2-bands-(466-rows)\" data-toc-modified-id=\"-2-bands-(466-rows)-5\"><span class=\"toc-item-num\">5&nbsp;&nbsp;</span>-2 bands (466 rows)</a></span><ul class=\"toc-item\"><li><span><a href=\"#Damn-Yankees\" data-toc-modified-id=\"Damn-Yankees-5.1\"><span class=\"toc-item-num\">5.1&nbsp;&nbsp;</span>Damn Yankees</a></span></li><li><span><a href=\"#Danger-Danger\" data-toc-modified-id=\"Danger-Danger-5.2\"><span class=\"toc-item-num\">5.2&nbsp;&nbsp;</span>Danger Danger</a></span></li></ul></li><li><span><a href=\"#-1-band-(Def-Leppard)-548-rows\" data-toc-modified-id=\"-1-band-(Def-Leppard)-548-rows-6\"><span class=\"toc-item-num\">6&nbsp;&nbsp;</span>-1 band (Def Leppard) 548 rows</a></span></li><li><span><a href=\"#-1-band-(Dokken)-631-rows\" data-toc-modified-id=\"-1-band-(Dokken)-631-rows-7\"><span class=\"toc-item-num\">7&nbsp;&nbsp;</span>-1 band (Dokken) 631 rows</a></span></li><li><span><a href=\"#-1-band-(Enuff-Z'nuff)-678-rows\" data-toc-modified-id=\"-1-band-(Enuff-Z'nuff)-678-rows-8\"><span class=\"toc-item-num\">8&nbsp;&nbsp;</span>-1 band (Enuff Z'nuff) 678 rows</a></span></li><li><span><a href=\"#-3-bands-(818-rows)\" data-toc-modified-id=\"-3-bands-(818-rows)-9\"><span class=\"toc-item-num\">9&nbsp;&nbsp;</span>-3 bands (818 rows)</a></span><ul class=\"toc-item\"><li><span><a href=\"#Europe\" data-toc-modified-id=\"Europe-9.1\"><span class=\"toc-item-num\">9.1&nbsp;&nbsp;</span>Europe</a></span></li><li><span><a href=\"#Extreme\" data-toc-modified-id=\"Extreme-9.2\"><span class=\"toc-item-num\">9.2&nbsp;&nbsp;</span>Extreme</a></span></li><li><span><a href=\"#Faster-Pussycat\" data-toc-modified-id=\"Faster-Pussycat-9.3\"><span class=\"toc-item-num\">9.3&nbsp;&nbsp;</span>Faster Pussycat</a></span></li></ul></li><li><span><a href=\"#-1-band-(Firehouse)-869-rows\" data-toc-modified-id=\"-1-band-(Firehouse)-869-rows-10\"><span class=\"toc-item-num\">10&nbsp;&nbsp;</span>-1 band (Firehouse) 869 rows</a></span></li><li><span><a href=\"#-1-band-(Giant)-891-rows\" data-toc-modified-id=\"-1-band-(Giant)-891-rows-11\"><span class=\"toc-item-num\">11&nbsp;&nbsp;</span>-1 band (Giant) 891 rows</a></span></li><li><span><a href=\"#-1-band-(Gorky-Park)-896-rows\" data-toc-modified-id=\"-1-band-(Gorky-Park)-896-rows-12\"><span class=\"toc-item-num\">12&nbsp;&nbsp;</span>-1 band (Gorky Park) 896 rows</a></span></li><li><span><a href=\"#2-bands-(1071-rows)\" data-toc-modified-id=\"2-bands-(1071-rows)-13\"><span class=\"toc-item-num\">13&nbsp;&nbsp;</span>2 bands (1071 rows)</a></span><ul class=\"toc-item\"><li><span><a href=\"#Great-White\" data-toc-modified-id=\"Great-White-13.1\"><span class=\"toc-item-num\">13.1&nbsp;&nbsp;</span>Great White</a></span></li><li><span><a href=\"#Guns-N'-Roses\" data-toc-modified-id=\"Guns-N'-Roses-13.2\"><span class=\"toc-item-num\">13.2&nbsp;&nbsp;</span>Guns N' Roses</a></span></li></ul></li><li><span><a href=\"#-2-bands-(1143-rows)\" data-toc-modified-id=\"-2-bands-(1143-rows)-14\"><span class=\"toc-item-num\">14&nbsp;&nbsp;</span>-2 bands (1143 rows)</a></span><ul class=\"toc-item\"><li><span><a href=\"#Hanoi-Rocks\" data-toc-modified-id=\"Hanoi-Rocks-14.1\"><span class=\"toc-item-num\">14.1&nbsp;&nbsp;</span>Hanoi Rocks</a></span></li><li><span><a href=\"#Helix\" data-toc-modified-id=\"Helix-14.2\"><span class=\"toc-item-num\">14.2&nbsp;&nbsp;</span>Helix</a></span></li></ul></li><li><span><a href=\"#-1-band-(Jackyl)-1199-rows\" data-toc-modified-id=\"-1-band-(Jackyl)-1199-rows-15\"><span class=\"toc-item-num\">15&nbsp;&nbsp;</span>-1 band (Jackyl) 1199 rows</a></span></li><li><span><a href=\"#-2-bands-1358-rows\" data-toc-modified-id=\"-2-bands-1358-rows-16\"><span class=\"toc-item-num\">16&nbsp;&nbsp;</span>-2 bands 1358 rows</a></span><ul class=\"toc-item\"><li><span><a href=\"#Motley-Crue\" data-toc-modified-id=\"Motley-Crue-16.1\"><span class=\"toc-item-num\">16.1&nbsp;&nbsp;</span>Motley Crue</a></span></li><li><span><a href=\"#Mr.-Big\" data-toc-modified-id=\"Mr.-Big-16.2\"><span class=\"toc-item-num\">16.2&nbsp;&nbsp;</span>Mr. Big</a></span></li></ul></li><li><span><a href=\"#-2-bands-(1443-rows)\" data-toc-modified-id=\"-2-bands-(1443-rows)-17\"><span class=\"toc-item-num\">17&nbsp;&nbsp;</span>-2 bands (1443 rows)</a></span><ul class=\"toc-item\"><li><span><a href=\"#Poison\" data-toc-modified-id=\"Poison-17.1\"><span class=\"toc-item-num\">17.1&nbsp;&nbsp;</span>Poison</a></span></li><li><span><a href=\"#Pretty-Boy-Floyd\" data-toc-modified-id=\"Pretty-Boy-Floyd-17.2\"><span class=\"toc-item-num\">17.2&nbsp;&nbsp;</span>Pretty Boy Floyd</a></span></li></ul></li><li><span><a href=\"#-3-bands-(1625-rows)\" data-toc-modified-id=\"-3-bands-(1625-rows)-18\"><span class=\"toc-item-num\">18&nbsp;&nbsp;</span>-3 bands (1625 rows)</a></span><ul class=\"toc-item\"><li><span><a href=\"#Queensryche\" data-toc-modified-id=\"Queensryche-18.1\"><span class=\"toc-item-num\">18.1&nbsp;&nbsp;</span>Queensryche</a></span></li><li><span><a href=\"#Quiet-Riot\" data-toc-modified-id=\"Quiet-Riot-18.2\"><span class=\"toc-item-num\">18.2&nbsp;&nbsp;</span>Quiet Riot</a></span></li><li><span><a href=\"#Ratt\" data-toc-modified-id=\"Ratt-18.3\"><span class=\"toc-item-num\">18.3&nbsp;&nbsp;</span>Ratt</a></span></li></ul></li><li><span><a href=\"#-1-band-(Saigon-Kick)-1659-rows\" data-toc-modified-id=\"-1-band-(Saigon-Kick)-1659-rows-19\"><span class=\"toc-item-num\">19&nbsp;&nbsp;</span>-1 band (Saigon Kick) 1659 rows</a></span></li><li><span><a href=\"#-1-band-(Scorpions)-1752-rows\" data-toc-modified-id=\"-1-band-(Scorpions)-1752-rows-20\"><span class=\"toc-item-num\">20&nbsp;&nbsp;</span>-1 band (Scorpions) 1752 rows</a></span></li><li><span><a href=\"#-2-bands-(1831-rows)\" data-toc-modified-id=\"-2-bands-(1831-rows)-21\"><span class=\"toc-item-num\">21&nbsp;&nbsp;</span>-2 bands (1831 rows)</a></span><ul class=\"toc-item\"><li><span><a href=\"#Skid-Row\" data-toc-modified-id=\"Skid-Row-21.1\"><span class=\"toc-item-num\">21.1&nbsp;&nbsp;</span>Skid Row</a></span></li><li><span><a href=\"#Slaughter\" data-toc-modified-id=\"Slaughter-21.2\"><span class=\"toc-item-num\">21.2&nbsp;&nbsp;</span>Slaughter</a></span></li></ul></li><li><span><a href=\"#-1-band-(Steelheart)-1850-rows\" data-toc-modified-id=\"-1-band-(Steelheart)-1850-rows-22\"><span class=\"toc-item-num\">22&nbsp;&nbsp;</span>-1 band (Steelheart) 1850 rows</a></span></li><li><span><a href=\"#Finish-df-and-save-to-csv\" data-toc-modified-id=\"Finish-df-and-save-to-csv-23\"><span class=\"toc-item-num\">23&nbsp;&nbsp;</span>Finish df and save to csv</a></span></li><li><span><a href=\"#Next-Steps\" data-toc-modified-id=\"Next-Steps-24\"><span class=\"toc-item-num\">24&nbsp;&nbsp;</span>Next Steps</a></span></li></ul></div>"
   ]
  },
  {
   "cell_type": "markdown",
   "id": "0fa727fc",
   "metadata": {},
   "source": [
    "**Explanation of Process**\n",
    "\n",
    "I ran across a repo on Github with someone's data that had already been scraped from AZLyrics. The files were 'mostly' in alphabetical order, but not completely. There were also several files missing (there were no band names after 'T'). It still managed to be a significant source for lyrics! (Here's the link to the repo: https://github.com/SoumitraAgarwal/Webscraping-Text-Data).\n",
    "\n",
    "AZLyrics has lyrics for bands that aren't on Genius, so I'd been looking for ways to scrape the data. ~~After downloading all the files into one folder, I tried to load them all at once to a df. That didn't work since I got an error saying that some of the files were corrupt. So I figured out another method. My method probably wasn't faster than figuring out the corrupt file problem and fixing it, but it was much easier. I first did a Windows search inside the folder that held the lyrics to narrow down which files I'd need. After finding the possible csv file, I opened it in Excel to see if the band was there.  When I found a band I wanted in a csv file, I loaded that csv and took out just the band(s) I wanted from it. For some of the csv files, I was able to use wildcards to load several files at a time and extract more than one band from the group.~~ With just the csv files I needed to use, I could use glob to read them all into one dataframe and sort everything out from there. This file still needs work to make it more elegant, but it's a start."
   ]
  },
  {
   "cell_type": "markdown",
   "id": "8e14eec1",
   "metadata": {},
   "source": [
    "# Import all the things"
   ]
  },
  {
   "cell_type": "code",
   "execution_count": 2,
   "id": "bc7fc65a",
   "metadata": {
    "scrolled": true
   },
   "outputs": [],
   "source": [
    "# importing libraries\n",
    "import pandas as pd\n",
    "import glob\n",
    "import os"
   ]
  },
  {
   "cell_type": "code",
   "execution_count": null,
   "id": "ee2e21c9",
   "metadata": {},
   "outputs": [],
   "source": [
    "#pd.set_option('display.max_rows', None)"
   ]
  },
  {
   "cell_type": "markdown",
   "id": "caf424ce",
   "metadata": {},
   "source": [
    "# Read all csv files"
   ]
  },
  {
   "cell_type": "markdown",
   "id": "44ccd2b9",
   "metadata": {},
   "source": [
    "This will read all csv files in one folder and create one dataframe from them. Eventually, these will be uncommented."
   ]
  },
  {
   "cell_type": "code",
   "execution_count": null,
   "id": "092ce83e",
   "metadata": {},
   "outputs": [],
   "source": [
    "# merging the files\n",
    "#joined_files = os.path.join(\"*.csv\")"
   ]
  },
  {
   "cell_type": "code",
   "execution_count": null,
   "id": "3b30b46d",
   "metadata": {},
   "outputs": [],
   "source": [
    "# A list of all joined files is returned\n",
    "#joined_list = glob.glob(joined_files)"
   ]
  },
  {
   "cell_type": "code",
   "execution_count": null,
   "id": "e8fc8ccb",
   "metadata": {
    "scrolled": true
   },
   "outputs": [],
   "source": [
    "# Finally, the files are joined\n",
    "#df = pd.concat(map(pd.read_csv, joined_list), ignore_index=True)"
   ]
  },
  {
   "cell_type": "code",
   "execution_count": 3,
   "id": "a58220be",
   "metadata": {},
   "outputs": [],
   "source": [
    "track_df = pd.read_csv(r\"..\\..\\datasets\\track_ids.csv\", index_col = 0)"
   ]
  },
  {
   "cell_type": "markdown",
   "id": "15eda191",
   "metadata": {},
   "source": [
    "## Cinderella"
   ]
  },
  {
   "cell_type": "code",
   "execution_count": 4,
   "id": "c4e39260",
   "metadata": {},
   "outputs": [],
   "source": [
    "# Found in LyricsBatch20.csv"
   ]
  },
  {
   "cell_type": "code",
   "execution_count": 5,
   "id": "10195f88",
   "metadata": {},
   "outputs": [],
   "source": [
    "# merging the files\n",
    "joined_files = os.path.join(\"LyricsBatch2*.csv\")"
   ]
  },
  {
   "cell_type": "code",
   "execution_count": 6,
   "id": "1bc72ed8",
   "metadata": {},
   "outputs": [],
   "source": [
    "# A list of all joined files is returned\n",
    "joined_list = glob.glob(joined_files)"
   ]
  },
  {
   "cell_type": "code",
   "execution_count": 7,
   "id": "7baf9e8f",
   "metadata": {
    "scrolled": true
   },
   "outputs": [],
   "source": [
    "# Finally, the files are joined\n",
    "df = pd.concat(map(pd.read_csv, joined_list), ignore_index=True)"
   ]
  },
  {
   "cell_type": "code",
   "execution_count": 8,
   "id": "7f07b313",
   "metadata": {},
   "outputs": [
    {
     "data": {
      "text/html": [
       "<div>\n",
       "<style scoped>\n",
       "    .dataframe tbody tr th:only-of-type {\n",
       "        vertical-align: middle;\n",
       "    }\n",
       "\n",
       "    .dataframe tbody tr th {\n",
       "        vertical-align: top;\n",
       "    }\n",
       "\n",
       "    .dataframe thead th {\n",
       "        text-align: right;\n",
       "    }\n",
       "</style>\n",
       "<table border=\"1\" class=\"dataframe\">\n",
       "  <thead>\n",
       "    <tr style=\"text-align: right;\">\n",
       "      <th></th>\n",
       "      <th>Band</th>\n",
       "      <th>Lyrics</th>\n",
       "      <th>Song</th>\n",
       "    </tr>\n",
       "  </thead>\n",
       "  <tbody>\n",
       "    <tr>\n",
       "      <th>1071</th>\n",
       "      <td>Cinderella</td>\n",
       "      <td>I hit the road wide open at seventeen\\r\\nMama ...</td>\n",
       "      <td>Back Home Again</td>\n",
       "    </tr>\n",
       "    <tr>\n",
       "      <th>1072</th>\n",
       "      <td>Cinderella</td>\n",
       "      <td>We hang tough\\r\\nWhen the chips are low\\r\\nCan...</td>\n",
       "      <td>Hell on Wheels</td>\n",
       "    </tr>\n",
       "    <tr>\n",
       "      <th>1073</th>\n",
       "      <td>Cinderella</td>\n",
       "      <td>I've been loved and I've been shoved\\r\\nbeaten...</td>\n",
       "      <td>In from the Outside</td>\n",
       "    </tr>\n",
       "    <tr>\n",
       "      <th>1074</th>\n",
       "      <td>Cinderella</td>\n",
       "      <td>Workin' this job ain't payin' the bills\\nSick ...</td>\n",
       "      <td>Night Songs</td>\n",
       "    </tr>\n",
       "    <tr>\n",
       "      <th>1075</th>\n",
       "      <td>Cinderella</td>\n",
       "      <td>I count the falling tears\\nThey fall before my...</td>\n",
       "      <td>Nobody's Fool</td>\n",
       "    </tr>\n",
       "  </tbody>\n",
       "</table>\n",
       "</div>"
      ],
      "text/plain": [
       "            Band                                             Lyrics  \\\n",
       "1071  Cinderella  I hit the road wide open at seventeen\\r\\nMama ...   \n",
       "1072  Cinderella  We hang tough\\r\\nWhen the chips are low\\r\\nCan...   \n",
       "1073  Cinderella  I've been loved and I've been shoved\\r\\nbeaten...   \n",
       "1074  Cinderella  Workin' this job ain't payin' the bills\\nSick ...   \n",
       "1075  Cinderella  I count the falling tears\\nThey fall before my...   \n",
       "\n",
       "                     Song  \n",
       "1071      Back Home Again  \n",
       "1072       Hell on Wheels  \n",
       "1073  In from the Outside  \n",
       "1074          Night Songs  \n",
       "1075        Nobody's Fool  "
      ]
     },
     "execution_count": 8,
     "metadata": {},
     "output_type": "execute_result"
    }
   ],
   "source": [
    "cin_df = df[df[\"Band\"]==\"Cinderella\"]\n",
    "cin_df.head()"
   ]
  },
  {
   "cell_type": "code",
   "execution_count": 9,
   "id": "76bacd87",
   "metadata": {},
   "outputs": [
    {
     "name": "stderr",
     "output_type": "stream",
     "text": [
      "C:\\Users\\Stacy\\AppData\\Local\\Temp/ipykernel_7008/2093663819.py:1: SettingWithCopyWarning: \n",
      "A value is trying to be set on a copy of a slice from a DataFrame.\n",
      "Try using .loc[row_indexer,col_indexer] = value instead\n",
      "\n",
      "See the caveats in the documentation: https://pandas.pydata.org/pandas-docs/stable/user_guide/indexing.html#returning-a-view-versus-a-copy\n",
      "  cin_df['artist'] = cin_df['Band'].str.lower()\n",
      "C:\\Users\\Stacy\\AppData\\Local\\Temp/ipykernel_7008/2093663819.py:2: SettingWithCopyWarning: \n",
      "A value is trying to be set on a copy of a slice from a DataFrame.\n",
      "Try using .loc[row_indexer,col_indexer] = value instead\n",
      "\n",
      "See the caveats in the documentation: https://pandas.pydata.org/pandas-docs/stable/user_guide/indexing.html#returning-a-view-versus-a-copy\n",
      "  cin_df['title'] = cin_df['Song'].str.lower()\n"
     ]
    },
    {
     "data": {
      "text/html": [
       "<div>\n",
       "<style scoped>\n",
       "    .dataframe tbody tr th:only-of-type {\n",
       "        vertical-align: middle;\n",
       "    }\n",
       "\n",
       "    .dataframe tbody tr th {\n",
       "        vertical-align: top;\n",
       "    }\n",
       "\n",
       "    .dataframe thead th {\n",
       "        text-align: right;\n",
       "    }\n",
       "</style>\n",
       "<table border=\"1\" class=\"dataframe\">\n",
       "  <thead>\n",
       "    <tr style=\"text-align: right;\">\n",
       "      <th></th>\n",
       "      <th>Band</th>\n",
       "      <th>Lyrics</th>\n",
       "      <th>Song</th>\n",
       "      <th>artist</th>\n",
       "      <th>title</th>\n",
       "    </tr>\n",
       "  </thead>\n",
       "  <tbody>\n",
       "    <tr>\n",
       "      <th>1071</th>\n",
       "      <td>Cinderella</td>\n",
       "      <td>I hit the road wide open at seventeen\\r\\nMama ...</td>\n",
       "      <td>Back Home Again</td>\n",
       "      <td>cinderella</td>\n",
       "      <td>back home again</td>\n",
       "    </tr>\n",
       "    <tr>\n",
       "      <th>1072</th>\n",
       "      <td>Cinderella</td>\n",
       "      <td>We hang tough\\r\\nWhen the chips are low\\r\\nCan...</td>\n",
       "      <td>Hell on Wheels</td>\n",
       "      <td>cinderella</td>\n",
       "      <td>hell on wheels</td>\n",
       "    </tr>\n",
       "    <tr>\n",
       "      <th>1073</th>\n",
       "      <td>Cinderella</td>\n",
       "      <td>I've been loved and I've been shoved\\r\\nbeaten...</td>\n",
       "      <td>In from the Outside</td>\n",
       "      <td>cinderella</td>\n",
       "      <td>in from the outside</td>\n",
       "    </tr>\n",
       "    <tr>\n",
       "      <th>1074</th>\n",
       "      <td>Cinderella</td>\n",
       "      <td>Workin' this job ain't payin' the bills\\nSick ...</td>\n",
       "      <td>Night Songs</td>\n",
       "      <td>cinderella</td>\n",
       "      <td>night songs</td>\n",
       "    </tr>\n",
       "    <tr>\n",
       "      <th>1075</th>\n",
       "      <td>Cinderella</td>\n",
       "      <td>I count the falling tears\\nThey fall before my...</td>\n",
       "      <td>Nobody's Fool</td>\n",
       "      <td>cinderella</td>\n",
       "      <td>nobody's fool</td>\n",
       "    </tr>\n",
       "    <tr>\n",
       "      <th>1076</th>\n",
       "      <td>Cinderella</td>\n",
       "      <td>When you see your face in the mirror\\nDoes it ...</td>\n",
       "      <td>Nothin' for Nothin'</td>\n",
       "      <td>cinderella</td>\n",
       "      <td>nothin' for nothin'</td>\n",
       "    </tr>\n",
       "    <tr>\n",
       "      <th>1077</th>\n",
       "      <td>Cinderella</td>\n",
       "      <td>See me, feel me, come and touch me\\r\\nThe way ...</td>\n",
       "      <td>Once Around the Ride</td>\n",
       "      <td>cinderella</td>\n",
       "      <td>once around the ride</td>\n",
       "    </tr>\n",
       "    <tr>\n",
       "      <th>1078</th>\n",
       "      <td>Cinderella</td>\n",
       "      <td>I'm gettin' hot\\r\\nI've got to give a shot\\r\\n...</td>\n",
       "      <td>Push, Push</td>\n",
       "      <td>cinderella</td>\n",
       "      <td>push, push</td>\n",
       "    </tr>\n",
       "    <tr>\n",
       "      <th>1079</th>\n",
       "      <td>Cinderella</td>\n",
       "      <td>Alright, yeah\\r\\n\\r\\nI met this girl around qu...</td>\n",
       "      <td>Shake Me</td>\n",
       "      <td>cinderella</td>\n",
       "      <td>shake me</td>\n",
       "    </tr>\n",
       "    <tr>\n",
       "      <th>1080</th>\n",
       "      <td>Cinderella</td>\n",
       "      <td>When I was a young boy\\nThey said you're only ...</td>\n",
       "      <td>Somebody Save Me</td>\n",
       "      <td>cinderella</td>\n",
       "      <td>somebody save me</td>\n",
       "    </tr>\n",
       "    <tr>\n",
       "      <th>1081</th>\n",
       "      <td>Cinderella</td>\n",
       "      <td>I took a walk down a road it's the road I was ...</td>\n",
       "      <td>Coming Home</td>\n",
       "      <td>cinderella</td>\n",
       "      <td>coming home</td>\n",
       "    </tr>\n",
       "    <tr>\n",
       "      <th>1082</th>\n",
       "      <td>Cinderella</td>\n",
       "      <td>And do ya feel like I feel\\r\\nWhen I want you ...</td>\n",
       "      <td>Fire and Ice</td>\n",
       "      <td>cinderella</td>\n",
       "      <td>fire and ice</td>\n",
       "    </tr>\n",
       "    <tr>\n",
       "      <th>1083</th>\n",
       "      <td>Cinderella</td>\n",
       "      <td>I don't need anyone\\r\\nTo tell me how to run m...</td>\n",
       "      <td>If You Don't Like It</td>\n",
       "      <td>cinderella</td>\n",
       "      <td>if you don't like it</td>\n",
       "    </tr>\n",
       "    <tr>\n",
       "      <th>1084</th>\n",
       "      <td>Cinderella</td>\n",
       "      <td>Oh\\r\\n\\r\\nOh yeah!\\r\\n\\r\\nMe and Billy boy and...</td>\n",
       "      <td>The Last Mile</td>\n",
       "      <td>cinderella</td>\n",
       "      <td>the last mile</td>\n",
       "    </tr>\n",
       "    <tr>\n",
       "      <th>1085</th>\n",
       "      <td>Cinderella</td>\n",
       "      <td>I've been down\\r\\nI've been cryin' in the dead...</td>\n",
       "      <td>Long Cold Winter</td>\n",
       "      <td>cinderella</td>\n",
       "      <td>long cold winter</td>\n",
       "    </tr>\n",
       "    <tr>\n",
       "      <th>1086</th>\n",
       "      <td>Cinderella</td>\n",
       "      <td>Lightning strikes before my eyes\\r\\nMakes them...</td>\n",
       "      <td>Second Wind</td>\n",
       "      <td>cinderella</td>\n",
       "      <td>second wind</td>\n",
       "    </tr>\n",
       "    <tr>\n",
       "      <th>1087</th>\n",
       "      <td>Cinderella</td>\n",
       "      <td>I walked alone my heart a little colder\\r\\nTry...</td>\n",
       "      <td>Take Me Back</td>\n",
       "      <td>cinderella</td>\n",
       "      <td>take me back</td>\n",
       "    </tr>\n",
       "    <tr>\n",
       "      <th>1088</th>\n",
       "      <td>Cinderella</td>\n",
       "      <td>When I was young, old man sat me on his knee\\r...</td>\n",
       "      <td>Dead Man's Road</td>\n",
       "      <td>cinderella</td>\n",
       "      <td>dead man's road</td>\n",
       "    </tr>\n",
       "    <tr>\n",
       "      <th>1089</th>\n",
       "      <td>Cinderella</td>\n",
       "      <td>When I was down\\r\\nAn angel came to me\\r\\nAnd ...</td>\n",
       "      <td>Electric Love</td>\n",
       "      <td>cinderella</td>\n",
       "      <td>electric love</td>\n",
       "    </tr>\n",
       "    <tr>\n",
       "      <th>1090</th>\n",
       "      <td>Cinderella</td>\n",
       "      <td>Waiting at the station\\r\\nTears filling up my ...</td>\n",
       "      <td>Heartbreak Station</td>\n",
       "      <td>cinderella</td>\n",
       "      <td>heartbreak station</td>\n",
       "    </tr>\n",
       "    <tr>\n",
       "      <th>1091</th>\n",
       "      <td>Cinderella</td>\n",
       "      <td>If I hear you stalkin'\\r\\nLooking for sympathy...</td>\n",
       "      <td>Love Gone Bad</td>\n",
       "      <td>cinderella</td>\n",
       "      <td>love gone bad</td>\n",
       "    </tr>\n",
       "    <tr>\n",
       "      <th>1092</th>\n",
       "      <td>Cinderella</td>\n",
       "      <td>Born and raised in a one dog town\\r\\nThat neve...</td>\n",
       "      <td>Make Your Own Way</td>\n",
       "      <td>cinderella</td>\n",
       "      <td>make your own way</td>\n",
       "    </tr>\n",
       "    <tr>\n",
       "      <th>1093</th>\n",
       "      <td>Cinderella</td>\n",
       "      <td>Woke up this morning on the wrong side of bed\\...</td>\n",
       "      <td>The More Things Change</td>\n",
       "      <td>cinderella</td>\n",
       "      <td>the more things change</td>\n",
       "    </tr>\n",
       "    <tr>\n",
       "      <th>1094</th>\n",
       "      <td>Cinderella</td>\n",
       "      <td>I was born on the dawn of a new society\\r\\nAnd...</td>\n",
       "      <td>One for Rock and Roll</td>\n",
       "      <td>cinderella</td>\n",
       "      <td>one for rock and roll</td>\n",
       "    </tr>\n",
       "    <tr>\n",
       "      <th>1095</th>\n",
       "      <td>Cinderella</td>\n",
       "      <td>There used to be a time when I thought I had t...</td>\n",
       "      <td>Sick for the Cure</td>\n",
       "      <td>cinderella</td>\n",
       "      <td>sick for the cure</td>\n",
       "    </tr>\n",
       "    <tr>\n",
       "      <th>1096</th>\n",
       "      <td>Cinderella</td>\n",
       "      <td>I look into the mirror\\r\\nCan almost count the...</td>\n",
       "      <td>Winds of Change</td>\n",
       "      <td>cinderella</td>\n",
       "      <td>winds of change</td>\n",
       "    </tr>\n",
       "    <tr>\n",
       "      <th>1097</th>\n",
       "      <td>Cinderella</td>\n",
       "      <td>I used to be now I'm not what you see, lord I ...</td>\n",
       "      <td>Gypsy Road [DVD]</td>\n",
       "      <td>cinderella</td>\n",
       "      <td>gypsy road [dvd]</td>\n",
       "    </tr>\n",
       "    <tr>\n",
       "      <th>1098</th>\n",
       "      <td>Cinderella</td>\n",
       "      <td>Everybody thinks it's so easy\\r\\nEverybody thi...</td>\n",
       "      <td>All Comes Down</td>\n",
       "      <td>cinderella</td>\n",
       "      <td>all comes down</td>\n",
       "    </tr>\n",
       "    <tr>\n",
       "      <th>1099</th>\n",
       "      <td>Cinderella</td>\n",
       "      <td>When I get up in the morning\\r\\nGot a world of...</td>\n",
       "      <td>Bad Attitude Shuffle</td>\n",
       "      <td>cinderella</td>\n",
       "      <td>bad attitude shuffle</td>\n",
       "    </tr>\n",
       "    <tr>\n",
       "      <th>1100</th>\n",
       "      <td>Cinderella</td>\n",
       "      <td>Well I've been walkin'\\r\\nDown a one way dirty...</td>\n",
       "      <td>Blood from a Stone</td>\n",
       "      <td>cinderella</td>\n",
       "      <td>blood from a stone</td>\n",
       "    </tr>\n",
       "    <tr>\n",
       "      <th>1101</th>\n",
       "      <td>Cinderella</td>\n",
       "      <td>I¹m running free\\r\\nBut I ain¹t got no time to...</td>\n",
       "      <td>Easy Come, Easy Go</td>\n",
       "      <td>cinderella</td>\n",
       "      <td>easy come, easy go</td>\n",
       "    </tr>\n",
       "    <tr>\n",
       "      <th>1102</th>\n",
       "      <td>Cinderella</td>\n",
       "      <td>You say I get around but\\r\\nI'm gonna hit the ...</td>\n",
       "      <td>Freewheelin'</td>\n",
       "      <td>cinderella</td>\n",
       "      <td>freewheelin'</td>\n",
       "    </tr>\n",
       "    <tr>\n",
       "      <th>1103</th>\n",
       "      <td>Cinderella</td>\n",
       "      <td>Mama sometimes I feel inside\\r\\nThere's nothin...</td>\n",
       "      <td>Hard to Find the Words</td>\n",
       "      <td>cinderella</td>\n",
       "      <td>hard to find the words</td>\n",
       "    </tr>\n",
       "    <tr>\n",
       "      <th>1104</th>\n",
       "      <td>Cinderella</td>\n",
       "      <td>You got me jumpin' right out of my skin\\r\\nYou...</td>\n",
       "      <td>Hot and Bothered</td>\n",
       "      <td>cinderella</td>\n",
       "      <td>hot and bothered</td>\n",
       "    </tr>\n",
       "    <tr>\n",
       "      <th>1105</th>\n",
       "      <td>Cinderella</td>\n",
       "      <td>Growing up as a young boy\\nSometimes can be ro...</td>\n",
       "      <td>The Road's Still Long</td>\n",
       "      <td>cinderella</td>\n",
       "      <td>the road's still long</td>\n",
       "    </tr>\n",
       "    <tr>\n",
       "      <th>1106</th>\n",
       "      <td>Cinderella</td>\n",
       "      <td>I see people walking down the street\\r\\nGot th...</td>\n",
       "      <td>Still Climbing</td>\n",
       "      <td>cinderella</td>\n",
       "      <td>still climbing</td>\n",
       "    </tr>\n",
       "    <tr>\n",
       "      <th>1107</th>\n",
       "      <td>Cinderella</td>\n",
       "      <td>You're wearing out your welcome wagon\\r\\nScrap...</td>\n",
       "      <td>Talk Is Cheap</td>\n",
       "      <td>cinderella</td>\n",
       "      <td>talk is cheap</td>\n",
       "    </tr>\n",
       "    <tr>\n",
       "      <th>1108</th>\n",
       "      <td>Cinderella</td>\n",
       "      <td>I know it's hard\\r\\nIn a world gone mad\\r\\nTo ...</td>\n",
       "      <td>Through the Rain</td>\n",
       "      <td>cinderella</td>\n",
       "      <td>through the rain</td>\n",
       "    </tr>\n",
       "    <tr>\n",
       "      <th>1109</th>\n",
       "      <td>Cinderella</td>\n",
       "      <td>Pull on up\\r\\nTo the soapbox stool\\r\\nLet me t...</td>\n",
       "      <td>War Stories</td>\n",
       "      <td>cinderella</td>\n",
       "      <td>war stories</td>\n",
       "    </tr>\n",
       "    <tr>\n",
       "      <th>1110</th>\n",
       "      <td>Cinderella</td>\n",
       "      <td>Old man looks much younger now\\nHe lost his st...</td>\n",
       "      <td>Fallin' Apart at the Seams</td>\n",
       "      <td>cinderella</td>\n",
       "      <td>fallin' apart at the seams</td>\n",
       "    </tr>\n",
       "    <tr>\n",
       "      <th>1111</th>\n",
       "      <td>Cinderella</td>\n",
       "      <td>Workin this job ain't payin the bills\\r\\nSick ...</td>\n",
       "      <td>Night Songs [DVD]</td>\n",
       "      <td>cinderella</td>\n",
       "      <td>night songs [dvd]</td>\n",
       "    </tr>\n",
       "    <tr>\n",
       "      <th>1112</th>\n",
       "      <td>Cinderella</td>\n",
       "      <td>I took a walk down a road it's the road I was ...</td>\n",
       "      <td>Coming Home [DVD]</td>\n",
       "      <td>cinderella</td>\n",
       "      <td>coming home [dvd]</td>\n",
       "    </tr>\n",
       "    <tr>\n",
       "      <th>1113</th>\n",
       "      <td>Cinderella</td>\n",
       "      <td>Waiting at the station\\r\\nTears filling up my ...</td>\n",
       "      <td>Heartbreak Station [DVD]</td>\n",
       "      <td>cinderella</td>\n",
       "      <td>heartbreak station [dvd]</td>\n",
       "    </tr>\n",
       "    <tr>\n",
       "      <th>1114</th>\n",
       "      <td>Cinderella</td>\n",
       "      <td>I can't tell ya baby what went wrong\\r\\nI can'...</td>\n",
       "      <td>Don't Know What You Got ('Til It's Gone)</td>\n",
       "      <td>cinderella</td>\n",
       "      <td>don't know what you got ('til it's gone)</td>\n",
       "    </tr>\n",
       "    <tr>\n",
       "      <th>1115</th>\n",
       "      <td>Cinderella</td>\n",
       "      <td>When I was a young boy\\r\\nThey said you're onl...</td>\n",
       "      <td>Somebody Save Me [Live][#]</td>\n",
       "      <td>cinderella</td>\n",
       "      <td>somebody save me [live][#]</td>\n",
       "    </tr>\n",
       "    <tr>\n",
       "      <th>1116</th>\n",
       "      <td>Cinderella</td>\n",
       "      <td>I took a walk down a road it's the road I was ...</td>\n",
       "      <td>Coming Home [Live]</td>\n",
       "      <td>cinderella</td>\n",
       "      <td>coming home [live]</td>\n",
       "    </tr>\n",
       "    <tr>\n",
       "      <th>1117</th>\n",
       "      <td>Cinderella</td>\n",
       "      <td>Alright, yeah\\r\\n\\r\\nI met this girl around qu...</td>\n",
       "      <td>Shake Me [Live]</td>\n",
       "      <td>cinderella</td>\n",
       "      <td>shake me [live]</td>\n",
       "    </tr>\n",
       "  </tbody>\n",
       "</table>\n",
       "</div>"
      ],
      "text/plain": [
       "            Band                                             Lyrics  \\\n",
       "1071  Cinderella  I hit the road wide open at seventeen\\r\\nMama ...   \n",
       "1072  Cinderella  We hang tough\\r\\nWhen the chips are low\\r\\nCan...   \n",
       "1073  Cinderella  I've been loved and I've been shoved\\r\\nbeaten...   \n",
       "1074  Cinderella  Workin' this job ain't payin' the bills\\nSick ...   \n",
       "1075  Cinderella  I count the falling tears\\nThey fall before my...   \n",
       "1076  Cinderella  When you see your face in the mirror\\nDoes it ...   \n",
       "1077  Cinderella  See me, feel me, come and touch me\\r\\nThe way ...   \n",
       "1078  Cinderella  I'm gettin' hot\\r\\nI've got to give a shot\\r\\n...   \n",
       "1079  Cinderella  Alright, yeah\\r\\n\\r\\nI met this girl around qu...   \n",
       "1080  Cinderella  When I was a young boy\\nThey said you're only ...   \n",
       "1081  Cinderella  I took a walk down a road it's the road I was ...   \n",
       "1082  Cinderella  And do ya feel like I feel\\r\\nWhen I want you ...   \n",
       "1083  Cinderella  I don't need anyone\\r\\nTo tell me how to run m...   \n",
       "1084  Cinderella  Oh\\r\\n\\r\\nOh yeah!\\r\\n\\r\\nMe and Billy boy and...   \n",
       "1085  Cinderella  I've been down\\r\\nI've been cryin' in the dead...   \n",
       "1086  Cinderella  Lightning strikes before my eyes\\r\\nMakes them...   \n",
       "1087  Cinderella  I walked alone my heart a little colder\\r\\nTry...   \n",
       "1088  Cinderella  When I was young, old man sat me on his knee\\r...   \n",
       "1089  Cinderella  When I was down\\r\\nAn angel came to me\\r\\nAnd ...   \n",
       "1090  Cinderella  Waiting at the station\\r\\nTears filling up my ...   \n",
       "1091  Cinderella  If I hear you stalkin'\\r\\nLooking for sympathy...   \n",
       "1092  Cinderella  Born and raised in a one dog town\\r\\nThat neve...   \n",
       "1093  Cinderella  Woke up this morning on the wrong side of bed\\...   \n",
       "1094  Cinderella  I was born on the dawn of a new society\\r\\nAnd...   \n",
       "1095  Cinderella  There used to be a time when I thought I had t...   \n",
       "1096  Cinderella  I look into the mirror\\r\\nCan almost count the...   \n",
       "1097  Cinderella  I used to be now I'm not what you see, lord I ...   \n",
       "1098  Cinderella  Everybody thinks it's so easy\\r\\nEverybody thi...   \n",
       "1099  Cinderella  When I get up in the morning\\r\\nGot a world of...   \n",
       "1100  Cinderella  Well I've been walkin'\\r\\nDown a one way dirty...   \n",
       "1101  Cinderella  I¹m running free\\r\\nBut I ain¹t got no time to...   \n",
       "1102  Cinderella  You say I get around but\\r\\nI'm gonna hit the ...   \n",
       "1103  Cinderella  Mama sometimes I feel inside\\r\\nThere's nothin...   \n",
       "1104  Cinderella  You got me jumpin' right out of my skin\\r\\nYou...   \n",
       "1105  Cinderella  Growing up as a young boy\\nSometimes can be ro...   \n",
       "1106  Cinderella  I see people walking down the street\\r\\nGot th...   \n",
       "1107  Cinderella  You're wearing out your welcome wagon\\r\\nScrap...   \n",
       "1108  Cinderella  I know it's hard\\r\\nIn a world gone mad\\r\\nTo ...   \n",
       "1109  Cinderella  Pull on up\\r\\nTo the soapbox stool\\r\\nLet me t...   \n",
       "1110  Cinderella  Old man looks much younger now\\nHe lost his st...   \n",
       "1111  Cinderella  Workin this job ain't payin the bills\\r\\nSick ...   \n",
       "1112  Cinderella  I took a walk down a road it's the road I was ...   \n",
       "1113  Cinderella  Waiting at the station\\r\\nTears filling up my ...   \n",
       "1114  Cinderella  I can't tell ya baby what went wrong\\r\\nI can'...   \n",
       "1115  Cinderella  When I was a young boy\\r\\nThey said you're onl...   \n",
       "1116  Cinderella  I took a walk down a road it's the road I was ...   \n",
       "1117  Cinderella  Alright, yeah\\r\\n\\r\\nI met this girl around qu...   \n",
       "\n",
       "                                          Song      artist  \\\n",
       "1071                           Back Home Again  cinderella   \n",
       "1072                            Hell on Wheels  cinderella   \n",
       "1073                       In from the Outside  cinderella   \n",
       "1074                               Night Songs  cinderella   \n",
       "1075                             Nobody's Fool  cinderella   \n",
       "1076                       Nothin' for Nothin'  cinderella   \n",
       "1077                      Once Around the Ride  cinderella   \n",
       "1078                                Push, Push  cinderella   \n",
       "1079                                  Shake Me  cinderella   \n",
       "1080                          Somebody Save Me  cinderella   \n",
       "1081                               Coming Home  cinderella   \n",
       "1082                              Fire and Ice  cinderella   \n",
       "1083                      If You Don't Like It  cinderella   \n",
       "1084                             The Last Mile  cinderella   \n",
       "1085                          Long Cold Winter  cinderella   \n",
       "1086                               Second Wind  cinderella   \n",
       "1087                              Take Me Back  cinderella   \n",
       "1088                           Dead Man's Road  cinderella   \n",
       "1089                             Electric Love  cinderella   \n",
       "1090                        Heartbreak Station  cinderella   \n",
       "1091                             Love Gone Bad  cinderella   \n",
       "1092                         Make Your Own Way  cinderella   \n",
       "1093                    The More Things Change  cinderella   \n",
       "1094                     One for Rock and Roll  cinderella   \n",
       "1095                         Sick for the Cure  cinderella   \n",
       "1096                           Winds of Change  cinderella   \n",
       "1097                          Gypsy Road [DVD]  cinderella   \n",
       "1098                            All Comes Down  cinderella   \n",
       "1099                      Bad Attitude Shuffle  cinderella   \n",
       "1100                        Blood from a Stone  cinderella   \n",
       "1101                        Easy Come, Easy Go  cinderella   \n",
       "1102                              Freewheelin'  cinderella   \n",
       "1103                    Hard to Find the Words  cinderella   \n",
       "1104                          Hot and Bothered  cinderella   \n",
       "1105                     The Road's Still Long  cinderella   \n",
       "1106                            Still Climbing  cinderella   \n",
       "1107                             Talk Is Cheap  cinderella   \n",
       "1108                          Through the Rain  cinderella   \n",
       "1109                               War Stories  cinderella   \n",
       "1110                Fallin' Apart at the Seams  cinderella   \n",
       "1111                         Night Songs [DVD]  cinderella   \n",
       "1112                         Coming Home [DVD]  cinderella   \n",
       "1113                  Heartbreak Station [DVD]  cinderella   \n",
       "1114  Don't Know What You Got ('Til It's Gone)  cinderella   \n",
       "1115                Somebody Save Me [Live][#]  cinderella   \n",
       "1116                        Coming Home [Live]  cinderella   \n",
       "1117                           Shake Me [Live]  cinderella   \n",
       "\n",
       "                                         title  \n",
       "1071                           back home again  \n",
       "1072                            hell on wheels  \n",
       "1073                       in from the outside  \n",
       "1074                               night songs  \n",
       "1075                             nobody's fool  \n",
       "1076                       nothin' for nothin'  \n",
       "1077                      once around the ride  \n",
       "1078                                push, push  \n",
       "1079                                  shake me  \n",
       "1080                          somebody save me  \n",
       "1081                               coming home  \n",
       "1082                              fire and ice  \n",
       "1083                      if you don't like it  \n",
       "1084                             the last mile  \n",
       "1085                          long cold winter  \n",
       "1086                               second wind  \n",
       "1087                              take me back  \n",
       "1088                           dead man's road  \n",
       "1089                             electric love  \n",
       "1090                        heartbreak station  \n",
       "1091                             love gone bad  \n",
       "1092                         make your own way  \n",
       "1093                    the more things change  \n",
       "1094                     one for rock and roll  \n",
       "1095                         sick for the cure  \n",
       "1096                           winds of change  \n",
       "1097                          gypsy road [dvd]  \n",
       "1098                            all comes down  \n",
       "1099                      bad attitude shuffle  \n",
       "1100                        blood from a stone  \n",
       "1101                        easy come, easy go  \n",
       "1102                              freewheelin'  \n",
       "1103                    hard to find the words  \n",
       "1104                          hot and bothered  \n",
       "1105                     the road's still long  \n",
       "1106                            still climbing  \n",
       "1107                             talk is cheap  \n",
       "1108                          through the rain  \n",
       "1109                               war stories  \n",
       "1110                fallin' apart at the seams  \n",
       "1111                         night songs [dvd]  \n",
       "1112                         coming home [dvd]  \n",
       "1113                  heartbreak station [dvd]  \n",
       "1114  don't know what you got ('til it's gone)  \n",
       "1115                somebody save me [live][#]  \n",
       "1116                        coming home [live]  \n",
       "1117                           shake me [live]  "
      ]
     },
     "execution_count": 9,
     "metadata": {},
     "output_type": "execute_result"
    }
   ],
   "source": [
    "cin_df['artist'] = cin_df['Band'].str.lower()\n",
    "cin_df['title'] = cin_df['Song'].str.lower()\n",
    "cin_df"
   ]
  },
  {
   "cell_type": "code",
   "execution_count": 11,
   "id": "d483c19d",
   "metadata": {
    "scrolled": true
   },
   "outputs": [
    {
     "data": {
      "text/html": [
       "<div>\n",
       "<style scoped>\n",
       "    .dataframe tbody tr th:only-of-type {\n",
       "        vertical-align: middle;\n",
       "    }\n",
       "\n",
       "    .dataframe tbody tr th {\n",
       "        vertical-align: top;\n",
       "    }\n",
       "\n",
       "    .dataframe thead th {\n",
       "        text-align: right;\n",
       "    }\n",
       "</style>\n",
       "<table border=\"1\" class=\"dataframe\">\n",
       "  <thead>\n",
       "    <tr style=\"text-align: right;\">\n",
       "      <th></th>\n",
       "      <th>Lyrics</th>\n",
       "      <th>artist</th>\n",
       "      <th>title</th>\n",
       "    </tr>\n",
       "  </thead>\n",
       "  <tbody>\n",
       "    <tr>\n",
       "      <th>1071</th>\n",
       "      <td>I hit the road wide open at seventeen\\r\\nMama ...</td>\n",
       "      <td>cinderella</td>\n",
       "      <td>back home again</td>\n",
       "    </tr>\n",
       "    <tr>\n",
       "      <th>1072</th>\n",
       "      <td>We hang tough\\r\\nWhen the chips are low\\r\\nCan...</td>\n",
       "      <td>cinderella</td>\n",
       "      <td>hell on wheels</td>\n",
       "    </tr>\n",
       "    <tr>\n",
       "      <th>1073</th>\n",
       "      <td>I've been loved and I've been shoved\\r\\nbeaten...</td>\n",
       "      <td>cinderella</td>\n",
       "      <td>in from the outside</td>\n",
       "    </tr>\n",
       "    <tr>\n",
       "      <th>1074</th>\n",
       "      <td>Workin' this job ain't payin' the bills\\nSick ...</td>\n",
       "      <td>cinderella</td>\n",
       "      <td>night songs</td>\n",
       "    </tr>\n",
       "    <tr>\n",
       "      <th>1075</th>\n",
       "      <td>I count the falling tears\\nThey fall before my...</td>\n",
       "      <td>cinderella</td>\n",
       "      <td>nobody's fool</td>\n",
       "    </tr>\n",
       "    <tr>\n",
       "      <th>1076</th>\n",
       "      <td>When you see your face in the mirror\\nDoes it ...</td>\n",
       "      <td>cinderella</td>\n",
       "      <td>nothin' for nothin'</td>\n",
       "    </tr>\n",
       "    <tr>\n",
       "      <th>1077</th>\n",
       "      <td>See me, feel me, come and touch me\\r\\nThe way ...</td>\n",
       "      <td>cinderella</td>\n",
       "      <td>once around the ride</td>\n",
       "    </tr>\n",
       "    <tr>\n",
       "      <th>1078</th>\n",
       "      <td>I'm gettin' hot\\r\\nI've got to give a shot\\r\\n...</td>\n",
       "      <td>cinderella</td>\n",
       "      <td>push, push</td>\n",
       "    </tr>\n",
       "    <tr>\n",
       "      <th>1079</th>\n",
       "      <td>Alright, yeah\\r\\n\\r\\nI met this girl around qu...</td>\n",
       "      <td>cinderella</td>\n",
       "      <td>shake me</td>\n",
       "    </tr>\n",
       "    <tr>\n",
       "      <th>1080</th>\n",
       "      <td>When I was a young boy\\nThey said you're only ...</td>\n",
       "      <td>cinderella</td>\n",
       "      <td>somebody save me</td>\n",
       "    </tr>\n",
       "    <tr>\n",
       "      <th>1081</th>\n",
       "      <td>I took a walk down a road it's the road I was ...</td>\n",
       "      <td>cinderella</td>\n",
       "      <td>coming home</td>\n",
       "    </tr>\n",
       "    <tr>\n",
       "      <th>1082</th>\n",
       "      <td>And do ya feel like I feel\\r\\nWhen I want you ...</td>\n",
       "      <td>cinderella</td>\n",
       "      <td>fire and ice</td>\n",
       "    </tr>\n",
       "    <tr>\n",
       "      <th>1083</th>\n",
       "      <td>I don't need anyone\\r\\nTo tell me how to run m...</td>\n",
       "      <td>cinderella</td>\n",
       "      <td>if you don't like it</td>\n",
       "    </tr>\n",
       "    <tr>\n",
       "      <th>1084</th>\n",
       "      <td>Oh\\r\\n\\r\\nOh yeah!\\r\\n\\r\\nMe and Billy boy and...</td>\n",
       "      <td>cinderella</td>\n",
       "      <td>the last mile</td>\n",
       "    </tr>\n",
       "    <tr>\n",
       "      <th>1085</th>\n",
       "      <td>I've been down\\r\\nI've been cryin' in the dead...</td>\n",
       "      <td>cinderella</td>\n",
       "      <td>long cold winter</td>\n",
       "    </tr>\n",
       "    <tr>\n",
       "      <th>1086</th>\n",
       "      <td>Lightning strikes before my eyes\\r\\nMakes them...</td>\n",
       "      <td>cinderella</td>\n",
       "      <td>second wind</td>\n",
       "    </tr>\n",
       "    <tr>\n",
       "      <th>1087</th>\n",
       "      <td>I walked alone my heart a little colder\\r\\nTry...</td>\n",
       "      <td>cinderella</td>\n",
       "      <td>take me back</td>\n",
       "    </tr>\n",
       "    <tr>\n",
       "      <th>1088</th>\n",
       "      <td>When I was young, old man sat me on his knee\\r...</td>\n",
       "      <td>cinderella</td>\n",
       "      <td>dead man's road</td>\n",
       "    </tr>\n",
       "    <tr>\n",
       "      <th>1089</th>\n",
       "      <td>When I was down\\r\\nAn angel came to me\\r\\nAnd ...</td>\n",
       "      <td>cinderella</td>\n",
       "      <td>electric love</td>\n",
       "    </tr>\n",
       "    <tr>\n",
       "      <th>1090</th>\n",
       "      <td>Waiting at the station\\r\\nTears filling up my ...</td>\n",
       "      <td>cinderella</td>\n",
       "      <td>heartbreak station</td>\n",
       "    </tr>\n",
       "    <tr>\n",
       "      <th>1091</th>\n",
       "      <td>If I hear you stalkin'\\r\\nLooking for sympathy...</td>\n",
       "      <td>cinderella</td>\n",
       "      <td>love gone bad</td>\n",
       "    </tr>\n",
       "    <tr>\n",
       "      <th>1092</th>\n",
       "      <td>Born and raised in a one dog town\\r\\nThat neve...</td>\n",
       "      <td>cinderella</td>\n",
       "      <td>make your own way</td>\n",
       "    </tr>\n",
       "    <tr>\n",
       "      <th>1093</th>\n",
       "      <td>Woke up this morning on the wrong side of bed\\...</td>\n",
       "      <td>cinderella</td>\n",
       "      <td>the more things change</td>\n",
       "    </tr>\n",
       "    <tr>\n",
       "      <th>1094</th>\n",
       "      <td>I was born on the dawn of a new society\\r\\nAnd...</td>\n",
       "      <td>cinderella</td>\n",
       "      <td>one for rock and roll</td>\n",
       "    </tr>\n",
       "    <tr>\n",
       "      <th>1095</th>\n",
       "      <td>There used to be a time when I thought I had t...</td>\n",
       "      <td>cinderella</td>\n",
       "      <td>sick for the cure</td>\n",
       "    </tr>\n",
       "    <tr>\n",
       "      <th>1096</th>\n",
       "      <td>I look into the mirror\\r\\nCan almost count the...</td>\n",
       "      <td>cinderella</td>\n",
       "      <td>winds of change</td>\n",
       "    </tr>\n",
       "    <tr>\n",
       "      <th>1097</th>\n",
       "      <td>I used to be now I'm not what you see, lord I ...</td>\n",
       "      <td>cinderella</td>\n",
       "      <td>gypsy road [dvd]</td>\n",
       "    </tr>\n",
       "    <tr>\n",
       "      <th>1098</th>\n",
       "      <td>Everybody thinks it's so easy\\r\\nEverybody thi...</td>\n",
       "      <td>cinderella</td>\n",
       "      <td>all comes down</td>\n",
       "    </tr>\n",
       "    <tr>\n",
       "      <th>1099</th>\n",
       "      <td>When I get up in the morning\\r\\nGot a world of...</td>\n",
       "      <td>cinderella</td>\n",
       "      <td>bad attitude shuffle</td>\n",
       "    </tr>\n",
       "    <tr>\n",
       "      <th>1100</th>\n",
       "      <td>Well I've been walkin'\\r\\nDown a one way dirty...</td>\n",
       "      <td>cinderella</td>\n",
       "      <td>blood from a stone</td>\n",
       "    </tr>\n",
       "    <tr>\n",
       "      <th>1101</th>\n",
       "      <td>I¹m running free\\r\\nBut I ain¹t got no time to...</td>\n",
       "      <td>cinderella</td>\n",
       "      <td>easy come, easy go</td>\n",
       "    </tr>\n",
       "    <tr>\n",
       "      <th>1102</th>\n",
       "      <td>You say I get around but\\r\\nI'm gonna hit the ...</td>\n",
       "      <td>cinderella</td>\n",
       "      <td>freewheelin'</td>\n",
       "    </tr>\n",
       "    <tr>\n",
       "      <th>1103</th>\n",
       "      <td>Mama sometimes I feel inside\\r\\nThere's nothin...</td>\n",
       "      <td>cinderella</td>\n",
       "      <td>hard to find the words</td>\n",
       "    </tr>\n",
       "    <tr>\n",
       "      <th>1104</th>\n",
       "      <td>You got me jumpin' right out of my skin\\r\\nYou...</td>\n",
       "      <td>cinderella</td>\n",
       "      <td>hot and bothered</td>\n",
       "    </tr>\n",
       "    <tr>\n",
       "      <th>1105</th>\n",
       "      <td>Growing up as a young boy\\nSometimes can be ro...</td>\n",
       "      <td>cinderella</td>\n",
       "      <td>the road's still long</td>\n",
       "    </tr>\n",
       "    <tr>\n",
       "      <th>1106</th>\n",
       "      <td>I see people walking down the street\\r\\nGot th...</td>\n",
       "      <td>cinderella</td>\n",
       "      <td>still climbing</td>\n",
       "    </tr>\n",
       "    <tr>\n",
       "      <th>1107</th>\n",
       "      <td>You're wearing out your welcome wagon\\r\\nScrap...</td>\n",
       "      <td>cinderella</td>\n",
       "      <td>talk is cheap</td>\n",
       "    </tr>\n",
       "    <tr>\n",
       "      <th>1108</th>\n",
       "      <td>I know it's hard\\r\\nIn a world gone mad\\r\\nTo ...</td>\n",
       "      <td>cinderella</td>\n",
       "      <td>through the rain</td>\n",
       "    </tr>\n",
       "    <tr>\n",
       "      <th>1109</th>\n",
       "      <td>Pull on up\\r\\nTo the soapbox stool\\r\\nLet me t...</td>\n",
       "      <td>cinderella</td>\n",
       "      <td>war stories</td>\n",
       "    </tr>\n",
       "    <tr>\n",
       "      <th>1110</th>\n",
       "      <td>Old man looks much younger now\\nHe lost his st...</td>\n",
       "      <td>cinderella</td>\n",
       "      <td>fallin' apart at the seams</td>\n",
       "    </tr>\n",
       "    <tr>\n",
       "      <th>1111</th>\n",
       "      <td>Workin this job ain't payin the bills\\r\\nSick ...</td>\n",
       "      <td>cinderella</td>\n",
       "      <td>night songs [dvd]</td>\n",
       "    </tr>\n",
       "    <tr>\n",
       "      <th>1112</th>\n",
       "      <td>I took a walk down a road it's the road I was ...</td>\n",
       "      <td>cinderella</td>\n",
       "      <td>coming home [dvd]</td>\n",
       "    </tr>\n",
       "    <tr>\n",
       "      <th>1113</th>\n",
       "      <td>Waiting at the station\\r\\nTears filling up my ...</td>\n",
       "      <td>cinderella</td>\n",
       "      <td>heartbreak station [dvd]</td>\n",
       "    </tr>\n",
       "    <tr>\n",
       "      <th>1114</th>\n",
       "      <td>I can't tell ya baby what went wrong\\r\\nI can'...</td>\n",
       "      <td>cinderella</td>\n",
       "      <td>don't know what you got ('til it's gone)</td>\n",
       "    </tr>\n",
       "    <tr>\n",
       "      <th>1115</th>\n",
       "      <td>When I was a young boy\\r\\nThey said you're onl...</td>\n",
       "      <td>cinderella</td>\n",
       "      <td>somebody save me [live][#]</td>\n",
       "    </tr>\n",
       "    <tr>\n",
       "      <th>1116</th>\n",
       "      <td>I took a walk down a road it's the road I was ...</td>\n",
       "      <td>cinderella</td>\n",
       "      <td>coming home [live]</td>\n",
       "    </tr>\n",
       "    <tr>\n",
       "      <th>1117</th>\n",
       "      <td>Alright, yeah\\r\\n\\r\\nI met this girl around qu...</td>\n",
       "      <td>cinderella</td>\n",
       "      <td>shake me [live]</td>\n",
       "    </tr>\n",
       "  </tbody>\n",
       "</table>\n",
       "</div>"
      ],
      "text/plain": [
       "                                                 Lyrics      artist  \\\n",
       "1071  I hit the road wide open at seventeen\\r\\nMama ...  cinderella   \n",
       "1072  We hang tough\\r\\nWhen the chips are low\\r\\nCan...  cinderella   \n",
       "1073  I've been loved and I've been shoved\\r\\nbeaten...  cinderella   \n",
       "1074  Workin' this job ain't payin' the bills\\nSick ...  cinderella   \n",
       "1075  I count the falling tears\\nThey fall before my...  cinderella   \n",
       "1076  When you see your face in the mirror\\nDoes it ...  cinderella   \n",
       "1077  See me, feel me, come and touch me\\r\\nThe way ...  cinderella   \n",
       "1078  I'm gettin' hot\\r\\nI've got to give a shot\\r\\n...  cinderella   \n",
       "1079  Alright, yeah\\r\\n\\r\\nI met this girl around qu...  cinderella   \n",
       "1080  When I was a young boy\\nThey said you're only ...  cinderella   \n",
       "1081  I took a walk down a road it's the road I was ...  cinderella   \n",
       "1082  And do ya feel like I feel\\r\\nWhen I want you ...  cinderella   \n",
       "1083  I don't need anyone\\r\\nTo tell me how to run m...  cinderella   \n",
       "1084  Oh\\r\\n\\r\\nOh yeah!\\r\\n\\r\\nMe and Billy boy and...  cinderella   \n",
       "1085  I've been down\\r\\nI've been cryin' in the dead...  cinderella   \n",
       "1086  Lightning strikes before my eyes\\r\\nMakes them...  cinderella   \n",
       "1087  I walked alone my heart a little colder\\r\\nTry...  cinderella   \n",
       "1088  When I was young, old man sat me on his knee\\r...  cinderella   \n",
       "1089  When I was down\\r\\nAn angel came to me\\r\\nAnd ...  cinderella   \n",
       "1090  Waiting at the station\\r\\nTears filling up my ...  cinderella   \n",
       "1091  If I hear you stalkin'\\r\\nLooking for sympathy...  cinderella   \n",
       "1092  Born and raised in a one dog town\\r\\nThat neve...  cinderella   \n",
       "1093  Woke up this morning on the wrong side of bed\\...  cinderella   \n",
       "1094  I was born on the dawn of a new society\\r\\nAnd...  cinderella   \n",
       "1095  There used to be a time when I thought I had t...  cinderella   \n",
       "1096  I look into the mirror\\r\\nCan almost count the...  cinderella   \n",
       "1097  I used to be now I'm not what you see, lord I ...  cinderella   \n",
       "1098  Everybody thinks it's so easy\\r\\nEverybody thi...  cinderella   \n",
       "1099  When I get up in the morning\\r\\nGot a world of...  cinderella   \n",
       "1100  Well I've been walkin'\\r\\nDown a one way dirty...  cinderella   \n",
       "1101  I¹m running free\\r\\nBut I ain¹t got no time to...  cinderella   \n",
       "1102  You say I get around but\\r\\nI'm gonna hit the ...  cinderella   \n",
       "1103  Mama sometimes I feel inside\\r\\nThere's nothin...  cinderella   \n",
       "1104  You got me jumpin' right out of my skin\\r\\nYou...  cinderella   \n",
       "1105  Growing up as a young boy\\nSometimes can be ro...  cinderella   \n",
       "1106  I see people walking down the street\\r\\nGot th...  cinderella   \n",
       "1107  You're wearing out your welcome wagon\\r\\nScrap...  cinderella   \n",
       "1108  I know it's hard\\r\\nIn a world gone mad\\r\\nTo ...  cinderella   \n",
       "1109  Pull on up\\r\\nTo the soapbox stool\\r\\nLet me t...  cinderella   \n",
       "1110  Old man looks much younger now\\nHe lost his st...  cinderella   \n",
       "1111  Workin this job ain't payin the bills\\r\\nSick ...  cinderella   \n",
       "1112  I took a walk down a road it's the road I was ...  cinderella   \n",
       "1113  Waiting at the station\\r\\nTears filling up my ...  cinderella   \n",
       "1114  I can't tell ya baby what went wrong\\r\\nI can'...  cinderella   \n",
       "1115  When I was a young boy\\r\\nThey said you're onl...  cinderella   \n",
       "1116  I took a walk down a road it's the road I was ...  cinderella   \n",
       "1117  Alright, yeah\\r\\n\\r\\nI met this girl around qu...  cinderella   \n",
       "\n",
       "                                         title  \n",
       "1071                           back home again  \n",
       "1072                            hell on wheels  \n",
       "1073                       in from the outside  \n",
       "1074                               night songs  \n",
       "1075                             nobody's fool  \n",
       "1076                       nothin' for nothin'  \n",
       "1077                      once around the ride  \n",
       "1078                                push, push  \n",
       "1079                                  shake me  \n",
       "1080                          somebody save me  \n",
       "1081                               coming home  \n",
       "1082                              fire and ice  \n",
       "1083                      if you don't like it  \n",
       "1084                             the last mile  \n",
       "1085                          long cold winter  \n",
       "1086                               second wind  \n",
       "1087                              take me back  \n",
       "1088                           dead man's road  \n",
       "1089                             electric love  \n",
       "1090                        heartbreak station  \n",
       "1091                             love gone bad  \n",
       "1092                         make your own way  \n",
       "1093                    the more things change  \n",
       "1094                     one for rock and roll  \n",
       "1095                         sick for the cure  \n",
       "1096                           winds of change  \n",
       "1097                          gypsy road [dvd]  \n",
       "1098                            all comes down  \n",
       "1099                      bad attitude shuffle  \n",
       "1100                        blood from a stone  \n",
       "1101                        easy come, easy go  \n",
       "1102                              freewheelin'  \n",
       "1103                    hard to find the words  \n",
       "1104                          hot and bothered  \n",
       "1105                     the road's still long  \n",
       "1106                            still climbing  \n",
       "1107                             talk is cheap  \n",
       "1108                          through the rain  \n",
       "1109                               war stories  \n",
       "1110                fallin' apart at the seams  \n",
       "1111                         night songs [dvd]  \n",
       "1112                         coming home [dvd]  \n",
       "1113                  heartbreak station [dvd]  \n",
       "1114  don't know what you got ('til it's gone)  \n",
       "1115                somebody save me [live][#]  \n",
       "1116                        coming home [live]  \n",
       "1117                           shake me [live]  "
      ]
     },
     "execution_count": 11,
     "metadata": {},
     "output_type": "execute_result"
    }
   ],
   "source": [
    "cin_df = cin_df.drop([\"Band\", 'Song'], axis = 1)\n",
    "cin_df"
   ]
  },
  {
   "cell_type": "code",
   "execution_count": 13,
   "id": "0f8a4140",
   "metadata": {},
   "outputs": [
    {
     "data": {
      "text/html": [
       "<div>\n",
       "<style scoped>\n",
       "    .dataframe tbody tr th:only-of-type {\n",
       "        vertical-align: middle;\n",
       "    }\n",
       "\n",
       "    .dataframe tbody tr th {\n",
       "        vertical-align: top;\n",
       "    }\n",
       "\n",
       "    .dataframe thead th {\n",
       "        text-align: right;\n",
       "    }\n",
       "</style>\n",
       "<table border=\"1\" class=\"dataframe\">\n",
       "  <thead>\n",
       "    <tr style=\"text-align: right;\">\n",
       "      <th></th>\n",
       "      <th>words</th>\n",
       "      <th>artist</th>\n",
       "      <th>title</th>\n",
       "    </tr>\n",
       "  </thead>\n",
       "  <tbody>\n",
       "    <tr>\n",
       "      <th>0</th>\n",
       "      <td>Everybody thinks it's so easy\\r\\nEverybody thi...</td>\n",
       "      <td>cinderella</td>\n",
       "      <td>all comes down</td>\n",
       "    </tr>\n",
       "    <tr>\n",
       "      <th>1</th>\n",
       "      <td>I hit the road wide open at seventeen\\r\\nMama ...</td>\n",
       "      <td>cinderella</td>\n",
       "      <td>back home again</td>\n",
       "    </tr>\n",
       "    <tr>\n",
       "      <th>2</th>\n",
       "      <td>When I get up in the morning\\r\\nGot a world of...</td>\n",
       "      <td>cinderella</td>\n",
       "      <td>bad attitude shuffle</td>\n",
       "    </tr>\n",
       "    <tr>\n",
       "      <th>3</th>\n",
       "      <td>Well I've been walkin'\\r\\nDown a one way dirty...</td>\n",
       "      <td>cinderella</td>\n",
       "      <td>blood from a stone</td>\n",
       "    </tr>\n",
       "    <tr>\n",
       "      <th>4</th>\n",
       "      <td>I took a walk down a road it's the road I was ...</td>\n",
       "      <td>cinderella</td>\n",
       "      <td>coming home</td>\n",
       "    </tr>\n",
       "    <tr>\n",
       "      <th>5</th>\n",
       "      <td>I took a walk down a road it's the road I was ...</td>\n",
       "      <td>cinderella</td>\n",
       "      <td>coming home</td>\n",
       "    </tr>\n",
       "    <tr>\n",
       "      <th>6</th>\n",
       "      <td>I took a walk down a road it's the road I was ...</td>\n",
       "      <td>cinderella</td>\n",
       "      <td>coming home [live]</td>\n",
       "    </tr>\n",
       "    <tr>\n",
       "      <th>7</th>\n",
       "      <td>When I was young, old man sat me on his knee\\r...</td>\n",
       "      <td>cinderella</td>\n",
       "      <td>dead man's road</td>\n",
       "    </tr>\n",
       "    <tr>\n",
       "      <th>8</th>\n",
       "      <td>I can't tell ya baby what went wrong\\r\\nI can'...</td>\n",
       "      <td>cinderella</td>\n",
       "      <td>don't know what you got ('til it's gone)</td>\n",
       "    </tr>\n",
       "    <tr>\n",
       "      <th>9</th>\n",
       "      <td>I¹m running free\\r\\nBut I ain¹t got no time to...</td>\n",
       "      <td>cinderella</td>\n",
       "      <td>easy come, easy go</td>\n",
       "    </tr>\n",
       "    <tr>\n",
       "      <th>10</th>\n",
       "      <td>When I was down\\r\\nAn angel came to me\\r\\nAnd ...</td>\n",
       "      <td>cinderella</td>\n",
       "      <td>electric love</td>\n",
       "    </tr>\n",
       "    <tr>\n",
       "      <th>11</th>\n",
       "      <td>Old man looks much younger now\\nHe lost his st...</td>\n",
       "      <td>cinderella</td>\n",
       "      <td>fallin' apart at the seams</td>\n",
       "    </tr>\n",
       "    <tr>\n",
       "      <th>12</th>\n",
       "      <td>And do ya feel like I feel\\r\\nWhen I want you ...</td>\n",
       "      <td>cinderella</td>\n",
       "      <td>fire and ice</td>\n",
       "    </tr>\n",
       "    <tr>\n",
       "      <th>13</th>\n",
       "      <td>You say I get around but\\r\\nI'm gonna hit the ...</td>\n",
       "      <td>cinderella</td>\n",
       "      <td>freewheelin'</td>\n",
       "    </tr>\n",
       "    <tr>\n",
       "      <th>14</th>\n",
       "      <td>I used to be now I'm not what you see, lord I ...</td>\n",
       "      <td>cinderella</td>\n",
       "      <td>gypsy road</td>\n",
       "    </tr>\n",
       "    <tr>\n",
       "      <th>15</th>\n",
       "      <td>Mama sometimes I feel inside\\r\\nThere's nothin...</td>\n",
       "      <td>cinderella</td>\n",
       "      <td>hard to find the words</td>\n",
       "    </tr>\n",
       "    <tr>\n",
       "      <th>16</th>\n",
       "      <td>Waiting at the station\\r\\nTears filling up my ...</td>\n",
       "      <td>cinderella</td>\n",
       "      <td>heartbreak station</td>\n",
       "    </tr>\n",
       "    <tr>\n",
       "      <th>17</th>\n",
       "      <td>Waiting at the station\\r\\nTears filling up my ...</td>\n",
       "      <td>cinderella</td>\n",
       "      <td>heartbreak station</td>\n",
       "    </tr>\n",
       "    <tr>\n",
       "      <th>18</th>\n",
       "      <td>We hang tough\\r\\nWhen the chips are low\\r\\nCan...</td>\n",
       "      <td>cinderella</td>\n",
       "      <td>hell on wheels</td>\n",
       "    </tr>\n",
       "    <tr>\n",
       "      <th>19</th>\n",
       "      <td>You got me jumpin' right out of my skin\\r\\nYou...</td>\n",
       "      <td>cinderella</td>\n",
       "      <td>hot and bothered</td>\n",
       "    </tr>\n",
       "    <tr>\n",
       "      <th>20</th>\n",
       "      <td>I don't need anyone\\r\\nTo tell me how to run m...</td>\n",
       "      <td>cinderella</td>\n",
       "      <td>if you don't like it</td>\n",
       "    </tr>\n",
       "    <tr>\n",
       "      <th>21</th>\n",
       "      <td>I've been loved and I've been shoved\\r\\nbeaten...</td>\n",
       "      <td>cinderella</td>\n",
       "      <td>in from the outside</td>\n",
       "    </tr>\n",
       "    <tr>\n",
       "      <th>22</th>\n",
       "      <td>I've been down\\r\\nI've been cryin' in the dead...</td>\n",
       "      <td>cinderella</td>\n",
       "      <td>long cold winter</td>\n",
       "    </tr>\n",
       "    <tr>\n",
       "      <th>23</th>\n",
       "      <td>If I hear you stalkin'\\r\\nLooking for sympathy...</td>\n",
       "      <td>cinderella</td>\n",
       "      <td>love gone bad</td>\n",
       "    </tr>\n",
       "    <tr>\n",
       "      <th>24</th>\n",
       "      <td>Born and raised in a one dog town\\r\\nThat neve...</td>\n",
       "      <td>cinderella</td>\n",
       "      <td>make your own way</td>\n",
       "    </tr>\n",
       "    <tr>\n",
       "      <th>25</th>\n",
       "      <td>Workin' this job ain't payin' the bills\\nSick ...</td>\n",
       "      <td>cinderella</td>\n",
       "      <td>night songs</td>\n",
       "    </tr>\n",
       "    <tr>\n",
       "      <th>26</th>\n",
       "      <td>Workin this job ain't payin the bills\\r\\nSick ...</td>\n",
       "      <td>cinderella</td>\n",
       "      <td>night songs</td>\n",
       "    </tr>\n",
       "    <tr>\n",
       "      <th>27</th>\n",
       "      <td>I count the falling tears\\nThey fall before my...</td>\n",
       "      <td>cinderella</td>\n",
       "      <td>nobody's fool</td>\n",
       "    </tr>\n",
       "    <tr>\n",
       "      <th>28</th>\n",
       "      <td>When you see your face in the mirror\\nDoes it ...</td>\n",
       "      <td>cinderella</td>\n",
       "      <td>nothin' for nothin'</td>\n",
       "    </tr>\n",
       "    <tr>\n",
       "      <th>29</th>\n",
       "      <td>See me, feel me, come and touch me\\r\\nThe way ...</td>\n",
       "      <td>cinderella</td>\n",
       "      <td>once around the ride</td>\n",
       "    </tr>\n",
       "    <tr>\n",
       "      <th>30</th>\n",
       "      <td>I was born on the dawn of a new society\\r\\nAnd...</td>\n",
       "      <td>cinderella</td>\n",
       "      <td>one for rock and roll</td>\n",
       "    </tr>\n",
       "    <tr>\n",
       "      <th>31</th>\n",
       "      <td>I'm gettin' hot\\r\\nI've got to give a shot\\r\\n...</td>\n",
       "      <td>cinderella</td>\n",
       "      <td>push, push</td>\n",
       "    </tr>\n",
       "    <tr>\n",
       "      <th>32</th>\n",
       "      <td>Lightning strikes before my eyes\\r\\nMakes them...</td>\n",
       "      <td>cinderella</td>\n",
       "      <td>second wind</td>\n",
       "    </tr>\n",
       "    <tr>\n",
       "      <th>33</th>\n",
       "      <td>Alright, yeah\\r\\n\\r\\nI met this girl around qu...</td>\n",
       "      <td>cinderella</td>\n",
       "      <td>shake me</td>\n",
       "    </tr>\n",
       "    <tr>\n",
       "      <th>34</th>\n",
       "      <td>Alright, yeah\\r\\n\\r\\nI met this girl around qu...</td>\n",
       "      <td>cinderella</td>\n",
       "      <td>shake me [live]</td>\n",
       "    </tr>\n",
       "    <tr>\n",
       "      <th>35</th>\n",
       "      <td>There used to be a time when I thought I had t...</td>\n",
       "      <td>cinderella</td>\n",
       "      <td>sick for the cure</td>\n",
       "    </tr>\n",
       "    <tr>\n",
       "      <th>36</th>\n",
       "      <td>When I was a young boy\\nThey said you're only ...</td>\n",
       "      <td>cinderella</td>\n",
       "      <td>somebody save me</td>\n",
       "    </tr>\n",
       "    <tr>\n",
       "      <th>37</th>\n",
       "      <td>When I was a young boy\\r\\nThey said you're onl...</td>\n",
       "      <td>cinderella</td>\n",
       "      <td>somebody save me [live][#]</td>\n",
       "    </tr>\n",
       "    <tr>\n",
       "      <th>38</th>\n",
       "      <td>I see people walking down the street\\r\\nGot th...</td>\n",
       "      <td>cinderella</td>\n",
       "      <td>still climbing</td>\n",
       "    </tr>\n",
       "    <tr>\n",
       "      <th>39</th>\n",
       "      <td>I walked alone my heart a little colder\\r\\nTry...</td>\n",
       "      <td>cinderella</td>\n",
       "      <td>take me back</td>\n",
       "    </tr>\n",
       "    <tr>\n",
       "      <th>40</th>\n",
       "      <td>You're wearing out your welcome wagon\\r\\nScrap...</td>\n",
       "      <td>cinderella</td>\n",
       "      <td>talk is cheap</td>\n",
       "    </tr>\n",
       "    <tr>\n",
       "      <th>41</th>\n",
       "      <td>Oh\\r\\n\\r\\nOh yeah!\\r\\n\\r\\nMe and Billy boy and...</td>\n",
       "      <td>cinderella</td>\n",
       "      <td>the last mile</td>\n",
       "    </tr>\n",
       "    <tr>\n",
       "      <th>42</th>\n",
       "      <td>Woke up this morning on the wrong side of bed\\...</td>\n",
       "      <td>cinderella</td>\n",
       "      <td>the more things change</td>\n",
       "    </tr>\n",
       "    <tr>\n",
       "      <th>43</th>\n",
       "      <td>Growing up as a young boy\\nSometimes can be ro...</td>\n",
       "      <td>cinderella</td>\n",
       "      <td>the road's still long</td>\n",
       "    </tr>\n",
       "    <tr>\n",
       "      <th>44</th>\n",
       "      <td>I know it's hard\\r\\nIn a world gone mad\\r\\nTo ...</td>\n",
       "      <td>cinderella</td>\n",
       "      <td>through the rain</td>\n",
       "    </tr>\n",
       "    <tr>\n",
       "      <th>45</th>\n",
       "      <td>Pull on up\\r\\nTo the soapbox stool\\r\\nLet me t...</td>\n",
       "      <td>cinderella</td>\n",
       "      <td>war stories</td>\n",
       "    </tr>\n",
       "    <tr>\n",
       "      <th>46</th>\n",
       "      <td>I look into the mirror\\r\\nCan almost count the...</td>\n",
       "      <td>cinderella</td>\n",
       "      <td>winds of change</td>\n",
       "    </tr>\n",
       "  </tbody>\n",
       "</table>\n",
       "</div>"
      ],
      "text/plain": [
       "                                                words      artist  \\\n",
       "0   Everybody thinks it's so easy\\r\\nEverybody thi...  cinderella   \n",
       "1   I hit the road wide open at seventeen\\r\\nMama ...  cinderella   \n",
       "2   When I get up in the morning\\r\\nGot a world of...  cinderella   \n",
       "3   Well I've been walkin'\\r\\nDown a one way dirty...  cinderella   \n",
       "4   I took a walk down a road it's the road I was ...  cinderella   \n",
       "5   I took a walk down a road it's the road I was ...  cinderella   \n",
       "6   I took a walk down a road it's the road I was ...  cinderella   \n",
       "7   When I was young, old man sat me on his knee\\r...  cinderella   \n",
       "8   I can't tell ya baby what went wrong\\r\\nI can'...  cinderella   \n",
       "9   I¹m running free\\r\\nBut I ain¹t got no time to...  cinderella   \n",
       "10  When I was down\\r\\nAn angel came to me\\r\\nAnd ...  cinderella   \n",
       "11  Old man looks much younger now\\nHe lost his st...  cinderella   \n",
       "12  And do ya feel like I feel\\r\\nWhen I want you ...  cinderella   \n",
       "13  You say I get around but\\r\\nI'm gonna hit the ...  cinderella   \n",
       "14  I used to be now I'm not what you see, lord I ...  cinderella   \n",
       "15  Mama sometimes I feel inside\\r\\nThere's nothin...  cinderella   \n",
       "16  Waiting at the station\\r\\nTears filling up my ...  cinderella   \n",
       "17  Waiting at the station\\r\\nTears filling up my ...  cinderella   \n",
       "18  We hang tough\\r\\nWhen the chips are low\\r\\nCan...  cinderella   \n",
       "19  You got me jumpin' right out of my skin\\r\\nYou...  cinderella   \n",
       "20  I don't need anyone\\r\\nTo tell me how to run m...  cinderella   \n",
       "21  I've been loved and I've been shoved\\r\\nbeaten...  cinderella   \n",
       "22  I've been down\\r\\nI've been cryin' in the dead...  cinderella   \n",
       "23  If I hear you stalkin'\\r\\nLooking for sympathy...  cinderella   \n",
       "24  Born and raised in a one dog town\\r\\nThat neve...  cinderella   \n",
       "25  Workin' this job ain't payin' the bills\\nSick ...  cinderella   \n",
       "26  Workin this job ain't payin the bills\\r\\nSick ...  cinderella   \n",
       "27  I count the falling tears\\nThey fall before my...  cinderella   \n",
       "28  When you see your face in the mirror\\nDoes it ...  cinderella   \n",
       "29  See me, feel me, come and touch me\\r\\nThe way ...  cinderella   \n",
       "30  I was born on the dawn of a new society\\r\\nAnd...  cinderella   \n",
       "31  I'm gettin' hot\\r\\nI've got to give a shot\\r\\n...  cinderella   \n",
       "32  Lightning strikes before my eyes\\r\\nMakes them...  cinderella   \n",
       "33  Alright, yeah\\r\\n\\r\\nI met this girl around qu...  cinderella   \n",
       "34  Alright, yeah\\r\\n\\r\\nI met this girl around qu...  cinderella   \n",
       "35  There used to be a time when I thought I had t...  cinderella   \n",
       "36  When I was a young boy\\nThey said you're only ...  cinderella   \n",
       "37  When I was a young boy\\r\\nThey said you're onl...  cinderella   \n",
       "38  I see people walking down the street\\r\\nGot th...  cinderella   \n",
       "39  I walked alone my heart a little colder\\r\\nTry...  cinderella   \n",
       "40  You're wearing out your welcome wagon\\r\\nScrap...  cinderella   \n",
       "41  Oh\\r\\n\\r\\nOh yeah!\\r\\n\\r\\nMe and Billy boy and...  cinderella   \n",
       "42  Woke up this morning on the wrong side of bed\\...  cinderella   \n",
       "43  Growing up as a young boy\\nSometimes can be ro...  cinderella   \n",
       "44  I know it's hard\\r\\nIn a world gone mad\\r\\nTo ...  cinderella   \n",
       "45  Pull on up\\r\\nTo the soapbox stool\\r\\nLet me t...  cinderella   \n",
       "46  I look into the mirror\\r\\nCan almost count the...  cinderella   \n",
       "\n",
       "                                       title  \n",
       "0                             all comes down  \n",
       "1                            back home again  \n",
       "2                       bad attitude shuffle  \n",
       "3                         blood from a stone  \n",
       "4                                coming home  \n",
       "5                               coming home   \n",
       "6                         coming home [live]  \n",
       "7                            dead man's road  \n",
       "8   don't know what you got ('til it's gone)  \n",
       "9                         easy come, easy go  \n",
       "10                             electric love  \n",
       "11                fallin' apart at the seams  \n",
       "12                              fire and ice  \n",
       "13                              freewheelin'  \n",
       "14                               gypsy road   \n",
       "15                    hard to find the words  \n",
       "16                        heartbreak station  \n",
       "17                       heartbreak station   \n",
       "18                            hell on wheels  \n",
       "19                          hot and bothered  \n",
       "20                      if you don't like it  \n",
       "21                       in from the outside  \n",
       "22                          long cold winter  \n",
       "23                             love gone bad  \n",
       "24                         make your own way  \n",
       "25                               night songs  \n",
       "26                              night songs   \n",
       "27                             nobody's fool  \n",
       "28                       nothin' for nothin'  \n",
       "29                      once around the ride  \n",
       "30                     one for rock and roll  \n",
       "31                                push, push  \n",
       "32                               second wind  \n",
       "33                                  shake me  \n",
       "34                           shake me [live]  \n",
       "35                         sick for the cure  \n",
       "36                          somebody save me  \n",
       "37                somebody save me [live][#]  \n",
       "38                            still climbing  \n",
       "39                              take me back  \n",
       "40                             talk is cheap  \n",
       "41                             the last mile  \n",
       "42                    the more things change  \n",
       "43                     the road's still long  \n",
       "44                          through the rain  \n",
       "45                               war stories  \n",
       "46                           winds of change  "
      ]
     },
     "execution_count": 13,
     "metadata": {},
     "output_type": "execute_result"
    }
   ],
   "source": [
    "cin_df = cin_df.rename(columns={\"Lyrics\": \"words\"})\n",
    "cin_df = cin_df.sort_values(by ='title').reset_index(drop = True)\n",
    "cin_df"
   ]
  },
  {
   "cell_type": "code",
   "execution_count": 14,
   "id": "14a7a6f0",
   "metadata": {},
   "outputs": [],
   "source": [
    "cin_df = cin_df.replace('\\[dvd\\]','',regex=True)"
   ]
  },
  {
   "cell_type": "code",
   "execution_count": 15,
   "id": "9f7073b6",
   "metadata": {},
   "outputs": [],
   "source": [
    "cin_df = cin_df.drop(index = [5, 6, 17, 26, 34, 37]).reset_index(drop = True)"
   ]
  },
  {
   "cell_type": "code",
   "execution_count": 17,
   "id": "5469e58d",
   "metadata": {
    "scrolled": true
   },
   "outputs": [
    {
     "data": {
      "text/html": [
       "<div>\n",
       "<style scoped>\n",
       "    .dataframe tbody tr th:only-of-type {\n",
       "        vertical-align: middle;\n",
       "    }\n",
       "\n",
       "    .dataframe tbody tr th {\n",
       "        vertical-align: top;\n",
       "    }\n",
       "\n",
       "    .dataframe thead th {\n",
       "        text-align: right;\n",
       "    }\n",
       "</style>\n",
       "<table border=\"1\" class=\"dataframe\">\n",
       "  <thead>\n",
       "    <tr style=\"text-align: right;\">\n",
       "      <th></th>\n",
       "      <th>title</th>\n",
       "      <th>artist</th>\n",
       "      <th>id</th>\n",
       "    </tr>\n",
       "  </thead>\n",
       "  <tbody>\n",
       "    <tr>\n",
       "      <th>0</th>\n",
       "      <td>all comes down</td>\n",
       "      <td>Cinderella</td>\n",
       "      <td>6UR67Dg3t0u7bntNgkT7X2</td>\n",
       "    </tr>\n",
       "    <tr>\n",
       "      <th>1</th>\n",
       "      <td>back home again</td>\n",
       "      <td>Cinderella</td>\n",
       "      <td>78B4O7Wxy2jWaCaGxTFDlY</td>\n",
       "    </tr>\n",
       "    <tr>\n",
       "      <th>2</th>\n",
       "      <td>bad attitude shuffle</td>\n",
       "      <td>Cinderella</td>\n",
       "      <td>4wuC758Y3ww5qMos5ZwKy1</td>\n",
       "    </tr>\n",
       "    <tr>\n",
       "      <th>3</th>\n",
       "      <td>bad seamstress blues / fallin' apart at the seams</td>\n",
       "      <td>Cinderella</td>\n",
       "      <td>1tTXWqYA0DPxhEGURogUA5</td>\n",
       "    </tr>\n",
       "    <tr>\n",
       "      <th>4</th>\n",
       "      <td>blood from a stone</td>\n",
       "      <td>Cinderella</td>\n",
       "      <td>4y7mEehOfiQvfqSkNaDxfx</td>\n",
       "    </tr>\n",
       "    <tr>\n",
       "      <th>5</th>\n",
       "      <td>coming home</td>\n",
       "      <td>Cinderella</td>\n",
       "      <td>5EicljVZKVOo2LZHREtWmQ</td>\n",
       "    </tr>\n",
       "    <tr>\n",
       "      <th>6</th>\n",
       "      <td>dead man's road</td>\n",
       "      <td>Cinderella</td>\n",
       "      <td>3TNiHJztyXXeOTNGE2cm1b</td>\n",
       "    </tr>\n",
       "    <tr>\n",
       "      <th>7</th>\n",
       "      <td>don't know what you got (till it's gone)</td>\n",
       "      <td>Cinderella</td>\n",
       "      <td>5QRs63VVKNaqUjg6XSSckM</td>\n",
       "    </tr>\n",
       "    <tr>\n",
       "      <th>8</th>\n",
       "      <td>easy come easy go</td>\n",
       "      <td>Cinderella</td>\n",
       "      <td>0RoRJKalaFrXVN0tZ70Uht</td>\n",
       "    </tr>\n",
       "    <tr>\n",
       "      <th>9</th>\n",
       "      <td>electric love</td>\n",
       "      <td>Cinderella</td>\n",
       "      <td>1pSN9WfWS6ZlhZQWKEruA6</td>\n",
       "    </tr>\n",
       "    <tr>\n",
       "      <th>10</th>\n",
       "      <td>fire and ice</td>\n",
       "      <td>Cinderella</td>\n",
       "      <td>1mWp11DOgXh85qxksv4eGL</td>\n",
       "    </tr>\n",
       "    <tr>\n",
       "      <th>11</th>\n",
       "      <td>freewheelin</td>\n",
       "      <td>Cinderella</td>\n",
       "      <td>42yxDqxZnLsSb1UB7GfhsU</td>\n",
       "    </tr>\n",
       "    <tr>\n",
       "      <th>12</th>\n",
       "      <td>gypsy road</td>\n",
       "      <td>Cinderella</td>\n",
       "      <td>2F8Glc7r4mHHSCEegD4Ju1</td>\n",
       "    </tr>\n",
       "    <tr>\n",
       "      <th>13</th>\n",
       "      <td>hard to find the words</td>\n",
       "      <td>Cinderella</td>\n",
       "      <td>48EJUcJHrhf2ADhez1rmrn</td>\n",
       "    </tr>\n",
       "    <tr>\n",
       "      <th>14</th>\n",
       "      <td>heartbreak station</td>\n",
       "      <td>Cinderella</td>\n",
       "      <td>71cWHhV018hztNkCC45Ayo</td>\n",
       "    </tr>\n",
       "    <tr>\n",
       "      <th>15</th>\n",
       "      <td>hell on wheels</td>\n",
       "      <td>Cinderella</td>\n",
       "      <td>2WwDgPzf0U3dQlIbk3tkby</td>\n",
       "    </tr>\n",
       "    <tr>\n",
       "      <th>16</th>\n",
       "      <td>hot and bothered</td>\n",
       "      <td>Cinderella</td>\n",
       "      <td>57alg3giwMZtJ1Xna8YACx</td>\n",
       "    </tr>\n",
       "    <tr>\n",
       "      <th>17</th>\n",
       "      <td>if you don't like it</td>\n",
       "      <td>Cinderella</td>\n",
       "      <td>2VeDCV464TvUZH9CzgTdzx</td>\n",
       "    </tr>\n",
       "    <tr>\n",
       "      <th>18</th>\n",
       "      <td>in from the outside</td>\n",
       "      <td>Cinderella</td>\n",
       "      <td>6g7P01tVyB7IPTjqUUpDCd</td>\n",
       "    </tr>\n",
       "    <tr>\n",
       "      <th>19</th>\n",
       "      <td>long cold winter</td>\n",
       "      <td>Cinderella</td>\n",
       "      <td>6rsmUTZe2G14DPkjAhL7HK</td>\n",
       "    </tr>\n",
       "    <tr>\n",
       "      <th>20</th>\n",
       "      <td>love gone bad</td>\n",
       "      <td>Cinderella</td>\n",
       "      <td>5IONaSPuuk92LSRrK5qB8e</td>\n",
       "    </tr>\n",
       "    <tr>\n",
       "      <th>21</th>\n",
       "      <td>love's got me doin' time</td>\n",
       "      <td>Cinderella</td>\n",
       "      <td>2FTbtJXfR9ROrBFguhL4dX</td>\n",
       "    </tr>\n",
       "    <tr>\n",
       "      <th>22</th>\n",
       "      <td>make your own way</td>\n",
       "      <td>Cinderella</td>\n",
       "      <td>03GRZjnZt4SPEZWbOBPYW3</td>\n",
       "    </tr>\n",
       "    <tr>\n",
       "      <th>23</th>\n",
       "      <td>night songs</td>\n",
       "      <td>Cinderella</td>\n",
       "      <td>0hbWDY0Rvl5kcTvSNsilUA</td>\n",
       "    </tr>\n",
       "    <tr>\n",
       "      <th>24</th>\n",
       "      <td>nobody's fool</td>\n",
       "      <td>Cinderella</td>\n",
       "      <td>01Q4wU19hamqnhNjtuvTyI</td>\n",
       "    </tr>\n",
       "    <tr>\n",
       "      <th>25</th>\n",
       "      <td>nothin' for nothin'</td>\n",
       "      <td>Cinderella</td>\n",
       "      <td>0dINglXmCtuTjeMk5P2Afe</td>\n",
       "    </tr>\n",
       "    <tr>\n",
       "      <th>26</th>\n",
       "      <td>once around the ride</td>\n",
       "      <td>Cinderella</td>\n",
       "      <td>4b5ZbbDhCAcAZy1caSJemj</td>\n",
       "    </tr>\n",
       "    <tr>\n",
       "      <th>27</th>\n",
       "      <td>one for rock &amp; roll</td>\n",
       "      <td>Cinderella</td>\n",
       "      <td>2UcLdnK7OqOPKTuBwxl3N8</td>\n",
       "    </tr>\n",
       "    <tr>\n",
       "      <th>28</th>\n",
       "      <td>push push</td>\n",
       "      <td>Cinderella</td>\n",
       "      <td>2ZkVw93hmiJRMcj0pOiG9o</td>\n",
       "    </tr>\n",
       "    <tr>\n",
       "      <th>29</th>\n",
       "      <td>second wind</td>\n",
       "      <td>Cinderella</td>\n",
       "      <td>4oYYHxNwdIipmWu0ht2T6s</td>\n",
       "    </tr>\n",
       "    <tr>\n",
       "      <th>30</th>\n",
       "      <td>shake me</td>\n",
       "      <td>Cinderella</td>\n",
       "      <td>1Qjpl8Kav6rrO92ZuG0OK8</td>\n",
       "    </tr>\n",
       "    <tr>\n",
       "      <th>31</th>\n",
       "      <td>shelter me</td>\n",
       "      <td>Cinderella</td>\n",
       "      <td>4RTV6bpggP3qZeDfPThJms</td>\n",
       "    </tr>\n",
       "    <tr>\n",
       "      <th>32</th>\n",
       "      <td>sick for the cure</td>\n",
       "      <td>Cinderella</td>\n",
       "      <td>42qPPmvVwx67PrCporELq6</td>\n",
       "    </tr>\n",
       "    <tr>\n",
       "      <th>33</th>\n",
       "      <td>somebody save me</td>\n",
       "      <td>Cinderella</td>\n",
       "      <td>3fjiaIx6KFssAz3C8TaUec</td>\n",
       "    </tr>\n",
       "    <tr>\n",
       "      <th>34</th>\n",
       "      <td>still climbing</td>\n",
       "      <td>Cinderella</td>\n",
       "      <td>1H9ocnYlEuGDfnQF8dFnDY</td>\n",
       "    </tr>\n",
       "    <tr>\n",
       "      <th>35</th>\n",
       "      <td>take me back</td>\n",
       "      <td>Cinderella</td>\n",
       "      <td>7nyjXSQu2WGpZMzzBthVbN</td>\n",
       "    </tr>\n",
       "    <tr>\n",
       "      <th>36</th>\n",
       "      <td>talk is cheap</td>\n",
       "      <td>Cinderella</td>\n",
       "      <td>5UEewbbYUxm1dibx17lD2s</td>\n",
       "    </tr>\n",
       "    <tr>\n",
       "      <th>37</th>\n",
       "      <td>the last mile</td>\n",
       "      <td>Cinderella</td>\n",
       "      <td>4wKTPZe1AgKNPObJ357dZK</td>\n",
       "    </tr>\n",
       "    <tr>\n",
       "      <th>38</th>\n",
       "      <td>the more things change</td>\n",
       "      <td>Cinderella</td>\n",
       "      <td>0XxxH4ljmzTskD0xtBzJy4</td>\n",
       "    </tr>\n",
       "    <tr>\n",
       "      <th>39</th>\n",
       "      <td>the road's still long</td>\n",
       "      <td>Cinderella</td>\n",
       "      <td>3NMVvpcCfAUSUtX1wAuP4m</td>\n",
       "    </tr>\n",
       "    <tr>\n",
       "      <th>40</th>\n",
       "      <td>through the rain</td>\n",
       "      <td>Cinderella</td>\n",
       "      <td>4Ty7phTFZIWCg6BKFuABZg</td>\n",
       "    </tr>\n",
       "    <tr>\n",
       "      <th>41</th>\n",
       "      <td>winds of change</td>\n",
       "      <td>Cinderella</td>\n",
       "      <td>5P9Q2G5fz7o1SBDFlhsSxQ</td>\n",
       "    </tr>\n",
       "  </tbody>\n",
       "</table>\n",
       "</div>"
      ],
      "text/plain": [
       "                                                title      artist  \\\n",
       "0                                      all comes down  Cinderella   \n",
       "1                                     back home again  Cinderella   \n",
       "2                                bad attitude shuffle  Cinderella   \n",
       "3   bad seamstress blues / fallin' apart at the seams  Cinderella   \n",
       "4                                  blood from a stone  Cinderella   \n",
       "5                                         coming home  Cinderella   \n",
       "6                                     dead man's road  Cinderella   \n",
       "7            don't know what you got (till it's gone)  Cinderella   \n",
       "8                                   easy come easy go  Cinderella   \n",
       "9                                       electric love  Cinderella   \n",
       "10                                       fire and ice  Cinderella   \n",
       "11                                        freewheelin  Cinderella   \n",
       "12                                         gypsy road  Cinderella   \n",
       "13                             hard to find the words  Cinderella   \n",
       "14                                 heartbreak station  Cinderella   \n",
       "15                                     hell on wheels  Cinderella   \n",
       "16                                   hot and bothered  Cinderella   \n",
       "17                               if you don't like it  Cinderella   \n",
       "18                                in from the outside  Cinderella   \n",
       "19                                   long cold winter  Cinderella   \n",
       "20                                      love gone bad  Cinderella   \n",
       "21                           love's got me doin' time  Cinderella   \n",
       "22                                  make your own way  Cinderella   \n",
       "23                                        night songs  Cinderella   \n",
       "24                                      nobody's fool  Cinderella   \n",
       "25                                nothin' for nothin'  Cinderella   \n",
       "26                               once around the ride  Cinderella   \n",
       "27                                one for rock & roll  Cinderella   \n",
       "28                                          push push  Cinderella   \n",
       "29                                        second wind  Cinderella   \n",
       "30                                           shake me  Cinderella   \n",
       "31                                         shelter me  Cinderella   \n",
       "32                                  sick for the cure  Cinderella   \n",
       "33                                   somebody save me  Cinderella   \n",
       "34                                     still climbing  Cinderella   \n",
       "35                                       take me back  Cinderella   \n",
       "36                                      talk is cheap  Cinderella   \n",
       "37                                      the last mile  Cinderella   \n",
       "38                             the more things change  Cinderella   \n",
       "39                              the road's still long  Cinderella   \n",
       "40                                   through the rain  Cinderella   \n",
       "41                                    winds of change  Cinderella   \n",
       "\n",
       "                        id  \n",
       "0   6UR67Dg3t0u7bntNgkT7X2  \n",
       "1   78B4O7Wxy2jWaCaGxTFDlY  \n",
       "2   4wuC758Y3ww5qMos5ZwKy1  \n",
       "3   1tTXWqYA0DPxhEGURogUA5  \n",
       "4   4y7mEehOfiQvfqSkNaDxfx  \n",
       "5   5EicljVZKVOo2LZHREtWmQ  \n",
       "6   3TNiHJztyXXeOTNGE2cm1b  \n",
       "7   5QRs63VVKNaqUjg6XSSckM  \n",
       "8   0RoRJKalaFrXVN0tZ70Uht  \n",
       "9   1pSN9WfWS6ZlhZQWKEruA6  \n",
       "10  1mWp11DOgXh85qxksv4eGL  \n",
       "11  42yxDqxZnLsSb1UB7GfhsU  \n",
       "12  2F8Glc7r4mHHSCEegD4Ju1  \n",
       "13  48EJUcJHrhf2ADhez1rmrn  \n",
       "14  71cWHhV018hztNkCC45Ayo  \n",
       "15  2WwDgPzf0U3dQlIbk3tkby  \n",
       "16  57alg3giwMZtJ1Xna8YACx  \n",
       "17  2VeDCV464TvUZH9CzgTdzx  \n",
       "18  6g7P01tVyB7IPTjqUUpDCd  \n",
       "19  6rsmUTZe2G14DPkjAhL7HK  \n",
       "20  5IONaSPuuk92LSRrK5qB8e  \n",
       "21  2FTbtJXfR9ROrBFguhL4dX  \n",
       "22  03GRZjnZt4SPEZWbOBPYW3  \n",
       "23  0hbWDY0Rvl5kcTvSNsilUA  \n",
       "24  01Q4wU19hamqnhNjtuvTyI  \n",
       "25  0dINglXmCtuTjeMk5P2Afe  \n",
       "26  4b5ZbbDhCAcAZy1caSJemj  \n",
       "27  2UcLdnK7OqOPKTuBwxl3N8  \n",
       "28  2ZkVw93hmiJRMcj0pOiG9o  \n",
       "29  4oYYHxNwdIipmWu0ht2T6s  \n",
       "30  1Qjpl8Kav6rrO92ZuG0OK8  \n",
       "31  4RTV6bpggP3qZeDfPThJms  \n",
       "32  42qPPmvVwx67PrCporELq6  \n",
       "33  3fjiaIx6KFssAz3C8TaUec  \n",
       "34  1H9ocnYlEuGDfnQF8dFnDY  \n",
       "35  7nyjXSQu2WGpZMzzBthVbN  \n",
       "36  5UEewbbYUxm1dibx17lD2s  \n",
       "37  4wKTPZe1AgKNPObJ357dZK  \n",
       "38  0XxxH4ljmzTskD0xtBzJy4  \n",
       "39  3NMVvpcCfAUSUtX1wAuP4m  \n",
       "40  4Ty7phTFZIWCg6BKFuABZg  \n",
       "41  5P9Q2G5fz7o1SBDFlhsSxQ  "
      ]
     },
     "execution_count": 17,
     "metadata": {},
     "output_type": "execute_result"
    }
   ],
   "source": [
    "cin_tracks = track_df[track_df[\"artist\"]==\"Cinderella\"]\n",
    "cin_tracks = cin_tracks.sort_values(by ='title').reset_index(drop = True)\n",
    "cin_tracks['title'] = cin_tracks['title'].str.lower()\n",
    "cin_tracks"
   ]
  },
  {
   "cell_type": "code",
   "execution_count": 19,
   "id": "d419c641",
   "metadata": {
    "scrolled": true
   },
   "outputs": [
    {
     "data": {
      "text/html": [
       "<div>\n",
       "<style scoped>\n",
       "    .dataframe tbody tr th:only-of-type {\n",
       "        vertical-align: middle;\n",
       "    }\n",
       "\n",
       "    .dataframe tbody tr th {\n",
       "        vertical-align: top;\n",
       "    }\n",
       "\n",
       "    .dataframe thead th {\n",
       "        text-align: right;\n",
       "    }\n",
       "</style>\n",
       "<table border=\"1\" class=\"dataframe\">\n",
       "  <thead>\n",
       "    <tr style=\"text-align: right;\">\n",
       "      <th></th>\n",
       "      <th>title</th>\n",
       "      <th>artist_x</th>\n",
       "      <th>id</th>\n",
       "      <th>words</th>\n",
       "      <th>artist_y</th>\n",
       "    </tr>\n",
       "  </thead>\n",
       "  <tbody>\n",
       "    <tr>\n",
       "      <th>0</th>\n",
       "      <td>all comes down</td>\n",
       "      <td>Cinderella</td>\n",
       "      <td>6UR67Dg3t0u7bntNgkT7X2</td>\n",
       "      <td>Everybody thinks it's so easy\\r\\nEverybody thi...</td>\n",
       "      <td>cinderella</td>\n",
       "    </tr>\n",
       "    <tr>\n",
       "      <th>1</th>\n",
       "      <td>back home again</td>\n",
       "      <td>Cinderella</td>\n",
       "      <td>78B4O7Wxy2jWaCaGxTFDlY</td>\n",
       "      <td>I hit the road wide open at seventeen\\r\\nMama ...</td>\n",
       "      <td>cinderella</td>\n",
       "    </tr>\n",
       "    <tr>\n",
       "      <th>2</th>\n",
       "      <td>bad attitude shuffle</td>\n",
       "      <td>Cinderella</td>\n",
       "      <td>4wuC758Y3ww5qMos5ZwKy1</td>\n",
       "      <td>When I get up in the morning\\r\\nGot a world of...</td>\n",
       "      <td>cinderella</td>\n",
       "    </tr>\n",
       "    <tr>\n",
       "      <th>3</th>\n",
       "      <td>bad seamstress blues / fallin' apart at the seams</td>\n",
       "      <td>Cinderella</td>\n",
       "      <td>1tTXWqYA0DPxhEGURogUA5</td>\n",
       "      <td>NaN</td>\n",
       "      <td>NaN</td>\n",
       "    </tr>\n",
       "    <tr>\n",
       "      <th>4</th>\n",
       "      <td>blood from a stone</td>\n",
       "      <td>Cinderella</td>\n",
       "      <td>4y7mEehOfiQvfqSkNaDxfx</td>\n",
       "      <td>Well I've been walkin'\\r\\nDown a one way dirty...</td>\n",
       "      <td>cinderella</td>\n",
       "    </tr>\n",
       "    <tr>\n",
       "      <th>5</th>\n",
       "      <td>coming home</td>\n",
       "      <td>Cinderella</td>\n",
       "      <td>5EicljVZKVOo2LZHREtWmQ</td>\n",
       "      <td>I took a walk down a road it's the road I was ...</td>\n",
       "      <td>cinderella</td>\n",
       "    </tr>\n",
       "    <tr>\n",
       "      <th>6</th>\n",
       "      <td>dead man's road</td>\n",
       "      <td>Cinderella</td>\n",
       "      <td>3TNiHJztyXXeOTNGE2cm1b</td>\n",
       "      <td>When I was young, old man sat me on his knee\\r...</td>\n",
       "      <td>cinderella</td>\n",
       "    </tr>\n",
       "    <tr>\n",
       "      <th>7</th>\n",
       "      <td>don't know what you got (till it's gone)</td>\n",
       "      <td>Cinderella</td>\n",
       "      <td>5QRs63VVKNaqUjg6XSSckM</td>\n",
       "      <td>NaN</td>\n",
       "      <td>NaN</td>\n",
       "    </tr>\n",
       "    <tr>\n",
       "      <th>8</th>\n",
       "      <td>easy come easy go</td>\n",
       "      <td>Cinderella</td>\n",
       "      <td>0RoRJKalaFrXVN0tZ70Uht</td>\n",
       "      <td>NaN</td>\n",
       "      <td>NaN</td>\n",
       "    </tr>\n",
       "    <tr>\n",
       "      <th>9</th>\n",
       "      <td>electric love</td>\n",
       "      <td>Cinderella</td>\n",
       "      <td>1pSN9WfWS6ZlhZQWKEruA6</td>\n",
       "      <td>When I was down\\r\\nAn angel came to me\\r\\nAnd ...</td>\n",
       "      <td>cinderella</td>\n",
       "    </tr>\n",
       "    <tr>\n",
       "      <th>10</th>\n",
       "      <td>fire and ice</td>\n",
       "      <td>Cinderella</td>\n",
       "      <td>1mWp11DOgXh85qxksv4eGL</td>\n",
       "      <td>And do ya feel like I feel\\r\\nWhen I want you ...</td>\n",
       "      <td>cinderella</td>\n",
       "    </tr>\n",
       "    <tr>\n",
       "      <th>11</th>\n",
       "      <td>freewheelin</td>\n",
       "      <td>Cinderella</td>\n",
       "      <td>42yxDqxZnLsSb1UB7GfhsU</td>\n",
       "      <td>NaN</td>\n",
       "      <td>NaN</td>\n",
       "    </tr>\n",
       "    <tr>\n",
       "      <th>12</th>\n",
       "      <td>gypsy road</td>\n",
       "      <td>Cinderella</td>\n",
       "      <td>2F8Glc7r4mHHSCEegD4Ju1</td>\n",
       "      <td>NaN</td>\n",
       "      <td>NaN</td>\n",
       "    </tr>\n",
       "    <tr>\n",
       "      <th>13</th>\n",
       "      <td>hard to find the words</td>\n",
       "      <td>Cinderella</td>\n",
       "      <td>48EJUcJHrhf2ADhez1rmrn</td>\n",
       "      <td>Mama sometimes I feel inside\\r\\nThere's nothin...</td>\n",
       "      <td>cinderella</td>\n",
       "    </tr>\n",
       "    <tr>\n",
       "      <th>14</th>\n",
       "      <td>heartbreak station</td>\n",
       "      <td>Cinderella</td>\n",
       "      <td>71cWHhV018hztNkCC45Ayo</td>\n",
       "      <td>Waiting at the station\\r\\nTears filling up my ...</td>\n",
       "      <td>cinderella</td>\n",
       "    </tr>\n",
       "    <tr>\n",
       "      <th>15</th>\n",
       "      <td>hell on wheels</td>\n",
       "      <td>Cinderella</td>\n",
       "      <td>2WwDgPzf0U3dQlIbk3tkby</td>\n",
       "      <td>We hang tough\\r\\nWhen the chips are low\\r\\nCan...</td>\n",
       "      <td>cinderella</td>\n",
       "    </tr>\n",
       "    <tr>\n",
       "      <th>16</th>\n",
       "      <td>hot and bothered</td>\n",
       "      <td>Cinderella</td>\n",
       "      <td>57alg3giwMZtJ1Xna8YACx</td>\n",
       "      <td>You got me jumpin' right out of my skin\\r\\nYou...</td>\n",
       "      <td>cinderella</td>\n",
       "    </tr>\n",
       "    <tr>\n",
       "      <th>17</th>\n",
       "      <td>if you don't like it</td>\n",
       "      <td>Cinderella</td>\n",
       "      <td>2VeDCV464TvUZH9CzgTdzx</td>\n",
       "      <td>I don't need anyone\\r\\nTo tell me how to run m...</td>\n",
       "      <td>cinderella</td>\n",
       "    </tr>\n",
       "    <tr>\n",
       "      <th>18</th>\n",
       "      <td>in from the outside</td>\n",
       "      <td>Cinderella</td>\n",
       "      <td>6g7P01tVyB7IPTjqUUpDCd</td>\n",
       "      <td>I've been loved and I've been shoved\\r\\nbeaten...</td>\n",
       "      <td>cinderella</td>\n",
       "    </tr>\n",
       "    <tr>\n",
       "      <th>19</th>\n",
       "      <td>long cold winter</td>\n",
       "      <td>Cinderella</td>\n",
       "      <td>6rsmUTZe2G14DPkjAhL7HK</td>\n",
       "      <td>I've been down\\r\\nI've been cryin' in the dead...</td>\n",
       "      <td>cinderella</td>\n",
       "    </tr>\n",
       "    <tr>\n",
       "      <th>20</th>\n",
       "      <td>love gone bad</td>\n",
       "      <td>Cinderella</td>\n",
       "      <td>5IONaSPuuk92LSRrK5qB8e</td>\n",
       "      <td>If I hear you stalkin'\\r\\nLooking for sympathy...</td>\n",
       "      <td>cinderella</td>\n",
       "    </tr>\n",
       "    <tr>\n",
       "      <th>21</th>\n",
       "      <td>love's got me doin' time</td>\n",
       "      <td>Cinderella</td>\n",
       "      <td>2FTbtJXfR9ROrBFguhL4dX</td>\n",
       "      <td>NaN</td>\n",
       "      <td>NaN</td>\n",
       "    </tr>\n",
       "    <tr>\n",
       "      <th>22</th>\n",
       "      <td>make your own way</td>\n",
       "      <td>Cinderella</td>\n",
       "      <td>03GRZjnZt4SPEZWbOBPYW3</td>\n",
       "      <td>Born and raised in a one dog town\\r\\nThat neve...</td>\n",
       "      <td>cinderella</td>\n",
       "    </tr>\n",
       "    <tr>\n",
       "      <th>23</th>\n",
       "      <td>night songs</td>\n",
       "      <td>Cinderella</td>\n",
       "      <td>0hbWDY0Rvl5kcTvSNsilUA</td>\n",
       "      <td>Workin' this job ain't payin' the bills\\nSick ...</td>\n",
       "      <td>cinderella</td>\n",
       "    </tr>\n",
       "    <tr>\n",
       "      <th>24</th>\n",
       "      <td>nobody's fool</td>\n",
       "      <td>Cinderella</td>\n",
       "      <td>01Q4wU19hamqnhNjtuvTyI</td>\n",
       "      <td>I count the falling tears\\nThey fall before my...</td>\n",
       "      <td>cinderella</td>\n",
       "    </tr>\n",
       "    <tr>\n",
       "      <th>25</th>\n",
       "      <td>nothin' for nothin'</td>\n",
       "      <td>Cinderella</td>\n",
       "      <td>0dINglXmCtuTjeMk5P2Afe</td>\n",
       "      <td>When you see your face in the mirror\\nDoes it ...</td>\n",
       "      <td>cinderella</td>\n",
       "    </tr>\n",
       "    <tr>\n",
       "      <th>26</th>\n",
       "      <td>once around the ride</td>\n",
       "      <td>Cinderella</td>\n",
       "      <td>4b5ZbbDhCAcAZy1caSJemj</td>\n",
       "      <td>See me, feel me, come and touch me\\r\\nThe way ...</td>\n",
       "      <td>cinderella</td>\n",
       "    </tr>\n",
       "    <tr>\n",
       "      <th>27</th>\n",
       "      <td>one for rock &amp; roll</td>\n",
       "      <td>Cinderella</td>\n",
       "      <td>2UcLdnK7OqOPKTuBwxl3N8</td>\n",
       "      <td>NaN</td>\n",
       "      <td>NaN</td>\n",
       "    </tr>\n",
       "    <tr>\n",
       "      <th>28</th>\n",
       "      <td>push push</td>\n",
       "      <td>Cinderella</td>\n",
       "      <td>2ZkVw93hmiJRMcj0pOiG9o</td>\n",
       "      <td>NaN</td>\n",
       "      <td>NaN</td>\n",
       "    </tr>\n",
       "    <tr>\n",
       "      <th>29</th>\n",
       "      <td>second wind</td>\n",
       "      <td>Cinderella</td>\n",
       "      <td>4oYYHxNwdIipmWu0ht2T6s</td>\n",
       "      <td>Lightning strikes before my eyes\\r\\nMakes them...</td>\n",
       "      <td>cinderella</td>\n",
       "    </tr>\n",
       "    <tr>\n",
       "      <th>30</th>\n",
       "      <td>shake me</td>\n",
       "      <td>Cinderella</td>\n",
       "      <td>1Qjpl8Kav6rrO92ZuG0OK8</td>\n",
       "      <td>Alright, yeah\\r\\n\\r\\nI met this girl around qu...</td>\n",
       "      <td>cinderella</td>\n",
       "    </tr>\n",
       "    <tr>\n",
       "      <th>31</th>\n",
       "      <td>shelter me</td>\n",
       "      <td>Cinderella</td>\n",
       "      <td>4RTV6bpggP3qZeDfPThJms</td>\n",
       "      <td>NaN</td>\n",
       "      <td>NaN</td>\n",
       "    </tr>\n",
       "    <tr>\n",
       "      <th>32</th>\n",
       "      <td>sick for the cure</td>\n",
       "      <td>Cinderella</td>\n",
       "      <td>42qPPmvVwx67PrCporELq6</td>\n",
       "      <td>There used to be a time when I thought I had t...</td>\n",
       "      <td>cinderella</td>\n",
       "    </tr>\n",
       "    <tr>\n",
       "      <th>33</th>\n",
       "      <td>somebody save me</td>\n",
       "      <td>Cinderella</td>\n",
       "      <td>3fjiaIx6KFssAz3C8TaUec</td>\n",
       "      <td>When I was a young boy\\nThey said you're only ...</td>\n",
       "      <td>cinderella</td>\n",
       "    </tr>\n",
       "    <tr>\n",
       "      <th>34</th>\n",
       "      <td>still climbing</td>\n",
       "      <td>Cinderella</td>\n",
       "      <td>1H9ocnYlEuGDfnQF8dFnDY</td>\n",
       "      <td>I see people walking down the street\\r\\nGot th...</td>\n",
       "      <td>cinderella</td>\n",
       "    </tr>\n",
       "    <tr>\n",
       "      <th>35</th>\n",
       "      <td>take me back</td>\n",
       "      <td>Cinderella</td>\n",
       "      <td>7nyjXSQu2WGpZMzzBthVbN</td>\n",
       "      <td>I walked alone my heart a little colder\\r\\nTry...</td>\n",
       "      <td>cinderella</td>\n",
       "    </tr>\n",
       "    <tr>\n",
       "      <th>36</th>\n",
       "      <td>talk is cheap</td>\n",
       "      <td>Cinderella</td>\n",
       "      <td>5UEewbbYUxm1dibx17lD2s</td>\n",
       "      <td>You're wearing out your welcome wagon\\r\\nScrap...</td>\n",
       "      <td>cinderella</td>\n",
       "    </tr>\n",
       "    <tr>\n",
       "      <th>37</th>\n",
       "      <td>the last mile</td>\n",
       "      <td>Cinderella</td>\n",
       "      <td>4wKTPZe1AgKNPObJ357dZK</td>\n",
       "      <td>Oh\\r\\n\\r\\nOh yeah!\\r\\n\\r\\nMe and Billy boy and...</td>\n",
       "      <td>cinderella</td>\n",
       "    </tr>\n",
       "    <tr>\n",
       "      <th>38</th>\n",
       "      <td>the more things change</td>\n",
       "      <td>Cinderella</td>\n",
       "      <td>0XxxH4ljmzTskD0xtBzJy4</td>\n",
       "      <td>Woke up this morning on the wrong side of bed\\...</td>\n",
       "      <td>cinderella</td>\n",
       "    </tr>\n",
       "    <tr>\n",
       "      <th>39</th>\n",
       "      <td>the road's still long</td>\n",
       "      <td>Cinderella</td>\n",
       "      <td>3NMVvpcCfAUSUtX1wAuP4m</td>\n",
       "      <td>Growing up as a young boy\\nSometimes can be ro...</td>\n",
       "      <td>cinderella</td>\n",
       "    </tr>\n",
       "    <tr>\n",
       "      <th>40</th>\n",
       "      <td>through the rain</td>\n",
       "      <td>Cinderella</td>\n",
       "      <td>4Ty7phTFZIWCg6BKFuABZg</td>\n",
       "      <td>I know it's hard\\r\\nIn a world gone mad\\r\\nTo ...</td>\n",
       "      <td>cinderella</td>\n",
       "    </tr>\n",
       "    <tr>\n",
       "      <th>41</th>\n",
       "      <td>winds of change</td>\n",
       "      <td>Cinderella</td>\n",
       "      <td>5P9Q2G5fz7o1SBDFlhsSxQ</td>\n",
       "      <td>I look into the mirror\\r\\nCan almost count the...</td>\n",
       "      <td>cinderella</td>\n",
       "    </tr>\n",
       "  </tbody>\n",
       "</table>\n",
       "</div>"
      ],
      "text/plain": [
       "                                                title    artist_x  \\\n",
       "0                                      all comes down  Cinderella   \n",
       "1                                     back home again  Cinderella   \n",
       "2                                bad attitude shuffle  Cinderella   \n",
       "3   bad seamstress blues / fallin' apart at the seams  Cinderella   \n",
       "4                                  blood from a stone  Cinderella   \n",
       "5                                         coming home  Cinderella   \n",
       "6                                     dead man's road  Cinderella   \n",
       "7            don't know what you got (till it's gone)  Cinderella   \n",
       "8                                   easy come easy go  Cinderella   \n",
       "9                                       electric love  Cinderella   \n",
       "10                                       fire and ice  Cinderella   \n",
       "11                                        freewheelin  Cinderella   \n",
       "12                                         gypsy road  Cinderella   \n",
       "13                             hard to find the words  Cinderella   \n",
       "14                                 heartbreak station  Cinderella   \n",
       "15                                     hell on wheels  Cinderella   \n",
       "16                                   hot and bothered  Cinderella   \n",
       "17                               if you don't like it  Cinderella   \n",
       "18                                in from the outside  Cinderella   \n",
       "19                                   long cold winter  Cinderella   \n",
       "20                                      love gone bad  Cinderella   \n",
       "21                           love's got me doin' time  Cinderella   \n",
       "22                                  make your own way  Cinderella   \n",
       "23                                        night songs  Cinderella   \n",
       "24                                      nobody's fool  Cinderella   \n",
       "25                                nothin' for nothin'  Cinderella   \n",
       "26                               once around the ride  Cinderella   \n",
       "27                                one for rock & roll  Cinderella   \n",
       "28                                          push push  Cinderella   \n",
       "29                                        second wind  Cinderella   \n",
       "30                                           shake me  Cinderella   \n",
       "31                                         shelter me  Cinderella   \n",
       "32                                  sick for the cure  Cinderella   \n",
       "33                                   somebody save me  Cinderella   \n",
       "34                                     still climbing  Cinderella   \n",
       "35                                       take me back  Cinderella   \n",
       "36                                      talk is cheap  Cinderella   \n",
       "37                                      the last mile  Cinderella   \n",
       "38                             the more things change  Cinderella   \n",
       "39                              the road's still long  Cinderella   \n",
       "40                                   through the rain  Cinderella   \n",
       "41                                    winds of change  Cinderella   \n",
       "\n",
       "                        id                                              words  \\\n",
       "0   6UR67Dg3t0u7bntNgkT7X2  Everybody thinks it's so easy\\r\\nEverybody thi...   \n",
       "1   78B4O7Wxy2jWaCaGxTFDlY  I hit the road wide open at seventeen\\r\\nMama ...   \n",
       "2   4wuC758Y3ww5qMos5ZwKy1  When I get up in the morning\\r\\nGot a world of...   \n",
       "3   1tTXWqYA0DPxhEGURogUA5                                                NaN   \n",
       "4   4y7mEehOfiQvfqSkNaDxfx  Well I've been walkin'\\r\\nDown a one way dirty...   \n",
       "5   5EicljVZKVOo2LZHREtWmQ  I took a walk down a road it's the road I was ...   \n",
       "6   3TNiHJztyXXeOTNGE2cm1b  When I was young, old man sat me on his knee\\r...   \n",
       "7   5QRs63VVKNaqUjg6XSSckM                                                NaN   \n",
       "8   0RoRJKalaFrXVN0tZ70Uht                                                NaN   \n",
       "9   1pSN9WfWS6ZlhZQWKEruA6  When I was down\\r\\nAn angel came to me\\r\\nAnd ...   \n",
       "10  1mWp11DOgXh85qxksv4eGL  And do ya feel like I feel\\r\\nWhen I want you ...   \n",
       "11  42yxDqxZnLsSb1UB7GfhsU                                                NaN   \n",
       "12  2F8Glc7r4mHHSCEegD4Ju1                                                NaN   \n",
       "13  48EJUcJHrhf2ADhez1rmrn  Mama sometimes I feel inside\\r\\nThere's nothin...   \n",
       "14  71cWHhV018hztNkCC45Ayo  Waiting at the station\\r\\nTears filling up my ...   \n",
       "15  2WwDgPzf0U3dQlIbk3tkby  We hang tough\\r\\nWhen the chips are low\\r\\nCan...   \n",
       "16  57alg3giwMZtJ1Xna8YACx  You got me jumpin' right out of my skin\\r\\nYou...   \n",
       "17  2VeDCV464TvUZH9CzgTdzx  I don't need anyone\\r\\nTo tell me how to run m...   \n",
       "18  6g7P01tVyB7IPTjqUUpDCd  I've been loved and I've been shoved\\r\\nbeaten...   \n",
       "19  6rsmUTZe2G14DPkjAhL7HK  I've been down\\r\\nI've been cryin' in the dead...   \n",
       "20  5IONaSPuuk92LSRrK5qB8e  If I hear you stalkin'\\r\\nLooking for sympathy...   \n",
       "21  2FTbtJXfR9ROrBFguhL4dX                                                NaN   \n",
       "22  03GRZjnZt4SPEZWbOBPYW3  Born and raised in a one dog town\\r\\nThat neve...   \n",
       "23  0hbWDY0Rvl5kcTvSNsilUA  Workin' this job ain't payin' the bills\\nSick ...   \n",
       "24  01Q4wU19hamqnhNjtuvTyI  I count the falling tears\\nThey fall before my...   \n",
       "25  0dINglXmCtuTjeMk5P2Afe  When you see your face in the mirror\\nDoes it ...   \n",
       "26  4b5ZbbDhCAcAZy1caSJemj  See me, feel me, come and touch me\\r\\nThe way ...   \n",
       "27  2UcLdnK7OqOPKTuBwxl3N8                                                NaN   \n",
       "28  2ZkVw93hmiJRMcj0pOiG9o                                                NaN   \n",
       "29  4oYYHxNwdIipmWu0ht2T6s  Lightning strikes before my eyes\\r\\nMakes them...   \n",
       "30  1Qjpl8Kav6rrO92ZuG0OK8  Alright, yeah\\r\\n\\r\\nI met this girl around qu...   \n",
       "31  4RTV6bpggP3qZeDfPThJms                                                NaN   \n",
       "32  42qPPmvVwx67PrCporELq6  There used to be a time when I thought I had t...   \n",
       "33  3fjiaIx6KFssAz3C8TaUec  When I was a young boy\\nThey said you're only ...   \n",
       "34  1H9ocnYlEuGDfnQF8dFnDY  I see people walking down the street\\r\\nGot th...   \n",
       "35  7nyjXSQu2WGpZMzzBthVbN  I walked alone my heart a little colder\\r\\nTry...   \n",
       "36  5UEewbbYUxm1dibx17lD2s  You're wearing out your welcome wagon\\r\\nScrap...   \n",
       "37  4wKTPZe1AgKNPObJ357dZK  Oh\\r\\n\\r\\nOh yeah!\\r\\n\\r\\nMe and Billy boy and...   \n",
       "38  0XxxH4ljmzTskD0xtBzJy4  Woke up this morning on the wrong side of bed\\...   \n",
       "39  3NMVvpcCfAUSUtX1wAuP4m  Growing up as a young boy\\nSometimes can be ro...   \n",
       "40  4Ty7phTFZIWCg6BKFuABZg  I know it's hard\\r\\nIn a world gone mad\\r\\nTo ...   \n",
       "41  5P9Q2G5fz7o1SBDFlhsSxQ  I look into the mirror\\r\\nCan almost count the...   \n",
       "\n",
       "      artist_y  \n",
       "0   cinderella  \n",
       "1   cinderella  \n",
       "2   cinderella  \n",
       "3          NaN  \n",
       "4   cinderella  \n",
       "5   cinderella  \n",
       "6   cinderella  \n",
       "7          NaN  \n",
       "8          NaN  \n",
       "9   cinderella  \n",
       "10  cinderella  \n",
       "11         NaN  \n",
       "12         NaN  \n",
       "13  cinderella  \n",
       "14  cinderella  \n",
       "15  cinderella  \n",
       "16  cinderella  \n",
       "17  cinderella  \n",
       "18  cinderella  \n",
       "19  cinderella  \n",
       "20  cinderella  \n",
       "21         NaN  \n",
       "22  cinderella  \n",
       "23  cinderella  \n",
       "24  cinderella  \n",
       "25  cinderella  \n",
       "26  cinderella  \n",
       "27         NaN  \n",
       "28         NaN  \n",
       "29  cinderella  \n",
       "30  cinderella  \n",
       "31         NaN  \n",
       "32  cinderella  \n",
       "33  cinderella  \n",
       "34  cinderella  \n",
       "35  cinderella  \n",
       "36  cinderella  \n",
       "37  cinderella  \n",
       "38  cinderella  \n",
       "39  cinderella  \n",
       "40  cinderella  \n",
       "41  cinderella  "
      ]
     },
     "execution_count": 19,
     "metadata": {},
     "output_type": "execute_result"
    }
   ],
   "source": [
    "cin = pd.merge(cin_tracks, cin_df, how='left', on=['title'])\n",
    "cin"
   ]
  },
  {
   "cell_type": "code",
   "execution_count": 20,
   "id": "801d4031",
   "metadata": {},
   "outputs": [
    {
     "data": {
      "text/html": [
       "<div>\n",
       "<style scoped>\n",
       "    .dataframe tbody tr th:only-of-type {\n",
       "        vertical-align: middle;\n",
       "    }\n",
       "\n",
       "    .dataframe tbody tr th {\n",
       "        vertical-align: top;\n",
       "    }\n",
       "\n",
       "    .dataframe thead th {\n",
       "        text-align: right;\n",
       "    }\n",
       "</style>\n",
       "<table border=\"1\" class=\"dataframe\">\n",
       "  <thead>\n",
       "    <tr style=\"text-align: right;\">\n",
       "      <th></th>\n",
       "      <th>title</th>\n",
       "      <th>artist_x</th>\n",
       "      <th>id</th>\n",
       "      <th>words</th>\n",
       "      <th>artist_y</th>\n",
       "    </tr>\n",
       "  </thead>\n",
       "  <tbody>\n",
       "    <tr>\n",
       "      <th>0</th>\n",
       "      <td>all comes down</td>\n",
       "      <td>Cinderella</td>\n",
       "      <td>6UR67Dg3t0u7bntNgkT7X2</td>\n",
       "      <td>Everybody thinks it's so easy\\r\\nEverybody thi...</td>\n",
       "      <td>cinderella</td>\n",
       "    </tr>\n",
       "    <tr>\n",
       "      <th>1</th>\n",
       "      <td>back home again</td>\n",
       "      <td>Cinderella</td>\n",
       "      <td>78B4O7Wxy2jWaCaGxTFDlY</td>\n",
       "      <td>I hit the road wide open at seventeen\\r\\nMama ...</td>\n",
       "      <td>cinderella</td>\n",
       "    </tr>\n",
       "    <tr>\n",
       "      <th>2</th>\n",
       "      <td>bad attitude shuffle</td>\n",
       "      <td>Cinderella</td>\n",
       "      <td>4wuC758Y3ww5qMos5ZwKy1</td>\n",
       "      <td>When I get up in the morning\\r\\nGot a world of...</td>\n",
       "      <td>cinderella</td>\n",
       "    </tr>\n",
       "    <tr>\n",
       "      <th>4</th>\n",
       "      <td>blood from a stone</td>\n",
       "      <td>Cinderella</td>\n",
       "      <td>4y7mEehOfiQvfqSkNaDxfx</td>\n",
       "      <td>Well I've been walkin'\\r\\nDown a one way dirty...</td>\n",
       "      <td>cinderella</td>\n",
       "    </tr>\n",
       "    <tr>\n",
       "      <th>5</th>\n",
       "      <td>coming home</td>\n",
       "      <td>Cinderella</td>\n",
       "      <td>5EicljVZKVOo2LZHREtWmQ</td>\n",
       "      <td>I took a walk down a road it's the road I was ...</td>\n",
       "      <td>cinderella</td>\n",
       "    </tr>\n",
       "    <tr>\n",
       "      <th>6</th>\n",
       "      <td>dead man's road</td>\n",
       "      <td>Cinderella</td>\n",
       "      <td>3TNiHJztyXXeOTNGE2cm1b</td>\n",
       "      <td>When I was young, old man sat me on his knee\\r...</td>\n",
       "      <td>cinderella</td>\n",
       "    </tr>\n",
       "    <tr>\n",
       "      <th>9</th>\n",
       "      <td>electric love</td>\n",
       "      <td>Cinderella</td>\n",
       "      <td>1pSN9WfWS6ZlhZQWKEruA6</td>\n",
       "      <td>When I was down\\r\\nAn angel came to me\\r\\nAnd ...</td>\n",
       "      <td>cinderella</td>\n",
       "    </tr>\n",
       "    <tr>\n",
       "      <th>10</th>\n",
       "      <td>fire and ice</td>\n",
       "      <td>Cinderella</td>\n",
       "      <td>1mWp11DOgXh85qxksv4eGL</td>\n",
       "      <td>And do ya feel like I feel\\r\\nWhen I want you ...</td>\n",
       "      <td>cinderella</td>\n",
       "    </tr>\n",
       "    <tr>\n",
       "      <th>13</th>\n",
       "      <td>hard to find the words</td>\n",
       "      <td>Cinderella</td>\n",
       "      <td>48EJUcJHrhf2ADhez1rmrn</td>\n",
       "      <td>Mama sometimes I feel inside\\r\\nThere's nothin...</td>\n",
       "      <td>cinderella</td>\n",
       "    </tr>\n",
       "    <tr>\n",
       "      <th>14</th>\n",
       "      <td>heartbreak station</td>\n",
       "      <td>Cinderella</td>\n",
       "      <td>71cWHhV018hztNkCC45Ayo</td>\n",
       "      <td>Waiting at the station\\r\\nTears filling up my ...</td>\n",
       "      <td>cinderella</td>\n",
       "    </tr>\n",
       "    <tr>\n",
       "      <th>15</th>\n",
       "      <td>hell on wheels</td>\n",
       "      <td>Cinderella</td>\n",
       "      <td>2WwDgPzf0U3dQlIbk3tkby</td>\n",
       "      <td>We hang tough\\r\\nWhen the chips are low\\r\\nCan...</td>\n",
       "      <td>cinderella</td>\n",
       "    </tr>\n",
       "    <tr>\n",
       "      <th>16</th>\n",
       "      <td>hot and bothered</td>\n",
       "      <td>Cinderella</td>\n",
       "      <td>57alg3giwMZtJ1Xna8YACx</td>\n",
       "      <td>You got me jumpin' right out of my skin\\r\\nYou...</td>\n",
       "      <td>cinderella</td>\n",
       "    </tr>\n",
       "    <tr>\n",
       "      <th>17</th>\n",
       "      <td>if you don't like it</td>\n",
       "      <td>Cinderella</td>\n",
       "      <td>2VeDCV464TvUZH9CzgTdzx</td>\n",
       "      <td>I don't need anyone\\r\\nTo tell me how to run m...</td>\n",
       "      <td>cinderella</td>\n",
       "    </tr>\n",
       "    <tr>\n",
       "      <th>18</th>\n",
       "      <td>in from the outside</td>\n",
       "      <td>Cinderella</td>\n",
       "      <td>6g7P01tVyB7IPTjqUUpDCd</td>\n",
       "      <td>I've been loved and I've been shoved\\r\\nbeaten...</td>\n",
       "      <td>cinderella</td>\n",
       "    </tr>\n",
       "    <tr>\n",
       "      <th>19</th>\n",
       "      <td>long cold winter</td>\n",
       "      <td>Cinderella</td>\n",
       "      <td>6rsmUTZe2G14DPkjAhL7HK</td>\n",
       "      <td>I've been down\\r\\nI've been cryin' in the dead...</td>\n",
       "      <td>cinderella</td>\n",
       "    </tr>\n",
       "    <tr>\n",
       "      <th>20</th>\n",
       "      <td>love gone bad</td>\n",
       "      <td>Cinderella</td>\n",
       "      <td>5IONaSPuuk92LSRrK5qB8e</td>\n",
       "      <td>If I hear you stalkin'\\r\\nLooking for sympathy...</td>\n",
       "      <td>cinderella</td>\n",
       "    </tr>\n",
       "    <tr>\n",
       "      <th>22</th>\n",
       "      <td>make your own way</td>\n",
       "      <td>Cinderella</td>\n",
       "      <td>03GRZjnZt4SPEZWbOBPYW3</td>\n",
       "      <td>Born and raised in a one dog town\\r\\nThat neve...</td>\n",
       "      <td>cinderella</td>\n",
       "    </tr>\n",
       "    <tr>\n",
       "      <th>23</th>\n",
       "      <td>night songs</td>\n",
       "      <td>Cinderella</td>\n",
       "      <td>0hbWDY0Rvl5kcTvSNsilUA</td>\n",
       "      <td>Workin' this job ain't payin' the bills\\nSick ...</td>\n",
       "      <td>cinderella</td>\n",
       "    </tr>\n",
       "    <tr>\n",
       "      <th>24</th>\n",
       "      <td>nobody's fool</td>\n",
       "      <td>Cinderella</td>\n",
       "      <td>01Q4wU19hamqnhNjtuvTyI</td>\n",
       "      <td>I count the falling tears\\nThey fall before my...</td>\n",
       "      <td>cinderella</td>\n",
       "    </tr>\n",
       "    <tr>\n",
       "      <th>25</th>\n",
       "      <td>nothin' for nothin'</td>\n",
       "      <td>Cinderella</td>\n",
       "      <td>0dINglXmCtuTjeMk5P2Afe</td>\n",
       "      <td>When you see your face in the mirror\\nDoes it ...</td>\n",
       "      <td>cinderella</td>\n",
       "    </tr>\n",
       "    <tr>\n",
       "      <th>26</th>\n",
       "      <td>once around the ride</td>\n",
       "      <td>Cinderella</td>\n",
       "      <td>4b5ZbbDhCAcAZy1caSJemj</td>\n",
       "      <td>See me, feel me, come and touch me\\r\\nThe way ...</td>\n",
       "      <td>cinderella</td>\n",
       "    </tr>\n",
       "    <tr>\n",
       "      <th>29</th>\n",
       "      <td>second wind</td>\n",
       "      <td>Cinderella</td>\n",
       "      <td>4oYYHxNwdIipmWu0ht2T6s</td>\n",
       "      <td>Lightning strikes before my eyes\\r\\nMakes them...</td>\n",
       "      <td>cinderella</td>\n",
       "    </tr>\n",
       "    <tr>\n",
       "      <th>30</th>\n",
       "      <td>shake me</td>\n",
       "      <td>Cinderella</td>\n",
       "      <td>1Qjpl8Kav6rrO92ZuG0OK8</td>\n",
       "      <td>Alright, yeah\\r\\n\\r\\nI met this girl around qu...</td>\n",
       "      <td>cinderella</td>\n",
       "    </tr>\n",
       "    <tr>\n",
       "      <th>32</th>\n",
       "      <td>sick for the cure</td>\n",
       "      <td>Cinderella</td>\n",
       "      <td>42qPPmvVwx67PrCporELq6</td>\n",
       "      <td>There used to be a time when I thought I had t...</td>\n",
       "      <td>cinderella</td>\n",
       "    </tr>\n",
       "    <tr>\n",
       "      <th>33</th>\n",
       "      <td>somebody save me</td>\n",
       "      <td>Cinderella</td>\n",
       "      <td>3fjiaIx6KFssAz3C8TaUec</td>\n",
       "      <td>When I was a young boy\\nThey said you're only ...</td>\n",
       "      <td>cinderella</td>\n",
       "    </tr>\n",
       "    <tr>\n",
       "      <th>34</th>\n",
       "      <td>still climbing</td>\n",
       "      <td>Cinderella</td>\n",
       "      <td>1H9ocnYlEuGDfnQF8dFnDY</td>\n",
       "      <td>I see people walking down the street\\r\\nGot th...</td>\n",
       "      <td>cinderella</td>\n",
       "    </tr>\n",
       "    <tr>\n",
       "      <th>35</th>\n",
       "      <td>take me back</td>\n",
       "      <td>Cinderella</td>\n",
       "      <td>7nyjXSQu2WGpZMzzBthVbN</td>\n",
       "      <td>I walked alone my heart a little colder\\r\\nTry...</td>\n",
       "      <td>cinderella</td>\n",
       "    </tr>\n",
       "    <tr>\n",
       "      <th>36</th>\n",
       "      <td>talk is cheap</td>\n",
       "      <td>Cinderella</td>\n",
       "      <td>5UEewbbYUxm1dibx17lD2s</td>\n",
       "      <td>You're wearing out your welcome wagon\\r\\nScrap...</td>\n",
       "      <td>cinderella</td>\n",
       "    </tr>\n",
       "    <tr>\n",
       "      <th>37</th>\n",
       "      <td>the last mile</td>\n",
       "      <td>Cinderella</td>\n",
       "      <td>4wKTPZe1AgKNPObJ357dZK</td>\n",
       "      <td>Oh\\r\\n\\r\\nOh yeah!\\r\\n\\r\\nMe and Billy boy and...</td>\n",
       "      <td>cinderella</td>\n",
       "    </tr>\n",
       "    <tr>\n",
       "      <th>38</th>\n",
       "      <td>the more things change</td>\n",
       "      <td>Cinderella</td>\n",
       "      <td>0XxxH4ljmzTskD0xtBzJy4</td>\n",
       "      <td>Woke up this morning on the wrong side of bed\\...</td>\n",
       "      <td>cinderella</td>\n",
       "    </tr>\n",
       "    <tr>\n",
       "      <th>39</th>\n",
       "      <td>the road's still long</td>\n",
       "      <td>Cinderella</td>\n",
       "      <td>3NMVvpcCfAUSUtX1wAuP4m</td>\n",
       "      <td>Growing up as a young boy\\nSometimes can be ro...</td>\n",
       "      <td>cinderella</td>\n",
       "    </tr>\n",
       "    <tr>\n",
       "      <th>40</th>\n",
       "      <td>through the rain</td>\n",
       "      <td>Cinderella</td>\n",
       "      <td>4Ty7phTFZIWCg6BKFuABZg</td>\n",
       "      <td>I know it's hard\\r\\nIn a world gone mad\\r\\nTo ...</td>\n",
       "      <td>cinderella</td>\n",
       "    </tr>\n",
       "    <tr>\n",
       "      <th>41</th>\n",
       "      <td>winds of change</td>\n",
       "      <td>Cinderella</td>\n",
       "      <td>5P9Q2G5fz7o1SBDFlhsSxQ</td>\n",
       "      <td>I look into the mirror\\r\\nCan almost count the...</td>\n",
       "      <td>cinderella</td>\n",
       "    </tr>\n",
       "  </tbody>\n",
       "</table>\n",
       "</div>"
      ],
      "text/plain": [
       "                     title    artist_x                      id  \\\n",
       "0           all comes down  Cinderella  6UR67Dg3t0u7bntNgkT7X2   \n",
       "1          back home again  Cinderella  78B4O7Wxy2jWaCaGxTFDlY   \n",
       "2     bad attitude shuffle  Cinderella  4wuC758Y3ww5qMos5ZwKy1   \n",
       "4       blood from a stone  Cinderella  4y7mEehOfiQvfqSkNaDxfx   \n",
       "5              coming home  Cinderella  5EicljVZKVOo2LZHREtWmQ   \n",
       "6          dead man's road  Cinderella  3TNiHJztyXXeOTNGE2cm1b   \n",
       "9            electric love  Cinderella  1pSN9WfWS6ZlhZQWKEruA6   \n",
       "10            fire and ice  Cinderella  1mWp11DOgXh85qxksv4eGL   \n",
       "13  hard to find the words  Cinderella  48EJUcJHrhf2ADhez1rmrn   \n",
       "14      heartbreak station  Cinderella  71cWHhV018hztNkCC45Ayo   \n",
       "15          hell on wheels  Cinderella  2WwDgPzf0U3dQlIbk3tkby   \n",
       "16        hot and bothered  Cinderella  57alg3giwMZtJ1Xna8YACx   \n",
       "17    if you don't like it  Cinderella  2VeDCV464TvUZH9CzgTdzx   \n",
       "18     in from the outside  Cinderella  6g7P01tVyB7IPTjqUUpDCd   \n",
       "19        long cold winter  Cinderella  6rsmUTZe2G14DPkjAhL7HK   \n",
       "20           love gone bad  Cinderella  5IONaSPuuk92LSRrK5qB8e   \n",
       "22       make your own way  Cinderella  03GRZjnZt4SPEZWbOBPYW3   \n",
       "23             night songs  Cinderella  0hbWDY0Rvl5kcTvSNsilUA   \n",
       "24           nobody's fool  Cinderella  01Q4wU19hamqnhNjtuvTyI   \n",
       "25     nothin' for nothin'  Cinderella  0dINglXmCtuTjeMk5P2Afe   \n",
       "26    once around the ride  Cinderella  4b5ZbbDhCAcAZy1caSJemj   \n",
       "29             second wind  Cinderella  4oYYHxNwdIipmWu0ht2T6s   \n",
       "30                shake me  Cinderella  1Qjpl8Kav6rrO92ZuG0OK8   \n",
       "32       sick for the cure  Cinderella  42qPPmvVwx67PrCporELq6   \n",
       "33        somebody save me  Cinderella  3fjiaIx6KFssAz3C8TaUec   \n",
       "34          still climbing  Cinderella  1H9ocnYlEuGDfnQF8dFnDY   \n",
       "35            take me back  Cinderella  7nyjXSQu2WGpZMzzBthVbN   \n",
       "36           talk is cheap  Cinderella  5UEewbbYUxm1dibx17lD2s   \n",
       "37           the last mile  Cinderella  4wKTPZe1AgKNPObJ357dZK   \n",
       "38  the more things change  Cinderella  0XxxH4ljmzTskD0xtBzJy4   \n",
       "39   the road's still long  Cinderella  3NMVvpcCfAUSUtX1wAuP4m   \n",
       "40        through the rain  Cinderella  4Ty7phTFZIWCg6BKFuABZg   \n",
       "41         winds of change  Cinderella  5P9Q2G5fz7o1SBDFlhsSxQ   \n",
       "\n",
       "                                                words    artist_y  \n",
       "0   Everybody thinks it's so easy\\r\\nEverybody thi...  cinderella  \n",
       "1   I hit the road wide open at seventeen\\r\\nMama ...  cinderella  \n",
       "2   When I get up in the morning\\r\\nGot a world of...  cinderella  \n",
       "4   Well I've been walkin'\\r\\nDown a one way dirty...  cinderella  \n",
       "5   I took a walk down a road it's the road I was ...  cinderella  \n",
       "6   When I was young, old man sat me on his knee\\r...  cinderella  \n",
       "9   When I was down\\r\\nAn angel came to me\\r\\nAnd ...  cinderella  \n",
       "10  And do ya feel like I feel\\r\\nWhen I want you ...  cinderella  \n",
       "13  Mama sometimes I feel inside\\r\\nThere's nothin...  cinderella  \n",
       "14  Waiting at the station\\r\\nTears filling up my ...  cinderella  \n",
       "15  We hang tough\\r\\nWhen the chips are low\\r\\nCan...  cinderella  \n",
       "16  You got me jumpin' right out of my skin\\r\\nYou...  cinderella  \n",
       "17  I don't need anyone\\r\\nTo tell me how to run m...  cinderella  \n",
       "18  I've been loved and I've been shoved\\r\\nbeaten...  cinderella  \n",
       "19  I've been down\\r\\nI've been cryin' in the dead...  cinderella  \n",
       "20  If I hear you stalkin'\\r\\nLooking for sympathy...  cinderella  \n",
       "22  Born and raised in a one dog town\\r\\nThat neve...  cinderella  \n",
       "23  Workin' this job ain't payin' the bills\\nSick ...  cinderella  \n",
       "24  I count the falling tears\\nThey fall before my...  cinderella  \n",
       "25  When you see your face in the mirror\\nDoes it ...  cinderella  \n",
       "26  See me, feel me, come and touch me\\r\\nThe way ...  cinderella  \n",
       "29  Lightning strikes before my eyes\\r\\nMakes them...  cinderella  \n",
       "30  Alright, yeah\\r\\n\\r\\nI met this girl around qu...  cinderella  \n",
       "32  There used to be a time when I thought I had t...  cinderella  \n",
       "33  When I was a young boy\\nThey said you're only ...  cinderella  \n",
       "34  I see people walking down the street\\r\\nGot th...  cinderella  \n",
       "35  I walked alone my heart a little colder\\r\\nTry...  cinderella  \n",
       "36  You're wearing out your welcome wagon\\r\\nScrap...  cinderella  \n",
       "37  Oh\\r\\n\\r\\nOh yeah!\\r\\n\\r\\nMe and Billy boy and...  cinderella  \n",
       "38  Woke up this morning on the wrong side of bed\\...  cinderella  \n",
       "39  Growing up as a young boy\\nSometimes can be ro...  cinderella  \n",
       "40  I know it's hard\\r\\nIn a world gone mad\\r\\nTo ...  cinderella  \n",
       "41  I look into the mirror\\r\\nCan almost count the...  cinderella  "
      ]
     },
     "execution_count": 20,
     "metadata": {},
     "output_type": "execute_result"
    }
   ],
   "source": [
    "cin = cin.dropna()\n",
    "cin"
   ]
  },
  {
   "cell_type": "markdown",
   "id": "1616f195",
   "metadata": {},
   "source": [
    "## Killer Dwarfs"
   ]
  },
  {
   "cell_type": "code",
   "execution_count": null,
   "id": "933fc844",
   "metadata": {},
   "outputs": [],
   "source": [
    "# Found in LyricsBatch247.csv"
   ]
  },
  {
   "cell_type": "code",
   "execution_count": null,
   "id": "2d093a67",
   "metadata": {},
   "outputs": [],
   "source": [
    "kd_df = df[df[\"Band\"]==\"Killer Dwarfs\"]\n",
    "kd_df.shape"
   ]
  },
  {
   "cell_type": "code",
   "execution_count": null,
   "id": "d81a7725",
   "metadata": {
    "scrolled": false
   },
   "outputs": [],
   "source": [
    "kd_df = kd_df.sort_values(by ='Song').reset_index(drop = True)\n",
    "kd_df"
   ]
  },
  {
   "cell_type": "code",
   "execution_count": null,
   "id": "f02c9be9",
   "metadata": {},
   "outputs": [],
   "source": [
    "kd_df = kd_df.drop(index = [5, 7]).reset_index(drop = True)"
   ]
  },
  {
   "cell_type": "markdown",
   "id": "0f5ff6a7",
   "metadata": {},
   "source": [
    "## Kip Winger"
   ]
  },
  {
   "cell_type": "code",
   "execution_count": null,
   "id": "6ec23538",
   "metadata": {},
   "outputs": [],
   "source": [
    "# Found in LyricsBatch249.csv"
   ]
  },
  {
   "cell_type": "code",
   "execution_count": null,
   "id": "5dbd9a5f",
   "metadata": {},
   "outputs": [],
   "source": [
    "kw_df = df[df[\"Band\"]==\"Kip Winger\"]\n",
    "kw_df.shape"
   ]
  },
  {
   "cell_type": "code",
   "execution_count": null,
   "id": "6dcae595",
   "metadata": {
    "scrolled": true
   },
   "outputs": [],
   "source": [
    "kw_df = kw_df.sort_values(by ='Song').reset_index(drop = True)\n",
    "kw_df"
   ]
  },
  {
   "cell_type": "code",
   "execution_count": null,
   "id": "ec862a66",
   "metadata": {},
   "outputs": [],
   "source": [
    "kw_df = kw_df.drop(index = [2, 5, 6, 9, 15, 18, 20, 21]).reset_index(drop = True)"
   ]
  },
  {
   "cell_type": "markdown",
   "id": "4e93588f",
   "metadata": {},
   "source": [
    "## Kiss"
   ]
  },
  {
   "cell_type": "code",
   "execution_count": null,
   "id": "2af85e19",
   "metadata": {},
   "outputs": [],
   "source": [
    "# Found in LyricsBatch250.csv"
   ]
  },
  {
   "cell_type": "code",
   "execution_count": null,
   "id": "ea6db6bd",
   "metadata": {},
   "outputs": [],
   "source": [
    "k_df = df[df[\"Band\"]==\"Kiss\"].iloc[:100,:]\n",
    "k_df.shape"
   ]
  },
  {
   "cell_type": "code",
   "execution_count": null,
   "id": "6e995181",
   "metadata": {},
   "outputs": [],
   "source": [
    "k_df = k_df.sort_values(by ='Song').reset_index(drop = True)\n",
    "k_df"
   ]
  },
  {
   "cell_type": "code",
   "execution_count": null,
   "id": "3a1a63d8",
   "metadata": {},
   "outputs": [],
   "source": [
    "k_df = k_df.drop(index = [33, 34, 40, 46, 56, 99]).reset_index(drop = True)"
   ]
  },
  {
   "cell_type": "code",
   "execution_count": null,
   "id": "3349d5a7",
   "metadata": {},
   "outputs": [],
   "source": [
    "k_df = k_df.replace(' \\[Live\\/1977\\]','',regex=True)\n",
    "k_df = k_df.replace(' \\[Demo\\]','',regex=True)"
   ]
  },
  {
   "cell_type": "markdown",
   "id": "09b11b86",
   "metadata": {},
   "source": [
    "## Kix"
   ]
  },
  {
   "cell_type": "code",
   "execution_count": null,
   "id": "75dc11a9",
   "metadata": {},
   "outputs": [],
   "source": [
    "# Found in LyricsBatch251.csv"
   ]
  },
  {
   "cell_type": "code",
   "execution_count": null,
   "id": "290c1c6d",
   "metadata": {},
   "outputs": [],
   "source": [
    "kx_df = df[df[\"Band\"]==\"Kix\"]\n",
    "kx_df.shape"
   ]
  },
  {
   "cell_type": "code",
   "execution_count": null,
   "id": "ad52df52",
   "metadata": {
    "scrolled": true
   },
   "outputs": [],
   "source": [
    "kx_df = kx_df.sort_values(by ='Song').reset_index(drop = True)\n",
    "kx_df"
   ]
  },
  {
   "cell_type": "code",
   "execution_count": null,
   "id": "e7cec9d2",
   "metadata": {},
   "outputs": [],
   "source": [
    "kx_df = kx_df.drop(index = 34).reset_index(drop = True)"
   ]
  },
  {
   "cell_type": "markdown",
   "id": "79014062",
   "metadata": {},
   "source": [
    "## Krokus"
   ]
  },
  {
   "cell_type": "code",
   "execution_count": null,
   "id": "f1cda124",
   "metadata": {},
   "outputs": [],
   "source": [
    "# Found in LyricsBatch254.csv"
   ]
  },
  {
   "cell_type": "code",
   "execution_count": null,
   "id": "51ac6ff7",
   "metadata": {},
   "outputs": [],
   "source": [
    "kr_df = df[df[\"Band\"]==\"Krokus\"]\n",
    "kr_df.shape"
   ]
  },
  {
   "cell_type": "code",
   "execution_count": null,
   "id": "a145c14c",
   "metadata": {
    "scrolled": true
   },
   "outputs": [],
   "source": [
    "kr_df = kr_df.sort_values(by ='Song').reset_index(drop = True)\n",
    "kr_df"
   ]
  },
  {
   "cell_type": "code",
   "execution_count": null,
   "id": "e33873ae",
   "metadata": {},
   "outputs": [],
   "source": [
    "kr_df = kr_df.drop(index = [3, 9, 36, 43]).reset_index(drop = True)"
   ]
  },
  {
   "cell_type": "markdown",
   "id": "48661e15",
   "metadata": {},
   "source": [
    "## L.A. Guns"
   ]
  },
  {
   "cell_type": "code",
   "execution_count": null,
   "id": "6729269c",
   "metadata": {},
   "outputs": [],
   "source": [
    "# Found in LyricsBatch255.csv"
   ]
  },
  {
   "cell_type": "code",
   "execution_count": null,
   "id": "e3bf51c0",
   "metadata": {},
   "outputs": [],
   "source": [
    "la_df = df[df[\"Band\"]==\"L.A. Guns\"].iloc[:100,:]\n",
    "la_df.shape"
   ]
  },
  {
   "cell_type": "code",
   "execution_count": null,
   "id": "20d87b2d",
   "metadata": {
    "scrolled": true
   },
   "outputs": [],
   "source": [
    "la_df = la_df.sort_values(by ='Song').reset_index(drop = True)\n",
    "la_df"
   ]
  },
  {
   "cell_type": "code",
   "execution_count": null,
   "id": "331f60f5",
   "metadata": {},
   "outputs": [],
   "source": [
    "la_df = la_df.drop(index = [1, 8, 14, 26, 49, 54, 65, 68, 71, 86]).reset_index(drop = True)"
   ]
  },
  {
   "cell_type": "code",
   "execution_count": null,
   "id": "eef3cfbd",
   "metadata": {},
   "outputs": [],
   "source": [
    "la_df = la_df.replace(' \\[\\*\\]','', regex = True)"
   ]
  },
  {
   "cell_type": "markdown",
   "id": "ca163b75",
   "metadata": {},
   "source": [
    "## Lita Ford"
   ]
  },
  {
   "cell_type": "code",
   "execution_count": null,
   "id": "fc55d9dd",
   "metadata": {},
   "outputs": [],
   "source": [
    "# Found in LyricsBatch272.csv & LyricsBatch273.csv"
   ]
  },
  {
   "cell_type": "code",
   "execution_count": null,
   "id": "3f69bf0d",
   "metadata": {
    "scrolled": true
   },
   "outputs": [],
   "source": [
    "lf_df = df[df[\"Band\"]==\"Lita Ford\"]\n",
    "lf_df.shape"
   ]
  },
  {
   "cell_type": "code",
   "execution_count": null,
   "id": "dbe56414",
   "metadata": {
    "scrolled": true
   },
   "outputs": [],
   "source": [
    "lf_df = lf_df.sort_values(by ='Song').reset_index(drop = True)\n",
    "lf_df"
   ]
  },
  {
   "cell_type": "code",
   "execution_count": null,
   "id": "df73618c",
   "metadata": {},
   "outputs": [],
   "source": [
    "lf_df = lf_df.drop(index = [22, 39, 57]).reset_index(drop = True)"
   ]
  },
  {
   "cell_type": "code",
   "execution_count": null,
   "id": "505a5179",
   "metadata": {},
   "outputs": [],
   "source": [
    "lf_df = lf_df.replace(' \\[\\*\\]', '', regex = True) \n",
    "lf_df = lf_df.replace('\\[Exclusive Studio Track\\]','', regex=True)\n",
    "lf_df = lf_df.replace('\\$','Dollar', regex=True)"
   ]
  },
  {
   "cell_type": "markdown",
   "id": "214e5c9a",
   "metadata": {},
   "source": [
    "## Loverboy"
   ]
  },
  {
   "cell_type": "code",
   "execution_count": null,
   "id": "ebdfc525",
   "metadata": {},
   "outputs": [],
   "source": [
    "# Found in LyricsBatch282.csv & LyricsBatch283.csv"
   ]
  },
  {
   "cell_type": "code",
   "execution_count": null,
   "id": "c81ba13d",
   "metadata": {},
   "outputs": [],
   "source": [
    "lb_df = df[df[\"Band\"]==\"Loverboy\"]\n",
    "lb_df.shape"
   ]
  },
  {
   "cell_type": "code",
   "execution_count": null,
   "id": "13a9aea5",
   "metadata": {},
   "outputs": [],
   "source": [
    "lb_df = lb_df.sort_values(by ='Song').reset_index(drop = True)\n",
    "lb_df"
   ]
  },
  {
   "cell_type": "code",
   "execution_count": null,
   "id": "c2ec3dc6",
   "metadata": {},
   "outputs": [],
   "source": [
    "lb_df = lb_df.drop(index = [1, 28]).reset_index(drop = True)"
   ]
  },
  {
   "cell_type": "code",
   "execution_count": null,
   "id": "ccee0e67",
   "metadata": {},
   "outputs": [],
   "source": [
    "lb_df = lb_df.replace(' \\[\\*\\]', '', regex = True) \n"
   ]
  },
  {
   "cell_type": "code",
   "execution_count": null,
   "id": "5885829a",
   "metadata": {},
   "outputs": [],
   "source": [
    "step1 = pd.concat([cin_df, kd_df, k_df, kr_df, \n",
    "                       la_df, lf_df, lb_df])\n",
    "step1.shape"
   ]
  },
  {
   "cell_type": "markdown",
   "id": "9c4bc116",
   "metadata": {},
   "source": [
    "# - 1 band (Autograph) 417 rows"
   ]
  },
  {
   "cell_type": "code",
   "execution_count": null,
   "id": "fda85b4c",
   "metadata": {},
   "outputs": [],
   "source": [
    "df = pd.read_csv(\"LyricsBatch1033.csv\")"
   ]
  },
  {
   "cell_type": "code",
   "execution_count": null,
   "id": "eab8dff5",
   "metadata": {},
   "outputs": [],
   "source": [
    "au_df = df[df[\"Band\"]==\"Autograph\"]\n",
    "au_df.shape"
   ]
  },
  {
   "cell_type": "code",
   "execution_count": null,
   "id": "270e6575",
   "metadata": {
    "scrolled": true
   },
   "outputs": [],
   "source": [
    "au_df = au_df.sort_values(by ='Song').reset_index(drop = True)\n",
    "au_df"
   ]
  },
  {
   "cell_type": "code",
   "execution_count": null,
   "id": "a74c8f7b",
   "metadata": {},
   "outputs": [],
   "source": [
    "au_df = au_df.drop(index = [3, 9, 10, 12, 18, 21]).reset_index(drop = True)"
   ]
  },
  {
   "cell_type": "code",
   "execution_count": null,
   "id": "b1e658b4",
   "metadata": {},
   "outputs": [],
   "source": [
    "step2 = pd.concat([step1, au_df])\n",
    "step2.shape"
   ]
  },
  {
   "cell_type": "markdown",
   "id": "3d7d0a61",
   "metadata": {},
   "source": [
    "# -1 band (Bad English) 439 rows"
   ]
  },
  {
   "cell_type": "code",
   "execution_count": null,
   "id": "37940592",
   "metadata": {},
   "outputs": [],
   "source": [
    "df = pd.read_csv(\"LyricsBatch1037.csv\")"
   ]
  },
  {
   "cell_type": "code",
   "execution_count": null,
   "id": "657b8aa8",
   "metadata": {
    "scrolled": true
   },
   "outputs": [],
   "source": [
    "be_df = df[df[\"Band\"]==\"Bad English\"]\n",
    "be_df.shape"
   ]
  },
  {
   "cell_type": "code",
   "execution_count": null,
   "id": "e5a42301",
   "metadata": {},
   "outputs": [],
   "source": [
    "be_df = be_df.sort_values(by ='Song').reset_index(drop = True)\n",
    "be_df"
   ]
  },
  {
   "cell_type": "code",
   "execution_count": null,
   "id": "2ee53b6c",
   "metadata": {},
   "outputs": [],
   "source": [
    "step3 = pd.concat([step2, be_df])\n",
    "step3.shape"
   ]
  },
  {
   "cell_type": "markdown",
   "id": "ab27eda4",
   "metadata": {},
   "source": [
    "# -2 bands (466 rows)"
   ]
  },
  {
   "cell_type": "markdown",
   "id": "dea7421a",
   "metadata": {},
   "source": [
    "## Damn Yankees"
   ]
  },
  {
   "cell_type": "code",
   "execution_count": null,
   "id": "aee01985",
   "metadata": {},
   "outputs": [],
   "source": [
    "df = pd.read_csv(\"LyricsBatch37.csv\")"
   ]
  },
  {
   "cell_type": "code",
   "execution_count": null,
   "id": "2ad9cf3d",
   "metadata": {},
   "outputs": [],
   "source": [
    "dy_df = df[df[\"Band\"]==\"Damn Yankees\"]\n",
    "dy_df.shape"
   ]
  },
  {
   "cell_type": "code",
   "execution_count": null,
   "id": "6dfd951d",
   "metadata": {},
   "outputs": [],
   "source": [
    "dy_df = dy_df.sort_values(by ='Song').reset_index(drop = True)\n",
    "dy_df"
   ]
  },
  {
   "cell_type": "markdown",
   "id": "f64a1a9f",
   "metadata": {},
   "source": [
    "## Danger Danger"
   ]
  },
  {
   "cell_type": "code",
   "execution_count": null,
   "id": "5983c20d",
   "metadata": {},
   "outputs": [],
   "source": [
    "df = pd.read_csv(\"LyricsBatch38.csv\")"
   ]
  },
  {
   "cell_type": "code",
   "execution_count": null,
   "id": "63aa3507",
   "metadata": {},
   "outputs": [],
   "source": [
    "dd_df = df[df[\"Band\"]==\"Danger Danger\"]\n",
    "dd_df.shape"
   ]
  },
  {
   "cell_type": "code",
   "execution_count": null,
   "id": "d727a3f5",
   "metadata": {},
   "outputs": [],
   "source": [
    "dd_df = dd_df.sort_values(by ='Song').reset_index(drop = True)\n",
    "dd_df"
   ]
  },
  {
   "cell_type": "code",
   "execution_count": null,
   "id": "3c6b8a50",
   "metadata": {},
   "outputs": [],
   "source": [
    "step4 = pd.concat([step3, dy_df, dd_df])\n",
    "step4.shape"
   ]
  },
  {
   "cell_type": "markdown",
   "id": "93b145bb",
   "metadata": {},
   "source": [
    "# -1 band (Def Leppard) 548 rows"
   ]
  },
  {
   "cell_type": "code",
   "execution_count": null,
   "id": "9d29540b",
   "metadata": {},
   "outputs": [],
   "source": [
    "df = pd.read_csv(\"LyricsBatch51.csv\")"
   ]
  },
  {
   "cell_type": "code",
   "execution_count": null,
   "id": "86edda4e",
   "metadata": {},
   "outputs": [],
   "source": [
    "def_df = df[df[\"Band\"]==\"Def Leppard\"].iloc[:100,:]\n",
    "def_df.shape"
   ]
  },
  {
   "cell_type": "code",
   "execution_count": null,
   "id": "b62845e0",
   "metadata": {
    "scrolled": false
   },
   "outputs": [],
   "source": [
    "def_df = def_df.sort_values(by ='Song').reset_index(drop = True)\n",
    "def_df"
   ]
  },
  {
   "cell_type": "code",
   "execution_count": null,
   "id": "9bd45142",
   "metadata": {},
   "outputs": [],
   "source": [
    "def_df = def_df.drop(index = [4, 7, 9, 11, 20, 24, 43, 48, 53, 62, 67, 68, 71, 72, 74, 75, 89, 97]).reset_index(drop = True)"
   ]
  },
  {
   "cell_type": "code",
   "execution_count": null,
   "id": "44315ea5",
   "metadata": {},
   "outputs": [],
   "source": [
    "def_df = def_df.replace(' \\[\\*\\]', '', regex = True)\n",
    "def_df = def_df.replace('\\[\\*\\]', '', regex = True)\n",
    "def_df = def_df.replace(' \\[\\#\\]', '', regex = True) \n",
    "def_df = def_df.replace(' \\[Live\\]','', regex=True)\n",
    "def_df = def_df.replace(' \\[Electric Version\\]','', regex=True)"
   ]
  },
  {
   "cell_type": "code",
   "execution_count": null,
   "id": "5c46103b",
   "metadata": {},
   "outputs": [],
   "source": [
    "step5 = pd.concat([step4, def_df])\n",
    "step5.shape"
   ]
  },
  {
   "cell_type": "markdown",
   "id": "f67e2821",
   "metadata": {},
   "source": [
    "# -1 band (Dokken) 631 rows"
   ]
  },
  {
   "cell_type": "code",
   "execution_count": null,
   "id": "51be928e",
   "metadata": {},
   "outputs": [],
   "source": [
    "df = pd.read_csv(\"LyricsBatch68.csv\")"
   ]
  },
  {
   "cell_type": "code",
   "execution_count": null,
   "id": "21883898",
   "metadata": {
    "scrolled": true
   },
   "outputs": [],
   "source": [
    "do_df = df[df[\"Band\"]==\"Dokken\"]\n",
    "do_df.shape"
   ]
  },
  {
   "cell_type": "code",
   "execution_count": null,
   "id": "318e50c4",
   "metadata": {
    "scrolled": false
   },
   "outputs": [],
   "source": [
    "do_df = do_df.sort_values(by ='Song').reset_index(drop = True)\n",
    "do_df"
   ]
  },
  {
   "cell_type": "code",
   "execution_count": null,
   "id": "4edda202",
   "metadata": {},
   "outputs": [],
   "source": [
    "do_df = do_df.drop(index = [1, 15, 34, 53, 55, 77, 78, 81]).reset_index(drop = True)"
   ]
  },
  {
   "cell_type": "code",
   "execution_count": null,
   "id": "9afa52ce",
   "metadata": {},
   "outputs": [],
   "source": [
    "step6 = pd.concat([step5, do_df])\n",
    "step6.shape"
   ]
  },
  {
   "cell_type": "markdown",
   "id": "745db6ab",
   "metadata": {},
   "source": [
    "# -1 band (Enuff Z'nuff) 678 rows"
   ]
  },
  {
   "cell_type": "code",
   "execution_count": null,
   "id": "d95f6d2f",
   "metadata": {},
   "outputs": [],
   "source": [
    "df = pd.read_csv(\"LyricsBatch96.csv\")"
   ]
  },
  {
   "cell_type": "code",
   "execution_count": null,
   "id": "829f12ec",
   "metadata": {},
   "outputs": [],
   "source": [
    "en_df = df[df[\"Band\"]==\"Enuff Z'nuff\"]\n",
    "en_df.shape"
   ]
  },
  {
   "cell_type": "code",
   "execution_count": null,
   "id": "c6ab8a3d",
   "metadata": {
    "scrolled": true
   },
   "outputs": [],
   "source": [
    "en_df = en_df.sort_values(by ='Song').reset_index(drop = True)\n",
    "en_df"
   ]
  },
  {
   "cell_type": "code",
   "execution_count": null,
   "id": "b5ed8605",
   "metadata": {},
   "outputs": [],
   "source": [
    "en_df = en_df.replace(' \\[\\*\\]', '', regex = True)"
   ]
  },
  {
   "cell_type": "code",
   "execution_count": null,
   "id": "7a35a3c7",
   "metadata": {},
   "outputs": [],
   "source": [
    "step7 = pd.concat([step6, en_df])\n",
    "step7.shape"
   ]
  },
  {
   "cell_type": "markdown",
   "id": "6050be47",
   "metadata": {},
   "source": [
    "# -3 bands (818 rows)"
   ]
  },
  {
   "cell_type": "code",
   "execution_count": null,
   "id": "e77c7f9c",
   "metadata": {},
   "outputs": [],
   "source": [
    "# merging the files\n",
    "joined_files = os.path.join(\"LyricsBatch10?.csv\")"
   ]
  },
  {
   "cell_type": "code",
   "execution_count": null,
   "id": "36d98ea6",
   "metadata": {},
   "outputs": [],
   "source": [
    "# A list of all joined files is returned\n",
    "joined_list = glob.glob(joined_files)"
   ]
  },
  {
   "cell_type": "code",
   "execution_count": null,
   "id": "69efe24f",
   "metadata": {
    "scrolled": true
   },
   "outputs": [],
   "source": [
    "# Finally, the files are joined\n",
    "df = pd.concat(map(pd.read_csv, joined_list), ignore_index=True)"
   ]
  },
  {
   "cell_type": "markdown",
   "id": "e52a403b",
   "metadata": {},
   "source": [
    "## Europe"
   ]
  },
  {
   "cell_type": "code",
   "execution_count": null,
   "id": "d2ff2735",
   "metadata": {},
   "outputs": [],
   "source": [
    "# Found in LyricsBatch101.csv"
   ]
  },
  {
   "cell_type": "code",
   "execution_count": null,
   "id": "033986d9",
   "metadata": {},
   "outputs": [],
   "source": [
    "eu_df = df[df[\"Band\"]==\"Europe\"].iloc[:100,:]\n",
    "eu_df.shape"
   ]
  },
  {
   "cell_type": "code",
   "execution_count": null,
   "id": "a0c7cd8a",
   "metadata": {
    "scrolled": false
   },
   "outputs": [],
   "source": [
    "eu_df = eu_df.sort_values(by ='Song').reset_index(drop = True)\n",
    "eu_df"
   ]
  },
  {
   "cell_type": "code",
   "execution_count": null,
   "id": "84b581ce",
   "metadata": {},
   "outputs": [],
   "source": [
    "eu_df = eu_df.drop(index = [6, 10, 16, 22, 30, 34, 35, 40, 42, 57, 59, 67, 68, 71, 80, 83, 84, 94, 98, 99]).reset_index(drop = True)"
   ]
  },
  {
   "cell_type": "code",
   "execution_count": null,
   "id": "eb951ad2",
   "metadata": {},
   "outputs": [],
   "source": [
    "eu_df = eu_df.replace(' \\[DVD\\]', '', regex = True)\n",
    "eu_df = eu_df.replace(' \\[Radio Edit\\]', '', regex = True)\n",
    "eu_df = eu_df.replace(' \\(Single B-Side\\)', '', regex = True)"
   ]
  },
  {
   "cell_type": "markdown",
   "id": "11ffb0b3",
   "metadata": {},
   "source": [
    "## Extreme"
   ]
  },
  {
   "cell_type": "code",
   "execution_count": null,
   "id": "222f343d",
   "metadata": {},
   "outputs": [],
   "source": [
    "# Found in LyricsBatch102.csv"
   ]
  },
  {
   "cell_type": "code",
   "execution_count": null,
   "id": "5832e82d",
   "metadata": {},
   "outputs": [],
   "source": [
    "ex_df = df[df[\"Band\"]==\"Extreme\"]\n",
    "ex_df.shape"
   ]
  },
  {
   "cell_type": "code",
   "execution_count": null,
   "id": "735616b1",
   "metadata": {
    "scrolled": true
   },
   "outputs": [],
   "source": [
    "ex_df = ex_df.sort_values(by ='Song').reset_index(drop = True)\n",
    "ex_df"
   ]
  },
  {
   "cell_type": "code",
   "execution_count": null,
   "id": "bf3168bc",
   "metadata": {},
   "outputs": [],
   "source": [
    "ex_df = ex_df.drop(index = [6, 43]).reset_index(drop = True)"
   ]
  },
  {
   "cell_type": "markdown",
   "id": "9340ce59",
   "metadata": {},
   "source": [
    "## Faster Pussycat"
   ]
  },
  {
   "cell_type": "code",
   "execution_count": null,
   "id": "c6a56f68",
   "metadata": {},
   "outputs": [],
   "source": [
    "# Found in LyricsBatch105.csv"
   ]
  },
  {
   "cell_type": "code",
   "execution_count": null,
   "id": "7b82221c",
   "metadata": {},
   "outputs": [],
   "source": [
    "fp_df = df[df[\"Band\"]==\"Faster Pussycat\"]\n",
    "fp_df.shape"
   ]
  },
  {
   "cell_type": "code",
   "execution_count": null,
   "id": "7b3bddaf",
   "metadata": {},
   "outputs": [],
   "source": [
    "fp_df = fp_df.sort_values(by ='Song').reset_index(drop = True)\n",
    "fp_df"
   ]
  },
  {
   "cell_type": "code",
   "execution_count": null,
   "id": "c18ee082",
   "metadata": {},
   "outputs": [],
   "source": [
    "step8 = pd.concat([step7, eu_df, ex_df, fp_df])\n",
    "step8.shape"
   ]
  },
  {
   "cell_type": "markdown",
   "id": "33049fa2",
   "metadata": {},
   "source": [
    "# -1 band (Firehouse) 869 rows"
   ]
  },
  {
   "cell_type": "code",
   "execution_count": null,
   "id": "b898ed5b",
   "metadata": {},
   "outputs": [],
   "source": [
    "df = pd.read_csv(\"LyricsBatch119.csv\")"
   ]
  },
  {
   "cell_type": "code",
   "execution_count": null,
   "id": "7a9b80da",
   "metadata": {},
   "outputs": [],
   "source": [
    "fh_df = df[df[\"Band\"]==\"Firehouse\"]\n",
    "fh_df.shape"
   ]
  },
  {
   "cell_type": "code",
   "execution_count": null,
   "id": "3230235f",
   "metadata": {},
   "outputs": [],
   "source": [
    "fh_df = fh_df.sort_values(by ='Song').reset_index(drop = True)\n",
    "fh_df"
   ]
  },
  {
   "cell_type": "code",
   "execution_count": null,
   "id": "4741f80c",
   "metadata": {},
   "outputs": [],
   "source": [
    "step9 = pd.concat([step8, fh_df])\n",
    "step9.shape"
   ]
  },
  {
   "cell_type": "markdown",
   "id": "f924e240",
   "metadata": {},
   "source": [
    "# -1 band (Giant) 891 rows"
   ]
  },
  {
   "cell_type": "code",
   "execution_count": null,
   "id": "e5950c2f",
   "metadata": {},
   "outputs": [],
   "source": [
    "df = pd.read_csv(\"LyricsBatch142.csv\")"
   ]
  },
  {
   "cell_type": "code",
   "execution_count": null,
   "id": "b6235f9b",
   "metadata": {},
   "outputs": [],
   "source": [
    "g_df = df[df[\"Band\"]==\"Giant\"]\n",
    "g_df.shape"
   ]
  },
  {
   "cell_type": "code",
   "execution_count": null,
   "id": "563329a5",
   "metadata": {},
   "outputs": [],
   "source": [
    "g_df = g_df.sort_values(by ='Song').reset_index(drop = True)\n",
    "g_df"
   ]
  },
  {
   "cell_type": "code",
   "execution_count": null,
   "id": "dcb870c8",
   "metadata": {},
   "outputs": [],
   "source": [
    "step10 = pd.concat([step9, g_df])\n",
    "step10.shape"
   ]
  },
  {
   "cell_type": "markdown",
   "id": "89c1c72a",
   "metadata": {},
   "source": [
    "# -1 band (Gorky Park) 896 rows"
   ]
  },
  {
   "cell_type": "code",
   "execution_count": null,
   "id": "ef5825a7",
   "metadata": {},
   "outputs": [],
   "source": [
    "df = pd.read_csv(\"LyricsBatch149.csv\")"
   ]
  },
  {
   "cell_type": "code",
   "execution_count": null,
   "id": "bbb6a8cd",
   "metadata": {
    "scrolled": true
   },
   "outputs": [],
   "source": [
    "gp_df = df[df[\"Band\"]==\"Gorky Park\"]\n",
    "gp_df.shape"
   ]
  },
  {
   "cell_type": "code",
   "execution_count": null,
   "id": "eaf2c902",
   "metadata": {},
   "outputs": [],
   "source": [
    "gp_df = gp_df.sort_values(by ='Song').reset_index(drop = True)\n",
    "gp_df"
   ]
  },
  {
   "cell_type": "code",
   "execution_count": null,
   "id": "64538c61",
   "metadata": {},
   "outputs": [],
   "source": [
    "step11 = pd.concat([step10, gp_df])\n",
    "step11.shape"
   ]
  },
  {
   "cell_type": "markdown",
   "id": "ce77e69c",
   "metadata": {},
   "source": [
    "# 2 bands (1071 rows)"
   ]
  },
  {
   "cell_type": "code",
   "execution_count": null,
   "id": "dce45bc2",
   "metadata": {},
   "outputs": [],
   "source": [
    "# merging the files\n",
    "joined_files = os.path.join(\"LyricsBatch15?.csv\")"
   ]
  },
  {
   "cell_type": "code",
   "execution_count": null,
   "id": "c2d31b98",
   "metadata": {},
   "outputs": [],
   "source": [
    "# A list of all joined files is returned\n",
    "joined_list = glob.glob(joined_files)"
   ]
  },
  {
   "cell_type": "code",
   "execution_count": null,
   "id": "1117a111",
   "metadata": {
    "scrolled": true
   },
   "outputs": [],
   "source": [
    "# Finally, the files are joined\n",
    "df = pd.concat(map(pd.read_csv, joined_list), ignore_index=True)"
   ]
  },
  {
   "cell_type": "markdown",
   "id": "eed2121b",
   "metadata": {},
   "source": [
    "## Great White"
   ]
  },
  {
   "cell_type": "code",
   "execution_count": null,
   "id": "0a0f4de2",
   "metadata": {},
   "outputs": [],
   "source": [
    "# Found in LyricsBatch153.csv"
   ]
  },
  {
   "cell_type": "code",
   "execution_count": null,
   "id": "26995b60",
   "metadata": {},
   "outputs": [],
   "source": [
    "gw_df = df[df[\"Band\"]==\"Great White\"].iloc[:100,:]\n",
    "gw_df.shape"
   ]
  },
  {
   "cell_type": "code",
   "execution_count": null,
   "id": "6bc94a1d",
   "metadata": {
    "scrolled": false
   },
   "outputs": [],
   "source": [
    "gw_df = gw_df.sort_values(by ='Song').reset_index(drop = True)\n",
    "gw_df"
   ]
  },
  {
   "cell_type": "code",
   "execution_count": null,
   "id": "631c6776",
   "metadata": {},
   "outputs": [],
   "source": [
    "gw_df = gw_df.drop(index = [55, 91]).reset_index(drop = True)"
   ]
  },
  {
   "cell_type": "markdown",
   "id": "6c5fd008",
   "metadata": {},
   "source": [
    "## Guns N' Roses"
   ]
  },
  {
   "cell_type": "code",
   "execution_count": null,
   "id": "90fa8700",
   "metadata": {},
   "outputs": [],
   "source": [
    "# Found in LyricsBatch156.csv"
   ]
  },
  {
   "cell_type": "code",
   "execution_count": null,
   "id": "75fa7b8b",
   "metadata": {},
   "outputs": [],
   "source": [
    "gr_df = df[df[\"Band\"]==\"Guns N' Roses\"]\n",
    "gr_df.shape"
   ]
  },
  {
   "cell_type": "code",
   "execution_count": null,
   "id": "e5cbb98f",
   "metadata": {
    "scrolled": false
   },
   "outputs": [],
   "source": [
    "gr_df = gr_df.sort_values(by ='Song').reset_index(drop = True)\n",
    "gr_df"
   ]
  },
  {
   "cell_type": "code",
   "execution_count": null,
   "id": "e0d59838",
   "metadata": {},
   "outputs": [],
   "source": [
    "gr_df = gr_df.drop(index = [13, 16, 32, 37, 45, 67]).reset_index(drop = True)"
   ]
  },
  {
   "cell_type": "code",
   "execution_count": null,
   "id": "72227aa2",
   "metadata": {},
   "outputs": [],
   "source": [
    "gr_df = gr_df.replace(' \\[Medley\\]', '', regex = True)\n",
    "gr_df = gr_df.replace(' \\[Original Version\\]', '', regex = True)\n",
    "gr_df = gr_df.replace(' \\[Clean Version\\]', '', regex = True)"
   ]
  },
  {
   "cell_type": "code",
   "execution_count": null,
   "id": "591ffa3c",
   "metadata": {},
   "outputs": [],
   "source": [
    "step12 = pd.concat([step11, gw_df, gr_df])\n",
    "step12.shape"
   ]
  },
  {
   "cell_type": "markdown",
   "id": "849a77ee",
   "metadata": {},
   "source": [
    "# -2 bands (1143 rows)"
   ]
  },
  {
   "cell_type": "code",
   "execution_count": null,
   "id": "8387c576",
   "metadata": {},
   "outputs": [],
   "source": [
    "# merging the files\n",
    "joined_files = os.path.join(\"LyricsBatch16?.csv\")"
   ]
  },
  {
   "cell_type": "code",
   "execution_count": null,
   "id": "29f896dd",
   "metadata": {},
   "outputs": [],
   "source": [
    "# A list of all joined files is returned\n",
    "joined_list = glob.glob(joined_files)"
   ]
  },
  {
   "cell_type": "code",
   "execution_count": null,
   "id": "fc6169e8",
   "metadata": {
    "scrolled": true
   },
   "outputs": [],
   "source": [
    "# Finally, the files are joined\n",
    "df = pd.concat(map(pd.read_csv, joined_list), ignore_index=True)"
   ]
  },
  {
   "cell_type": "markdown",
   "id": "1547de42",
   "metadata": {},
   "source": [
    "## Hanoi Rocks"
   ]
  },
  {
   "cell_type": "code",
   "execution_count": null,
   "id": "e258562e",
   "metadata": {},
   "outputs": [],
   "source": [
    "# Found in LyricsBatch160.csv"
   ]
  },
  {
   "cell_type": "code",
   "execution_count": null,
   "id": "5e10e94a",
   "metadata": {},
   "outputs": [],
   "source": [
    "hr_df = df[df[\"Band\"]==\"Hanoi Rocks\"]\n",
    "hr_df.shape"
   ]
  },
  {
   "cell_type": "code",
   "execution_count": null,
   "id": "02f616cb",
   "metadata": {
    "scrolled": false
   },
   "outputs": [],
   "source": [
    "hr_df = hr_df.sort_values(by ='Song').reset_index(drop = True)\n",
    "hr_df"
   ]
  },
  {
   "cell_type": "code",
   "execution_count": null,
   "id": "d3193a11",
   "metadata": {},
   "outputs": [],
   "source": [
    "hr_df = hr_df.drop(index = [0, 10, 18, 33, 42]).reset_index(drop = True)"
   ]
  },
  {
   "cell_type": "code",
   "execution_count": null,
   "id": "fb1a573d",
   "metadata": {},
   "outputs": [],
   "source": [
    "hr_df = hr_df.replace('Xmas', 'X-mas', regex = True)"
   ]
  },
  {
   "cell_type": "markdown",
   "id": "e783d5d3",
   "metadata": {},
   "source": [
    "## Helix"
   ]
  },
  {
   "cell_type": "code",
   "execution_count": null,
   "id": "29e20ada",
   "metadata": {},
   "outputs": [],
   "source": [
    "# Found in LyricsBatch166.csv"
   ]
  },
  {
   "cell_type": "code",
   "execution_count": null,
   "id": "98426bf7",
   "metadata": {},
   "outputs": [],
   "source": [
    "h_df = df[df[\"Band\"]==\"Helix\"]\n",
    "h_df.shape"
   ]
  },
  {
   "cell_type": "code",
   "execution_count": null,
   "id": "3e6bf326",
   "metadata": {},
   "outputs": [],
   "source": [
    "h_df = h_df.sort_values(by ='Song').reset_index(drop = True)\n",
    "h_df"
   ]
  },
  {
   "cell_type": "code",
   "execution_count": null,
   "id": "57903f80",
   "metadata": {},
   "outputs": [],
   "source": [
    "h_df = h_df.drop(index = 2).reset_index(drop = True)"
   ]
  },
  {
   "cell_type": "code",
   "execution_count": null,
   "id": "15f4c3b0",
   "metadata": {},
   "outputs": [],
   "source": [
    "step13 = pd.concat([step12, hr_df, h_df])\n",
    "step13.shape"
   ]
  },
  {
   "cell_type": "markdown",
   "id": "0e63d399",
   "metadata": {},
   "source": [
    "# -1 band (Jackyl) 1199 rows"
   ]
  },
  {
   "cell_type": "code",
   "execution_count": null,
   "id": "ba04decf",
   "metadata": {},
   "outputs": [],
   "source": [
    "df = pd.read_csv(\"LyricsBatch185.csv\")"
   ]
  },
  {
   "cell_type": "code",
   "execution_count": null,
   "id": "fb1724a9",
   "metadata": {},
   "outputs": [],
   "source": [
    "j_df = df[df[\"Band\"]==\"Jackyl\"]\n",
    "j_df.shape"
   ]
  },
  {
   "cell_type": "code",
   "execution_count": null,
   "id": "25fb2a3a",
   "metadata": {
    "scrolled": true
   },
   "outputs": [],
   "source": [
    "j_df = j_df.sort_values(by ='Song').reset_index(drop = True)\n",
    "j_df"
   ]
  },
  {
   "cell_type": "code",
   "execution_count": null,
   "id": "203b5aa0",
   "metadata": {},
   "outputs": [],
   "source": [
    "j_df = j_df.replace('Intro\\/', '', regex = True)"
   ]
  },
  {
   "cell_type": "code",
   "execution_count": null,
   "id": "adf78d00",
   "metadata": {},
   "outputs": [],
   "source": [
    "step14 = pd.concat([step13, j_df])\n",
    "step14.shape"
   ]
  },
  {
   "cell_type": "markdown",
   "id": "edfddd00",
   "metadata": {},
   "source": [
    "# -2 bands 1358 rows"
   ]
  },
  {
   "cell_type": "code",
   "execution_count": null,
   "id": "97f27040",
   "metadata": {},
   "outputs": [],
   "source": [
    "# merging the files\n",
    "joined_files = os.path.join(\"LyricsBatch104*.csv\")"
   ]
  },
  {
   "cell_type": "code",
   "execution_count": null,
   "id": "05e49256",
   "metadata": {},
   "outputs": [],
   "source": [
    "# A list of all joined files is returned\n",
    "joined_list = glob.glob(joined_files)"
   ]
  },
  {
   "cell_type": "code",
   "execution_count": null,
   "id": "111abfc3",
   "metadata": {
    "scrolled": true
   },
   "outputs": [],
   "source": [
    "# Finally, the files are joined\n",
    "df = pd.concat(map(pd.read_csv, joined_list), ignore_index=True)"
   ]
  },
  {
   "cell_type": "markdown",
   "id": "48721c2c",
   "metadata": {},
   "source": [
    "## Motley Crue"
   ]
  },
  {
   "cell_type": "code",
   "execution_count": null,
   "id": "58f414d1",
   "metadata": {},
   "outputs": [],
   "source": [
    "# Found in LyricsBatch1047.csv"
   ]
  },
  {
   "cell_type": "code",
   "execution_count": null,
   "id": "1998a79d",
   "metadata": {},
   "outputs": [],
   "source": [
    "mc_df = df[df[\"Band\"]==\"Mötley Crüe\"].iloc[:100,:]\n",
    "mc_df.shape"
   ]
  },
  {
   "cell_type": "code",
   "execution_count": null,
   "id": "36f2dca5",
   "metadata": {
    "scrolled": false
   },
   "outputs": [],
   "source": [
    "mc_df = mc_df.sort_values(by ='Song').reset_index(drop = True)\n",
    "mc_df"
   ]
  },
  {
   "cell_type": "code",
   "execution_count": null,
   "id": "599a2391",
   "metadata": {},
   "outputs": [],
   "source": [
    "mc_df = mc_df.drop(index = [2, 7, 15, 21, 22, 24, 34, 36, 40, 51, 52, 54, 55, 76, 92]).reset_index(drop = True)"
   ]
  },
  {
   "cell_type": "code",
   "execution_count": null,
   "id": "1066321e",
   "metadata": {},
   "outputs": [],
   "source": [
    "mc_df = mc_df.replace('\\[\\#\\]', '', regex = True)\n",
    "mc_df = mc_df.replace('\\[\\*\\]', '', regex = True)\n",
    "mc_df = mc_df.replace(\" \\['91 Remix\\]\", '', regex = True)\n",
    "mc_df = mc_df.replace(' \\[Live\\]', '', regex = True)\n",
    "mc_df = mc_df.replace(' \\[Live in Dallas, TX\\]', '', regex = True)\n",
    "mc_df = mc_df.replace('\\[Demo Version\\]', '', regex = True)"
   ]
  },
  {
   "cell_type": "markdown",
   "id": "8a23f531",
   "metadata": {},
   "source": [
    "## Mr. Big"
   ]
  },
  {
   "cell_type": "code",
   "execution_count": null,
   "id": "096d2351",
   "metadata": {},
   "outputs": [],
   "source": [
    "# Found in LyricsBatch1048.csv"
   ]
  },
  {
   "cell_type": "code",
   "execution_count": null,
   "id": "13ee899f",
   "metadata": {},
   "outputs": [],
   "source": [
    "mb_df = df[df[\"Band\"]==\"Mr. Big\"]\n",
    "mb_df.shape"
   ]
  },
  {
   "cell_type": "code",
   "execution_count": null,
   "id": "4c14f25d",
   "metadata": {
    "scrolled": false
   },
   "outputs": [],
   "source": [
    "mb_df = mb_df.sort_values(by ='Song').reset_index(drop = True)\n",
    "mb_df"
   ]
  },
  {
   "cell_type": "code",
   "execution_count": null,
   "id": "87b69e08",
   "metadata": {},
   "outputs": [],
   "source": [
    "mb_df = mb_df.drop(index = [2, 5, 7, 9, 19, 22, 26, 31, 36, 48, 67, 70, 77]).reset_index(drop = True)"
   ]
  },
  {
   "cell_type": "code",
   "execution_count": null,
   "id": "e10391c4",
   "metadata": {},
   "outputs": [],
   "source": [
    "mb_df = mb_df.replace(' \\[\\*\\]', '', regex = True)\n",
    "mb_df = mb_df.replace(' \\[\\#\\]', '', regex = True)\n",
    "mb_df = mb_df.replace(' \\(Studio\\)', '', regex = True)"
   ]
  },
  {
   "cell_type": "code",
   "execution_count": null,
   "id": "05db2179",
   "metadata": {},
   "outputs": [],
   "source": [
    "step15 = pd.concat([step14, mc_df, mb_df])\n",
    "step15.shape"
   ]
  },
  {
   "cell_type": "markdown",
   "id": "f99d620d",
   "metadata": {},
   "source": [
    "# -2 bands (1443 rows)"
   ]
  },
  {
   "cell_type": "code",
   "execution_count": null,
   "id": "b129d4cc",
   "metadata": {},
   "outputs": [],
   "source": [
    "# merging the files\n",
    "joined_files = os.path.join(\"LyricsBatch109*.csv\")"
   ]
  },
  {
   "cell_type": "code",
   "execution_count": null,
   "id": "468e823a",
   "metadata": {},
   "outputs": [],
   "source": [
    "# A list of all joined files is returned\n",
    "joined_list = glob.glob(joined_files)"
   ]
  },
  {
   "cell_type": "code",
   "execution_count": null,
   "id": "b73d01b5",
   "metadata": {
    "scrolled": true
   },
   "outputs": [],
   "source": [
    "# Finally, the files are joined\n",
    "df = pd.concat(map(pd.read_csv, joined_list), ignore_index=True)"
   ]
  },
  {
   "cell_type": "markdown",
   "id": "ca229186",
   "metadata": {},
   "source": [
    "## Poison"
   ]
  },
  {
   "cell_type": "code",
   "execution_count": null,
   "id": "0a74bd56",
   "metadata": {},
   "outputs": [],
   "source": [
    "# Found in LyricsBatch1095.csv"
   ]
  },
  {
   "cell_type": "code",
   "execution_count": null,
   "id": "a7d7053b",
   "metadata": {},
   "outputs": [],
   "source": [
    "p_df = df[df[\"Band\"]==\"Poison\"].iloc[:100,:]\n",
    "p_df.shape"
   ]
  },
  {
   "cell_type": "code",
   "execution_count": null,
   "id": "fee49d67",
   "metadata": {
    "scrolled": false
   },
   "outputs": [],
   "source": [
    "p_df = p_df.sort_values(by ='Song').reset_index(drop = True)\n",
    "p_df"
   ]
  },
  {
   "cell_type": "code",
   "execution_count": null,
   "id": "30604243",
   "metadata": {},
   "outputs": [],
   "source": [
    "p_df = p_df.drop(index = [18, 20, 26, 28, 32, 35, 36, 39, 42, 48, 50, 56, 63, 66, 72, 73, 74, 78, 91, 92, 99]).reset_index(drop = True)"
   ]
  },
  {
   "cell_type": "code",
   "execution_count": null,
   "id": "1357c49c",
   "metadata": {},
   "outputs": [],
   "source": [
    "p_df = p_df.replace('\\[\\*\\]', '', regex = True)\n",
    "p_df = p_df.replace(' \\[\\#\\]', '', regex = True)\n",
    "p_df = p_df.replace('\\(Poison Jazz\\)', '', regex = True)\n",
    "p_df = p_df.replace(' \\[Studio Version\\]', '', regex = True)\n",
    "p_df = p_df.replace('\\[Live on MTV Unplugged\\]', '', regex = True)"
   ]
  },
  {
   "cell_type": "markdown",
   "id": "1fb27c16",
   "metadata": {},
   "source": [
    "## Pretty Boy Floyd"
   ]
  },
  {
   "cell_type": "code",
   "execution_count": null,
   "id": "c241fa50",
   "metadata": {},
   "outputs": [],
   "source": [
    "# Found in LyricsBatch1097.csv"
   ]
  },
  {
   "cell_type": "code",
   "execution_count": null,
   "id": "e79b3105",
   "metadata": {},
   "outputs": [],
   "source": [
    "pf_df = df[df[\"Band\"]==\"Pretty Boy Floyd\"]\n",
    "pf_df.shape"
   ]
  },
  {
   "cell_type": "code",
   "execution_count": null,
   "id": "ca878c77",
   "metadata": {},
   "outputs": [],
   "source": [
    "pf_df = pf_df.sort_values(by ='Song').reset_index(drop = True)\n",
    "pf_df"
   ]
  },
  {
   "cell_type": "code",
   "execution_count": null,
   "id": "ae02e5e8",
   "metadata": {},
   "outputs": [],
   "source": [
    "step16 = pd.concat([step15, p_df, pf_df])\n",
    "step16.shape"
   ]
  },
  {
   "cell_type": "markdown",
   "id": "26f02306",
   "metadata": {},
   "source": [
    "# -3 bands (1625 rows)"
   ]
  },
  {
   "cell_type": "code",
   "execution_count": null,
   "id": "06708a91",
   "metadata": {},
   "outputs": [],
   "source": [
    "# merging the files\n",
    "joined_files = os.path.join(\"LyricsBatch110?.csv\")"
   ]
  },
  {
   "cell_type": "code",
   "execution_count": null,
   "id": "4ebc1722",
   "metadata": {},
   "outputs": [],
   "source": [
    "# A list of all joined files is returned\n",
    "joined_list = glob.glob(joined_files)"
   ]
  },
  {
   "cell_type": "code",
   "execution_count": null,
   "id": "eab5f572",
   "metadata": {
    "scrolled": true
   },
   "outputs": [],
   "source": [
    "# Finally, the files are joined\n",
    "df = pd.concat(map(pd.read_csv, joined_list), ignore_index=True)"
   ]
  },
  {
   "cell_type": "markdown",
   "id": "bc62e3a7",
   "metadata": {},
   "source": [
    "## Queensryche"
   ]
  },
  {
   "cell_type": "code",
   "execution_count": null,
   "id": "d4b7591a",
   "metadata": {},
   "outputs": [],
   "source": [
    "# Found in LyricsBatch1101.csv"
   ]
  },
  {
   "cell_type": "code",
   "execution_count": null,
   "id": "af920748",
   "metadata": {},
   "outputs": [],
   "source": [
    "q_df = df[df[\"Band\"]==\"Queensrÿche\"].iloc[:100,:]\n",
    "q_df.shape"
   ]
  },
  {
   "cell_type": "code",
   "execution_count": null,
   "id": "64ef87ad",
   "metadata": {
    "scrolled": false
   },
   "outputs": [],
   "source": [
    "q_df = q_df.sort_values(by ='Song').reset_index(drop = True)\n",
    "q_df"
   ]
  },
  {
   "cell_type": "code",
   "execution_count": null,
   "id": "9d7bd0e3",
   "metadata": {},
   "outputs": [],
   "source": [
    "q_df = q_df.drop(index = [3, 8, 13, 20, 25, 27, 28, 36, 45, 49, 50, 62, 68, 70, 74, 75, 79, 80, 82, 88, 89, 91, 92]).reset_index(drop = True)"
   ]
  },
  {
   "cell_type": "code",
   "execution_count": null,
   "id": "b2b51634",
   "metadata": {},
   "outputs": [],
   "source": [
    "q_df = q_df.replace(' \\[\\*\\]', '', regex = True)\n",
    "q_df = q_df.replace('\\[\\#\\]', '', regex = True)\n",
    "q_df = q_df.replace('\\[Live in Tokyo\\]', '', regex = True)"
   ]
  },
  {
   "cell_type": "markdown",
   "id": "7a85a123",
   "metadata": {},
   "source": [
    "## Quiet Riot"
   ]
  },
  {
   "cell_type": "code",
   "execution_count": null,
   "id": "831dfe94",
   "metadata": {},
   "outputs": [],
   "source": [
    "# Found in LyricsBatch1101.csv"
   ]
  },
  {
   "cell_type": "code",
   "execution_count": null,
   "id": "7db62a37",
   "metadata": {},
   "outputs": [],
   "source": [
    "qr_df = df[df[\"Band\"]==\"Quiet Riot\"]\n",
    "qr_df.shape"
   ]
  },
  {
   "cell_type": "code",
   "execution_count": null,
   "id": "32501292",
   "metadata": {
    "scrolled": true
   },
   "outputs": [],
   "source": [
    "qr_df = qr_df.sort_values(by ='Song').reset_index(drop = True)\n",
    "qr_df"
   ]
  },
  {
   "cell_type": "code",
   "execution_count": null,
   "id": "6fcb73a3",
   "metadata": {},
   "outputs": [],
   "source": [
    "qr_df = qr_df.drop(index = [6, 16, 17, 20, 24, 25, 30, 31, 36, 43]).reset_index(drop = True)"
   ]
  },
  {
   "cell_type": "code",
   "execution_count": null,
   "id": "e1fd6bf4",
   "metadata": {},
   "outputs": [],
   "source": [
    "qr_df = qr_df.replace(' \\[\\*\\]', '', regex = True)\n",
    "qr_df = qr_df.replace(' \\[\\#\\]', '', regex = True)\n",
    "qr_df = qr_df.replace(' \\[Live\\]', '', regex = True)"
   ]
  },
  {
   "cell_type": "markdown",
   "id": "ea424f09",
   "metadata": {},
   "source": [
    "## Ratt"
   ]
  },
  {
   "cell_type": "code",
   "execution_count": null,
   "id": "32a8ef80",
   "metadata": {},
   "outputs": [],
   "source": [
    "# Found in LyricsBatch1106.csv & LyricsBatch1107.csv"
   ]
  },
  {
   "cell_type": "code",
   "execution_count": null,
   "id": "51b9f9ac",
   "metadata": {},
   "outputs": [],
   "source": [
    "r_df = df[df[\"Band\"]==\"Ratt\"]\n",
    "r_df.shape"
   ]
  },
  {
   "cell_type": "code",
   "execution_count": null,
   "id": "44746064",
   "metadata": {
    "scrolled": false
   },
   "outputs": [],
   "source": [
    "r_df = r_df.sort_values(by ='Song').reset_index(drop = True)\n",
    "r_df"
   ]
  },
  {
   "cell_type": "code",
   "execution_count": null,
   "id": "f35d1328",
   "metadata": {},
   "outputs": [],
   "source": [
    "r_df = r_df.drop(index = [48, 61]).reset_index(drop = True)"
   ]
  },
  {
   "cell_type": "code",
   "execution_count": null,
   "id": "e0a3cf83",
   "metadata": {},
   "outputs": [],
   "source": [
    "r_df = r_df.replace(' \\(Live in Germany\\)', '', regex = True)"
   ]
  },
  {
   "cell_type": "code",
   "execution_count": null,
   "id": "3bbf6439",
   "metadata": {},
   "outputs": [],
   "source": [
    "step17 = pd.concat([step16, q_df, qr_df, r_df])\n",
    "step17.shape"
   ]
  },
  {
   "cell_type": "markdown",
   "id": "f07612c3",
   "metadata": {},
   "source": [
    "# -1 band (Saigon Kick) 1659 rows"
   ]
  },
  {
   "cell_type": "code",
   "execution_count": null,
   "id": "269f2faf",
   "metadata": {},
   "outputs": [],
   "source": [
    "df = pd.read_csv(\"LyricsBatch1146.csv\")"
   ]
  },
  {
   "cell_type": "code",
   "execution_count": null,
   "id": "e1084c2b",
   "metadata": {},
   "outputs": [],
   "source": [
    "sk_df = df[df[\"Band\"]==\"Saigon Kick\"]\n",
    "sk_df.shape"
   ]
  },
  {
   "cell_type": "code",
   "execution_count": null,
   "id": "43c922da",
   "metadata": {
    "scrolled": false
   },
   "outputs": [],
   "source": [
    "sk_df = sk_df.sort_values(by ='Song').reset_index(drop = True)\n",
    "sk_df"
   ]
  },
  {
   "cell_type": "code",
   "execution_count": null,
   "id": "26bd71b5",
   "metadata": {},
   "outputs": [],
   "source": [
    "step18 = pd.concat([step17, sk_df])\n",
    "step18.shape"
   ]
  },
  {
   "cell_type": "markdown",
   "id": "6cd43ffa",
   "metadata": {},
   "source": [
    "# -1 band (Scorpions) 1752 rows"
   ]
  },
  {
   "cell_type": "code",
   "execution_count": null,
   "id": "6c5e8411",
   "metadata": {},
   "outputs": [],
   "source": [
    "df = pd.read_csv(\"LyricsBatch1154.csv\")"
   ]
  },
  {
   "cell_type": "code",
   "execution_count": null,
   "id": "05c8309e",
   "metadata": {},
   "outputs": [],
   "source": [
    "sc_df = df[df[\"Band\"]==\"Scorpions\"].iloc[:100,:]\n",
    "sc_df.shape"
   ]
  },
  {
   "cell_type": "code",
   "execution_count": null,
   "id": "b65b2472",
   "metadata": {},
   "outputs": [],
   "source": [
    "sc_df = sc_df.sort_values(by ='Song').reset_index(drop = True)\n",
    "sc_df"
   ]
  },
  {
   "cell_type": "code",
   "execution_count": null,
   "id": "a9fd4e05",
   "metadata": {},
   "outputs": [],
   "source": [
    "sc_df = sc_df.drop(index = [3, 14, 15, 33, 58, 69, 80]).reset_index(drop = True)"
   ]
  },
  {
   "cell_type": "code",
   "execution_count": null,
   "id": "7fcc5509",
   "metadata": {},
   "outputs": [],
   "source": [
    "sc_df = sc_df.replace('\\[\\*\\]', '', regex = True)\n",
    "sc_df = sc_df.replace(' \\[Live\\]', '', regex = True)\n",
    "sc_df = sc_df.replace(' \\[Live at the Moscow PeaceFestival\\]', '', regex = True)"
   ]
  },
  {
   "cell_type": "code",
   "execution_count": null,
   "id": "3b888803",
   "metadata": {},
   "outputs": [],
   "source": [
    "step19 = pd.concat([step18, sc_df])\n",
    "step19.shape"
   ]
  },
  {
   "cell_type": "markdown",
   "id": "3a5fc970",
   "metadata": {},
   "source": [
    "# -2 bands (1831 rows)"
   ]
  },
  {
   "cell_type": "code",
   "execution_count": null,
   "id": "6e7249a6",
   "metadata": {},
   "outputs": [],
   "source": [
    "# merging the files\n",
    "joined_files = os.path.join(\"LyricsBatch116?.csv\")"
   ]
  },
  {
   "cell_type": "code",
   "execution_count": null,
   "id": "70db525a",
   "metadata": {},
   "outputs": [],
   "source": [
    "# A list of all joined files is returned\n",
    "joined_list = glob.glob(joined_files)"
   ]
  },
  {
   "cell_type": "code",
   "execution_count": null,
   "id": "8b7a1433",
   "metadata": {
    "scrolled": true
   },
   "outputs": [],
   "source": [
    "# Finally, the files are joined\n",
    "df = pd.concat(map(pd.read_csv, joined_list), ignore_index=True)"
   ]
  },
  {
   "cell_type": "markdown",
   "id": "03fa0805",
   "metadata": {},
   "source": [
    "## Skid Row"
   ]
  },
  {
   "cell_type": "code",
   "execution_count": null,
   "id": "964507f5",
   "metadata": {},
   "outputs": [],
   "source": [
    "# Found in LyricsBatch1168.csv"
   ]
  },
  {
   "cell_type": "code",
   "execution_count": null,
   "id": "a8913c07",
   "metadata": {},
   "outputs": [],
   "source": [
    "sr_df = df[df[\"Band\"]==\"Skid Row\"]\n",
    "sr_df.shape"
   ]
  },
  {
   "cell_type": "code",
   "execution_count": null,
   "id": "7ea65e11",
   "metadata": {},
   "outputs": [],
   "source": [
    "sr_df = sr_df.sort_values(by ='Song').reset_index(drop = True)\n",
    "sr_df"
   ]
  },
  {
   "cell_type": "code",
   "execution_count": null,
   "id": "daa09039",
   "metadata": {},
   "outputs": [],
   "source": [
    "sr_df = sr_df.drop(index = [5, 14, 15, 23, 32, 34]).reset_index(drop = True)"
   ]
  },
  {
   "cell_type": "code",
   "execution_count": null,
   "id": "331bea4a",
   "metadata": {},
   "outputs": [],
   "source": [
    "sr_df = sr_df.replace(' \\[\\#\\]', '', regex = True)\n",
    "sr_df = sr_df.replace(' \\[Live\\]', '', regex = True)\n",
    "sr_df = sr_df.replace('\\[Demo Version\\]', '', regex = True)"
   ]
  },
  {
   "cell_type": "markdown",
   "id": "ef491803",
   "metadata": {},
   "source": [
    "## Slaughter"
   ]
  },
  {
   "cell_type": "code",
   "execution_count": null,
   "id": "fd329eec",
   "metadata": {},
   "outputs": [],
   "source": [
    "# Found in LyricsBatch1169.csv"
   ]
  },
  {
   "cell_type": "code",
   "execution_count": null,
   "id": "7b32039b",
   "metadata": {},
   "outputs": [],
   "source": [
    "s_df = df[df[\"Band\"]==\"Slaughter\"]\n",
    "s_df.shape"
   ]
  },
  {
   "cell_type": "code",
   "execution_count": null,
   "id": "c554118e",
   "metadata": {
    "scrolled": true
   },
   "outputs": [],
   "source": [
    "s_df = s_df.sort_values(by ='Song').reset_index(drop = True)\n",
    "s_df"
   ]
  },
  {
   "cell_type": "code",
   "execution_count": null,
   "id": "d6027416",
   "metadata": {},
   "outputs": [],
   "source": [
    "s_df = s_df.drop(index = [3, 10, 19]).reset_index(drop = True)"
   ]
  },
  {
   "cell_type": "code",
   "execution_count": null,
   "id": "716e4625",
   "metadata": {},
   "outputs": [],
   "source": [
    "step20 = pd.concat([step19, sr_df, s_df])\n",
    "step20.shape"
   ]
  },
  {
   "cell_type": "markdown",
   "id": "ea4bb4a8",
   "metadata": {},
   "source": [
    "# -1 band (Steelheart) 1850 rows"
   ]
  },
  {
   "cell_type": "code",
   "execution_count": null,
   "id": "a7791a3a",
   "metadata": {},
   "outputs": [],
   "source": [
    "df = pd.read_csv(\"LyricsBatch1183.csv\")"
   ]
  },
  {
   "cell_type": "code",
   "execution_count": null,
   "id": "61dea580",
   "metadata": {},
   "outputs": [],
   "source": [
    "sh_df = df[df[\"Band\"]==\"Steelheart\"]\n",
    "sh_df.shape"
   ]
  },
  {
   "cell_type": "code",
   "execution_count": null,
   "id": "eee2c297",
   "metadata": {},
   "outputs": [],
   "source": [
    "sh_df = sh_df.sort_values(by ='Song').reset_index(drop = True)\n",
    "sh_df"
   ]
  },
  {
   "cell_type": "code",
   "execution_count": null,
   "id": "86106ea1",
   "metadata": {},
   "outputs": [],
   "source": [
    "step21 = pd.concat([step20, sh_df])\n",
    "step21.shape"
   ]
  },
  {
   "cell_type": "markdown",
   "id": "7b81d339",
   "metadata": {},
   "source": [
    "# Finish df and save to csv"
   ]
  },
  {
   "cell_type": "code",
   "execution_count": null,
   "id": "52ba0f05",
   "metadata": {},
   "outputs": [],
   "source": [
    "df = step21.reset_index(drop = True)\n",
    "df.head()"
   ]
  },
  {
   "cell_type": "code",
   "execution_count": null,
   "id": "4c61ceb4",
   "metadata": {},
   "outputs": [],
   "source": [
    "df = df.rename(columns={\"Band\": \"artist\", \"Lyrics\": \"words\", \"Song\": \"title\"})\n",
    "df.head()"
   ]
  },
  {
   "cell_type": "code",
   "execution_count": null,
   "id": "a9d5471c",
   "metadata": {
    "scrolled": true
   },
   "outputs": [],
   "source": [
    "df = df.reindex(columns= ['artist', 'title', 'words'])\n",
    "df.head()"
   ]
  },
  {
   "cell_type": "code",
   "execution_count": null,
   "id": "cd1059f5",
   "metadata": {},
   "outputs": [],
   "source": [
    "df.to_csv(r\"..\\..\\datasets\\hair_lyrics_test.csv\")"
   ]
  },
  {
   "cell_type": "markdown",
   "id": "6bb083c7",
   "metadata": {},
   "source": [
    "# Next Steps"
   ]
  },
  {
   "cell_type": "markdown",
   "id": "319f054f",
   "metadata": {},
   "source": [
    "With everything being read into one dataframe from the beginning, I could create a list of all the band names I want to select and then pull them out in one step instead of one band at a time. Since I dropped some of the rows, however, this isn't something I can do quickly. Here's a plan of attack:\n",
    " * for any bands that don't have any rows dropped, select them and put them into a seaparate df\n",
    " * for bands that have rows that get dropped, find an elegant way to drop them all at once."
   ]
  }
 ],
 "metadata": {
  "kernelspec": {
   "display_name": "Python 3 (ipykernel)",
   "language": "python",
   "name": "python3"
  },
  "language_info": {
   "codemirror_mode": {
    "name": "ipython",
    "version": 3
   },
   "file_extension": ".py",
   "mimetype": "text/x-python",
   "name": "python",
   "nbconvert_exporter": "python",
   "pygments_lexer": "ipython3",
   "version": "3.9.7"
  },
  "toc": {
   "base_numbering": 1,
   "nav_menu": {},
   "number_sections": true,
   "sideBar": true,
   "skip_h1_title": false,
   "title_cell": "Table of Contents",
   "title_sidebar": "Contents",
   "toc_cell": true,
   "toc_position": {
    "height": "calc(100% - 180px)",
    "left": "10px",
    "top": "150px",
    "width": "279.273px"
   },
   "toc_section_display": true,
   "toc_window_display": true
  }
 },
 "nbformat": 4,
 "nbformat_minor": 5
}

{
 "cells": [
  {
   "cell_type": "markdown",
   "id": "43e85c41",
   "metadata": {
    "toc": true
   },
   "source": [
    "<h1>Table of Contents<span class=\"tocSkip\"></span></h1>\n",
    "<div class=\"toc\"><ul class=\"toc-item\"><li><span><a href=\"#Import-all-the-things\" data-toc-modified-id=\"Import-all-the-things-1\"><span class=\"toc-item-num\">1&nbsp;&nbsp;</span>Import all the things</a></span></li><li><span><a href=\"#Read-all-csv-files\" data-toc-modified-id=\"Read-all-csv-files-2\"><span class=\"toc-item-num\">2&nbsp;&nbsp;</span>Read all csv files</a></span><ul class=\"toc-item\"><li><span><a href=\"#Cinderella\" data-toc-modified-id=\"Cinderella-2.1\"><span class=\"toc-item-num\">2.1&nbsp;&nbsp;</span>Cinderella</a></span></li><li><span><a href=\"#Killer-Dwarfs\" data-toc-modified-id=\"Killer-Dwarfs-2.2\"><span class=\"toc-item-num\">2.2&nbsp;&nbsp;</span>Killer Dwarfs</a></span></li><li><span><a href=\"#Kip-Winger\" data-toc-modified-id=\"Kip-Winger-2.3\"><span class=\"toc-item-num\">2.3&nbsp;&nbsp;</span>Kip Winger</a></span></li><li><span><a href=\"#Kiss\" data-toc-modified-id=\"Kiss-2.4\"><span class=\"toc-item-num\">2.4&nbsp;&nbsp;</span>Kiss</a></span></li><li><span><a href=\"#Kix\" data-toc-modified-id=\"Kix-2.5\"><span class=\"toc-item-num\">2.5&nbsp;&nbsp;</span>Kix</a></span></li><li><span><a href=\"#Krokus\" data-toc-modified-id=\"Krokus-2.6\"><span class=\"toc-item-num\">2.6&nbsp;&nbsp;</span>Krokus</a></span></li><li><span><a href=\"#L.A.-Guns\" data-toc-modified-id=\"L.A.-Guns-2.7\"><span class=\"toc-item-num\">2.7&nbsp;&nbsp;</span>L.A. Guns</a></span></li><li><span><a href=\"#Lita-Ford\" data-toc-modified-id=\"Lita-Ford-2.8\"><span class=\"toc-item-num\">2.8&nbsp;&nbsp;</span>Lita Ford</a></span></li><li><span><a href=\"#Loverboy\" data-toc-modified-id=\"Loverboy-2.9\"><span class=\"toc-item-num\">2.9&nbsp;&nbsp;</span>Loverboy</a></span></li></ul></li><li><span><a href=\"#--1-band-(Autograph)-417-rows\" data-toc-modified-id=\"--1-band-(Autograph)-417-rows-3\"><span class=\"toc-item-num\">3&nbsp;&nbsp;</span>- 1 band (Autograph) 417 rows</a></span></li><li><span><a href=\"#-1-band-(Bad-English)-439-rows\" data-toc-modified-id=\"-1-band-(Bad-English)-439-rows-4\"><span class=\"toc-item-num\">4&nbsp;&nbsp;</span>-1 band (Bad English) 439 rows</a></span></li><li><span><a href=\"#-2-bands-(466-rows)\" data-toc-modified-id=\"-2-bands-(466-rows)-5\"><span class=\"toc-item-num\">5&nbsp;&nbsp;</span>-2 bands (466 rows)</a></span><ul class=\"toc-item\"><li><span><a href=\"#Damn-Yankees\" data-toc-modified-id=\"Damn-Yankees-5.1\"><span class=\"toc-item-num\">5.1&nbsp;&nbsp;</span>Damn Yankees</a></span></li><li><span><a href=\"#Danger-Danger\" data-toc-modified-id=\"Danger-Danger-5.2\"><span class=\"toc-item-num\">5.2&nbsp;&nbsp;</span>Danger Danger</a></span></li></ul></li><li><span><a href=\"#-1-band-(Def-Leppard)-548-rows\" data-toc-modified-id=\"-1-band-(Def-Leppard)-548-rows-6\"><span class=\"toc-item-num\">6&nbsp;&nbsp;</span>-1 band (Def Leppard) 548 rows</a></span></li><li><span><a href=\"#-1-band-(Dokken)-631-rows\" data-toc-modified-id=\"-1-band-(Dokken)-631-rows-7\"><span class=\"toc-item-num\">7&nbsp;&nbsp;</span>-1 band (Dokken) 631 rows</a></span></li><li><span><a href=\"#-1-band-(Enuff-Z'nuff)-678-rows\" data-toc-modified-id=\"-1-band-(Enuff-Z'nuff)-678-rows-8\"><span class=\"toc-item-num\">8&nbsp;&nbsp;</span>-1 band (Enuff Z'nuff) 678 rows</a></span></li><li><span><a href=\"#-3-bands-(818-rows)\" data-toc-modified-id=\"-3-bands-(818-rows)-9\"><span class=\"toc-item-num\">9&nbsp;&nbsp;</span>-3 bands (818 rows)</a></span><ul class=\"toc-item\"><li><span><a href=\"#Europe\" data-toc-modified-id=\"Europe-9.1\"><span class=\"toc-item-num\">9.1&nbsp;&nbsp;</span>Europe</a></span></li><li><span><a href=\"#Extreme\" data-toc-modified-id=\"Extreme-9.2\"><span class=\"toc-item-num\">9.2&nbsp;&nbsp;</span>Extreme</a></span></li><li><span><a href=\"#Faster-Pussycat\" data-toc-modified-id=\"Faster-Pussycat-9.3\"><span class=\"toc-item-num\">9.3&nbsp;&nbsp;</span>Faster Pussycat</a></span></li></ul></li><li><span><a href=\"#-1-band-(Firehouse)-869-rows\" data-toc-modified-id=\"-1-band-(Firehouse)-869-rows-10\"><span class=\"toc-item-num\">10&nbsp;&nbsp;</span>-1 band (Firehouse) 869 rows</a></span></li><li><span><a href=\"#-1-band-(Giant)-891-rows\" data-toc-modified-id=\"-1-band-(Giant)-891-rows-11\"><span class=\"toc-item-num\">11&nbsp;&nbsp;</span>-1 band (Giant) 891 rows</a></span></li><li><span><a href=\"#-1-band-(Gorky-Park)-896-rows\" data-toc-modified-id=\"-1-band-(Gorky-Park)-896-rows-12\"><span class=\"toc-item-num\">12&nbsp;&nbsp;</span>-1 band (Gorky Park) 896 rows</a></span></li><li><span><a href=\"#2-bands-(1071-rows)\" data-toc-modified-id=\"2-bands-(1071-rows)-13\"><span class=\"toc-item-num\">13&nbsp;&nbsp;</span>2 bands (1071 rows)</a></span><ul class=\"toc-item\"><li><span><a href=\"#Great-White\" data-toc-modified-id=\"Great-White-13.1\"><span class=\"toc-item-num\">13.1&nbsp;&nbsp;</span>Great White</a></span></li><li><span><a href=\"#Guns-N'-Roses\" data-toc-modified-id=\"Guns-N'-Roses-13.2\"><span class=\"toc-item-num\">13.2&nbsp;&nbsp;</span>Guns N' Roses</a></span></li></ul></li><li><span><a href=\"#-2-bands-(1143-rows)\" data-toc-modified-id=\"-2-bands-(1143-rows)-14\"><span class=\"toc-item-num\">14&nbsp;&nbsp;</span>-2 bands (1143 rows)</a></span><ul class=\"toc-item\"><li><span><a href=\"#Hanoi-Rocks\" data-toc-modified-id=\"Hanoi-Rocks-14.1\"><span class=\"toc-item-num\">14.1&nbsp;&nbsp;</span>Hanoi Rocks</a></span></li><li><span><a href=\"#Helix\" data-toc-modified-id=\"Helix-14.2\"><span class=\"toc-item-num\">14.2&nbsp;&nbsp;</span>Helix</a></span></li></ul></li><li><span><a href=\"#-1-band-(Jackyl)-1199-rows\" data-toc-modified-id=\"-1-band-(Jackyl)-1199-rows-15\"><span class=\"toc-item-num\">15&nbsp;&nbsp;</span>-1 band (Jackyl) 1199 rows</a></span></li><li><span><a href=\"#-2-bands-1358-rows\" data-toc-modified-id=\"-2-bands-1358-rows-16\"><span class=\"toc-item-num\">16&nbsp;&nbsp;</span>-2 bands 1358 rows</a></span><ul class=\"toc-item\"><li><span><a href=\"#Motley-Crue\" data-toc-modified-id=\"Motley-Crue-16.1\"><span class=\"toc-item-num\">16.1&nbsp;&nbsp;</span>Motley Crue</a></span></li><li><span><a href=\"#Mr.-Big\" data-toc-modified-id=\"Mr.-Big-16.2\"><span class=\"toc-item-num\">16.2&nbsp;&nbsp;</span>Mr. Big</a></span></li></ul></li><li><span><a href=\"#-2-bands-(1443-rows)\" data-toc-modified-id=\"-2-bands-(1443-rows)-17\"><span class=\"toc-item-num\">17&nbsp;&nbsp;</span>-2 bands (1443 rows)</a></span><ul class=\"toc-item\"><li><span><a href=\"#Poison\" data-toc-modified-id=\"Poison-17.1\"><span class=\"toc-item-num\">17.1&nbsp;&nbsp;</span>Poison</a></span></li><li><span><a href=\"#Pretty-Boy-Floyd\" data-toc-modified-id=\"Pretty-Boy-Floyd-17.2\"><span class=\"toc-item-num\">17.2&nbsp;&nbsp;</span>Pretty Boy Floyd</a></span></li></ul></li><li><span><a href=\"#-3-bands-(1625-rows)\" data-toc-modified-id=\"-3-bands-(1625-rows)-18\"><span class=\"toc-item-num\">18&nbsp;&nbsp;</span>-3 bands (1625 rows)</a></span><ul class=\"toc-item\"><li><span><a href=\"#Queensryche\" data-toc-modified-id=\"Queensryche-18.1\"><span class=\"toc-item-num\">18.1&nbsp;&nbsp;</span>Queensryche</a></span></li><li><span><a href=\"#Quiet-Riot\" data-toc-modified-id=\"Quiet-Riot-18.2\"><span class=\"toc-item-num\">18.2&nbsp;&nbsp;</span>Quiet Riot</a></span></li><li><span><a href=\"#Ratt\" data-toc-modified-id=\"Ratt-18.3\"><span class=\"toc-item-num\">18.3&nbsp;&nbsp;</span>Ratt</a></span></li></ul></li><li><span><a href=\"#-1-band-(Saigon-Kick)-1659-rows\" data-toc-modified-id=\"-1-band-(Saigon-Kick)-1659-rows-19\"><span class=\"toc-item-num\">19&nbsp;&nbsp;</span>-1 band (Saigon Kick) 1659 rows</a></span></li><li><span><a href=\"#-1-band-(Scorpions)-1752-rows\" data-toc-modified-id=\"-1-band-(Scorpions)-1752-rows-20\"><span class=\"toc-item-num\">20&nbsp;&nbsp;</span>-1 band (Scorpions) 1752 rows</a></span></li><li><span><a href=\"#-2-bands-(1831-rows)\" data-toc-modified-id=\"-2-bands-(1831-rows)-21\"><span class=\"toc-item-num\">21&nbsp;&nbsp;</span>-2 bands (1831 rows)</a></span><ul class=\"toc-item\"><li><span><a href=\"#Skid-Row\" data-toc-modified-id=\"Skid-Row-21.1\"><span class=\"toc-item-num\">21.1&nbsp;&nbsp;</span>Skid Row</a></span></li><li><span><a href=\"#Slaughter\" data-toc-modified-id=\"Slaughter-21.2\"><span class=\"toc-item-num\">21.2&nbsp;&nbsp;</span>Slaughter</a></span></li></ul></li><li><span><a href=\"#-1-band-(Steelheart)-1850-rows\" data-toc-modified-id=\"-1-band-(Steelheart)-1850-rows-22\"><span class=\"toc-item-num\">22&nbsp;&nbsp;</span>-1 band (Steelheart) 1850 rows</a></span></li><li><span><a href=\"#Finish-df-and-save-to-csv\" data-toc-modified-id=\"Finish-df-and-save-to-csv-23\"><span class=\"toc-item-num\">23&nbsp;&nbsp;</span>Finish df and save to csv</a></span></li><li><span><a href=\"#Next-Steps\" data-toc-modified-id=\"Next-Steps-24\"><span class=\"toc-item-num\">24&nbsp;&nbsp;</span>Next Steps</a></span></li></ul></div>"
   ]
  },
  {
   "cell_type": "markdown",
   "id": "0fa727fc",
   "metadata": {},
   "source": [
    "**Explanation of Process**\n",
    "\n",
    "I ran across [a repo on Github](https://github.com/SoumitraAgarwal/Webscraping-Text-Data) with data that had already been scraped from AZLyrics. The files were 'mostly' in alphabetical order, but not completely. There were also several files missing (there were no band names after 'T'). It still managed to be a significant source for lyrics! \n",
    "\n",
    "Originally, I kept all the files from the repo and searched through to find the bands I wanted. Then I deleted the csv files I didn't need and read all the remaining files into one df using glob. Since that still left me with bands I didn't need, I went through each band and pulled out their tracks individually. I got rid of any duplicates and the live versions of the songs since those could add extra lyrics or be different than the original songs. I concatenated each band's dataframe with the next band utnil I had one datafile with only the lyrics I needed. I'm still working on making this more elegant (use a loop to read in the bands maybe?) but because each band's lyrics needs cleaned differently, I'm having trouble figuring out how to do it in one step. Plus some of the duplicates need to be looked at by a human to realize that they're duplicates. \n"
   ]
  },
  {
   "cell_type": "markdown",
   "id": "8e14eec1",
   "metadata": {},
   "source": [
    "# Import all the things"
   ]
  },
  {
   "cell_type": "code",
   "execution_count": null,
   "id": "bc7fc65a",
   "metadata": {
    "scrolled": true
   },
   "outputs": [],
   "source": [
    "# importing libraries\n",
    "import pandas as pd\n",
    "\n",
    "#for reading files\n",
    "import glob\n",
    "import os\n",
    "\n",
    "#for fuzzy matching\n",
    "from fuzzywuzzy import fuzz\n",
    "from fuzzywuzzy import process"
   ]
  },
  {
   "cell_type": "code",
   "execution_count": null,
   "id": "ee2e21c9",
   "metadata": {},
   "outputs": [],
   "source": [
    "#pd.set_option('display.max_rows', None)"
   ]
  },
  {
   "cell_type": "markdown",
   "id": "caf424ce",
   "metadata": {},
   "source": [
    "# Read all csv files"
   ]
  },
  {
   "cell_type": "markdown",
   "id": "44ccd2b9",
   "metadata": {},
   "source": [
    "This will read all csv files in one folder and create one dataframe from them. Eventually, these will be uncommented."
   ]
  },
  {
   "cell_type": "code",
   "execution_count": null,
   "id": "092ce83e",
   "metadata": {},
   "outputs": [],
   "source": [
    "# merging the files\n",
    "joined_files = os.path.join(\"*.csv\")"
   ]
  },
  {
   "cell_type": "code",
   "execution_count": null,
   "id": "3b30b46d",
   "metadata": {},
   "outputs": [],
   "source": [
    "# A list of all joined files is returned\n",
    "joined_list = glob.glob(joined_files)"
   ]
  },
  {
   "cell_type": "code",
   "execution_count": null,
   "id": "e8fc8ccb",
   "metadata": {
    "scrolled": true
   },
   "outputs": [],
   "source": [
    "# Finally, the files are joined\n",
    "lyric_df = pd.concat(map(pd.read_csv, joined_list), ignore_index=True)\n",
    "lyric_df.head()"
   ]
  },
  {
   "cell_type": "code",
   "execution_count": null,
   "id": "a58220be",
   "metadata": {},
   "outputs": [],
   "source": [
    "track_df = pd.read_csv(r\"..\\..\\datasets\\track_ids.csv\", index_col = 0)\n",
    "track_df.head()"
   ]
  },
  {
   "cell_type": "code",
   "execution_count": null,
   "id": "7d37d213",
   "metadata": {},
   "outputs": [],
   "source": [
    "# rename columns to match track_df\n",
    "lyric_df = lyric_df.rename(columns={'Band':'artist', 'Lyrics':'lyrics', 'Song': 'title'})\n",
    "# convert all text to lowercase\n",
    "lyric_df = lyric_df.apply(lambda x: x.astype(str).str.lower())\n",
    "lyric_df.head()"
   ]
  },
  {
   "cell_type": "code",
   "execution_count": null,
   "id": "f5f4a969",
   "metadata": {},
   "outputs": [],
   "source": [
    "def fuzzy_owrite( id_df, lyrics_df, col_to_match, threshold=90, limit=1):\n",
    "    \"\"\"\n",
    "    :param id_df: the dataframe with track ids\n",
    "    :param lyrics_df: the dataframe with lyrics\n",
    "    :param col_to_match: columns of interest - will be the same for both df\n",
    "    :param threshold: how close the matches should be to return a match, based on Levenshtein distance\n",
    "    :param limit: the amount of matches that will get returned, these are sorted high to low\n",
    "    :return: df with column values from df_2 overwriting the original values in df_1\n",
    "    \n",
    "    by changing the variable names, this could be more generic but this makes it easier for me to keep track\n",
    "    \"\"\"\n",
    "    \n",
    "    s = lyrics_df.loc[:, col_to_match]\n",
    "    \n",
    "    id_df['matches'] = id_df[col_to_match].apply(lambda x: process.extract(x, s, limit=limit))    \n",
    "    \n",
    "    id_df[col_to_match] = id_df['matches'].apply(lambda x: ', '.join([i[0] for i in x if i[1] >= threshold])).copy()\n",
    "    id_df = id_df.drop('matches', axis = 1)\n",
    "    \n",
    "    return id_df"
   ]
  },
  {
   "cell_type": "code",
   "execution_count": null,
   "id": "9fbb05ec",
   "metadata": {},
   "outputs": [],
   "source": [
    "kiss.head()"
   ]
  },
  {
   "cell_type": "code",
   "execution_count": null,
   "id": "ea3cf6e0",
   "metadata": {},
   "outputs": [],
   "source": [
    "lband_df = lyric_df[lyric_df[\"artist\"] == 'kiss']\n",
    "tband_df = track_df[track_df[\"artist\"] == 'kiss']\n",
    "\n",
    "kiss = fuzzy_owrite(tband_df, lband_df, 'title', 85, 1)\n"
   ]
  },
  {
   "cell_type": "code",
   "execution_count": null,
   "id": "ccb1e695",
   "metadata": {},
   "outputs": [],
   "source": [
    "band_names = ['cinderella', 'killer dwarfs', 'kiss', 'krokus', 'l.a. guns',\n",
    "       'lita ford', 'loverboy', 'autograph', 'bad english',\n",
    "       'damn yankees', 'danger danger', 'def leppard', 'dokken',\n",
    "       \"enuff z'nuff\", 'europe', 'extreme', 'faster pussycat',\n",
    "       'firehouse', 'giant', 'gorky park', 'great white', \"guns n' roses\",\n",
    "       'hanoi rocks', 'helix', 'jackyl', 'mötley crüe', 'mr. big',\n",
    "       'poison', 'pretty boy floyd', 'queensrÿche', 'quiet riot', 'ratt',\n",
    "       'saigon kick', 'scorpions', 'skid row', 'slaughter', 'steelheart']"
   ]
  },
  {
   "cell_type": "code",
   "execution_count": null,
   "id": "5428e75a",
   "metadata": {},
   "outputs": [],
   "source": [
    "test_df = pd.DataFrame()\n",
    "id_df = pd.DataFrame()\n",
    "\n",
    "for name in band_names:\n",
    "    \n",
    "    lband_df = lyric_df[lyric_df[\"artist\"] == name]\n",
    "    tband_df = track_df[track_df[\"artist\"] == name]\n",
    "\n",
    "    \n",
    "    _df = fuzzy_owrite(lband_df, tband_df, 'title', 'title', 85, 1)\n",
    "    \n",
    "    merged= pd.merge(test2_df, tband_df, how='left', on= ['title'])\n",
    "    \n",
    "    test_df = test_df.append(test2_df).reset_index(drop = True)\n",
    "    id_df = id_df.append(tband_df).reset_index(drop = True)"
   ]
  },
  {
   "cell_type": "markdown",
   "id": "15eda191",
   "metadata": {},
   "source": [
    "## Cinderella"
   ]
  },
  {
   "cell_type": "markdown",
   "id": "1706daee",
   "metadata": {},
   "source": [
    "Found in LyricsBatch20.csv"
   ]
  },
  {
   "cell_type": "code",
   "execution_count": null,
   "id": "7f07b313",
   "metadata": {},
   "outputs": [],
   "source": [
    "cin_df = df[df[\"Band\"]==\"Cinderella\"].reset_index(drop = True)\n",
    "cin_df.head()"
   ]
  },
  {
   "cell_type": "code",
   "execution_count": null,
   "id": "14a7a6f0",
   "metadata": {},
   "outputs": [],
   "source": [
    "cin_df = cin_df.replace('\\[dvd\\]','',regex=True)"
   ]
  },
  {
   "cell_type": "code",
   "execution_count": null,
   "id": "9f7073b6",
   "metadata": {},
   "outputs": [],
   "source": [
    "cin_df = cin_df.drop(index = [5, 6, 17, 26, 34, 37])"
   ]
  },
  {
   "cell_type": "markdown",
   "id": "1616f195",
   "metadata": {},
   "source": [
    "## Killer Dwarfs"
   ]
  },
  {
   "cell_type": "markdown",
   "id": "2a0ab1de",
   "metadata": {},
   "source": [
    "Found in LyricsBatch247.csv"
   ]
  },
  {
   "cell_type": "code",
   "execution_count": null,
   "id": "2d093a67",
   "metadata": {},
   "outputs": [],
   "source": [
    "kd_df = df[df[\"Band\"]==\"Killer Dwarfs\"]\n",
    "kd_df.shape"
   ]
  },
  {
   "cell_type": "code",
   "execution_count": null,
   "id": "d81a7725",
   "metadata": {
    "scrolled": false
   },
   "outputs": [],
   "source": [
    "kd_df = kd_df.sort_values(by ='Song').reset_index(drop = True)\n",
    "kd_df"
   ]
  },
  {
   "cell_type": "code",
   "execution_count": null,
   "id": "f02c9be9",
   "metadata": {},
   "outputs": [],
   "source": [
    "kd_df = kd_df.drop(index = [5, 7])"
   ]
  },
  {
   "cell_type": "markdown",
   "id": "0f5ff6a7",
   "metadata": {},
   "source": [
    "## Kip Winger"
   ]
  },
  {
   "cell_type": "markdown",
   "id": "8a4c51ea",
   "metadata": {},
   "source": [
    "Found in LyricsBatch249.csv"
   ]
  },
  {
   "cell_type": "code",
   "execution_count": null,
   "id": "5dbd9a5f",
   "metadata": {},
   "outputs": [],
   "source": [
    "kw_df = df[df[\"Band\"]==\"Kip Winger\"]\n",
    "kw_df.shape"
   ]
  },
  {
   "cell_type": "code",
   "execution_count": null,
   "id": "6dcae595",
   "metadata": {
    "scrolled": true
   },
   "outputs": [],
   "source": [
    "kw_df = kw_df.sort_values(by ='Song').reset_index(drop = True)\n",
    "kw_df"
   ]
  },
  {
   "cell_type": "code",
   "execution_count": null,
   "id": "ec862a66",
   "metadata": {},
   "outputs": [],
   "source": [
    "kw_df = kw_df.drop(index = [2, 5, 6, 9, 15, 18, 20, 21])"
   ]
  },
  {
   "cell_type": "markdown",
   "id": "4e93588f",
   "metadata": {},
   "source": [
    "## Kiss"
   ]
  },
  {
   "cell_type": "markdown",
   "id": "d95adab1",
   "metadata": {},
   "source": [
    "Found in LyricsBatch250.csv"
   ]
  },
  {
   "cell_type": "code",
   "execution_count": null,
   "id": "ea6db6bd",
   "metadata": {},
   "outputs": [],
   "source": [
    "k_df = df[df[\"Band\"]==\"Kiss\"].iloc[:100,:]\n",
    "k_df.shape"
   ]
  },
  {
   "cell_type": "code",
   "execution_count": null,
   "id": "6e995181",
   "metadata": {},
   "outputs": [],
   "source": [
    "k_df = k_df.sort_values(by ='Song').reset_index(drop = True)\n",
    "k_df"
   ]
  },
  {
   "cell_type": "code",
   "execution_count": null,
   "id": "3a1a63d8",
   "metadata": {},
   "outputs": [],
   "source": [
    "k_df = k_df.drop(index = [33, 34, 40, 46, 56, 99])"
   ]
  },
  {
   "cell_type": "code",
   "execution_count": null,
   "id": "3349d5a7",
   "metadata": {},
   "outputs": [],
   "source": [
    "k_df = k_df.replace(' \\[Live\\/1977\\]','',regex=True)\n",
    "k_df = k_df.replace(' \\[Demo\\]','',regex=True)"
   ]
  },
  {
   "cell_type": "markdown",
   "id": "09b11b86",
   "metadata": {},
   "source": [
    "## Kix"
   ]
  },
  {
   "cell_type": "markdown",
   "id": "b883724b",
   "metadata": {},
   "source": [
    "Found in LyricsBatch251.csv"
   ]
  },
  {
   "cell_type": "code",
   "execution_count": null,
   "id": "290c1c6d",
   "metadata": {},
   "outputs": [],
   "source": [
    "kx_df = df[df[\"Band\"]==\"Kix\"]\n",
    "kx_df.shape"
   ]
  },
  {
   "cell_type": "code",
   "execution_count": null,
   "id": "ad52df52",
   "metadata": {
    "scrolled": true
   },
   "outputs": [],
   "source": [
    "kx_df = kx_df.sort_values(by ='Song').reset_index(drop = True)\n",
    "kx_df"
   ]
  },
  {
   "cell_type": "code",
   "execution_count": null,
   "id": "e7cec9d2",
   "metadata": {},
   "outputs": [],
   "source": [
    "kx_df = kx_df.drop(index = 34)"
   ]
  },
  {
   "cell_type": "markdown",
   "id": "79014062",
   "metadata": {},
   "source": [
    "## Krokus"
   ]
  },
  {
   "cell_type": "markdown",
   "id": "873031df",
   "metadata": {},
   "source": [
    "Found in LyricsBatch254.csv"
   ]
  },
  {
   "cell_type": "code",
   "execution_count": null,
   "id": "51ac6ff7",
   "metadata": {},
   "outputs": [],
   "source": [
    "kr_df = df[df[\"Band\"]==\"Krokus\"]\n",
    "kr_df.shape"
   ]
  },
  {
   "cell_type": "code",
   "execution_count": null,
   "id": "a145c14c",
   "metadata": {
    "scrolled": true
   },
   "outputs": [],
   "source": [
    "kr_df = kr_df.sort_values(by ='Song').reset_index(drop = True)\n",
    "kr_df"
   ]
  },
  {
   "cell_type": "code",
   "execution_count": null,
   "id": "e33873ae",
   "metadata": {},
   "outputs": [],
   "source": [
    "kr_df = kr_df.drop(index = [3, 9, 36, 43])"
   ]
  },
  {
   "cell_type": "markdown",
   "id": "48661e15",
   "metadata": {},
   "source": [
    "## L.A. Guns"
   ]
  },
  {
   "cell_type": "markdown",
   "id": "979fdbd1",
   "metadata": {},
   "source": [
    "Found in LyricsBatch255.csv"
   ]
  },
  {
   "cell_type": "code",
   "execution_count": null,
   "id": "e3bf51c0",
   "metadata": {},
   "outputs": [],
   "source": [
    "la_df = df[df[\"Band\"]==\"L.A. Guns\"].iloc[:100,:]\n",
    "la_df.shape"
   ]
  },
  {
   "cell_type": "code",
   "execution_count": null,
   "id": "20d87b2d",
   "metadata": {
    "scrolled": true
   },
   "outputs": [],
   "source": [
    "la_df = la_df.sort_values(by ='Song').reset_index(drop = True)\n",
    "la_df"
   ]
  },
  {
   "cell_type": "code",
   "execution_count": null,
   "id": "331f60f5",
   "metadata": {},
   "outputs": [],
   "source": [
    "la_df = la_df.drop(index = [1, 8, 14, 26, 49, 54, 65, 68, 71, 86])"
   ]
  },
  {
   "cell_type": "code",
   "execution_count": null,
   "id": "eef3cfbd",
   "metadata": {},
   "outputs": [],
   "source": [
    "la_df = la_df.replace(' \\[\\*\\]','', regex = True)"
   ]
  },
  {
   "cell_type": "markdown",
   "id": "ca163b75",
   "metadata": {},
   "source": [
    "## Lita Ford"
   ]
  },
  {
   "cell_type": "markdown",
   "id": "cf85dfb1",
   "metadata": {},
   "source": [
    "Found in LyricsBatch272.csv & LyricsBatch273.csv"
   ]
  },
  {
   "cell_type": "code",
   "execution_count": null,
   "id": "3f69bf0d",
   "metadata": {
    "scrolled": true
   },
   "outputs": [],
   "source": [
    "lf_df = df[df[\"Band\"]==\"Lita Ford\"]\n",
    "lf_df.shape"
   ]
  },
  {
   "cell_type": "code",
   "execution_count": null,
   "id": "dbe56414",
   "metadata": {
    "scrolled": true
   },
   "outputs": [],
   "source": [
    "lf_df = lf_df.sort_values(by ='Song').reset_index(drop = True)\n",
    "lf_df"
   ]
  },
  {
   "cell_type": "code",
   "execution_count": null,
   "id": "df73618c",
   "metadata": {},
   "outputs": [],
   "source": [
    "lf_df = lf_df.drop(index = [22, 39, 57])"
   ]
  },
  {
   "cell_type": "code",
   "execution_count": null,
   "id": "505a5179",
   "metadata": {},
   "outputs": [],
   "source": [
    "lf_df = lf_df.replace(' \\[\\*\\]', '', regex = True) \n",
    "lf_df = lf_df.replace('\\[Exclusive Studio Track\\]','', regex=True)\n",
    "lf_df = lf_df.replace('\\$','Dollar', regex=True)"
   ]
  },
  {
   "cell_type": "markdown",
   "id": "214e5c9a",
   "metadata": {},
   "source": [
    "## Loverboy"
   ]
  },
  {
   "cell_type": "markdown",
   "id": "79a4186f",
   "metadata": {},
   "source": [
    "Found in LyricsBatch282.csv & LyricsBatch283.csv"
   ]
  },
  {
   "cell_type": "code",
   "execution_count": null,
   "id": "c81ba13d",
   "metadata": {},
   "outputs": [],
   "source": [
    "lb_df = df[df[\"Band\"]==\"Loverboy\"]\n",
    "lb_df.shape"
   ]
  },
  {
   "cell_type": "code",
   "execution_count": null,
   "id": "13a9aea5",
   "metadata": {},
   "outputs": [],
   "source": [
    "lb_df = lb_df.sort_values(by ='Song').reset_index(drop = True)\n",
    "lb_df"
   ]
  },
  {
   "cell_type": "code",
   "execution_count": null,
   "id": "c2ec3dc6",
   "metadata": {},
   "outputs": [],
   "source": [
    "lb_df = lb_df.drop(index = [1, 28])"
   ]
  },
  {
   "cell_type": "code",
   "execution_count": null,
   "id": "ccee0e67",
   "metadata": {},
   "outputs": [],
   "source": [
    "lb_df = lb_df.replace(' \\[\\*\\]', '', regex = True) \n"
   ]
  },
  {
   "cell_type": "code",
   "execution_count": null,
   "id": "5885829a",
   "metadata": {},
   "outputs": [],
   "source": [
    "step1 = pd.concat([cin_df, kd_df, k_df, kr_df, \n",
    "                       la_df, lf_df, lb_df]).reset_index(drop = True)\n",
    "step1.shape"
   ]
  },
  {
   "cell_type": "markdown",
   "id": "9c4bc116",
   "metadata": {},
   "source": [
    "# - 1 band (Autograph) 417 rows"
   ]
  },
  {
   "cell_type": "markdown",
   "id": "bc468338",
   "metadata": {},
   "source": [
    "Found in LyricsBatch1033"
   ]
  },
  {
   "cell_type": "code",
   "execution_count": null,
   "id": "fda85b4c",
   "metadata": {},
   "outputs": [],
   "source": [
    "df = pd.read_csv(\"LyricsBatch1033.csv\")"
   ]
  },
  {
   "cell_type": "code",
   "execution_count": null,
   "id": "eab8dff5",
   "metadata": {},
   "outputs": [],
   "source": [
    "au_df = df[df[\"Band\"]==\"Autograph\"]\n",
    "au_df.shape"
   ]
  },
  {
   "cell_type": "code",
   "execution_count": null,
   "id": "270e6575",
   "metadata": {
    "scrolled": true
   },
   "outputs": [],
   "source": [
    "au_df = au_df.sort_values(by ='Song').reset_index(drop = True)\n",
    "au_df"
   ]
  },
  {
   "cell_type": "code",
   "execution_count": null,
   "id": "a74c8f7b",
   "metadata": {},
   "outputs": [],
   "source": [
    "au_df = au_df.drop(index = [3, 9, 10, 12, 18, 21])"
   ]
  },
  {
   "cell_type": "code",
   "execution_count": null,
   "id": "b1e658b4",
   "metadata": {},
   "outputs": [],
   "source": [
    "step2 = pd.concat([step1, au_df])\n",
    "step2.shape"
   ]
  },
  {
   "cell_type": "markdown",
   "id": "3d7d0a61",
   "metadata": {},
   "source": [
    "# -1 band (Bad English) 439 rows"
   ]
  },
  {
   "cell_type": "markdown",
   "id": "b2104d0e",
   "metadata": {},
   "source": [
    "Found in LyricsBatch1037"
   ]
  },
  {
   "cell_type": "code",
   "execution_count": null,
   "id": "37940592",
   "metadata": {},
   "outputs": [],
   "source": [
    "df = pd.read_csv(\"LyricsBatch1037.csv\")"
   ]
  },
  {
   "cell_type": "code",
   "execution_count": null,
   "id": "657b8aa8",
   "metadata": {
    "scrolled": true
   },
   "outputs": [],
   "source": [
    "be_df = df[df[\"Band\"]==\"Bad English\"]\n",
    "be_df.shape"
   ]
  },
  {
   "cell_type": "code",
   "execution_count": null,
   "id": "e5a42301",
   "metadata": {},
   "outputs": [],
   "source": [
    "be_df = be_df.sort_values(by ='Song')\n",
    "be_df"
   ]
  },
  {
   "cell_type": "code",
   "execution_count": null,
   "id": "2ee53b6c",
   "metadata": {},
   "outputs": [],
   "source": [
    "step3 = pd.concat([step2, be_df])\n",
    "step3.shape"
   ]
  },
  {
   "cell_type": "markdown",
   "id": "ab27eda4",
   "metadata": {},
   "source": [
    "# -2 bands (466 rows)"
   ]
  },
  {
   "cell_type": "markdown",
   "id": "dea7421a",
   "metadata": {},
   "source": [
    "## Damn Yankees"
   ]
  },
  {
   "cell_type": "code",
   "execution_count": null,
   "id": "aee01985",
   "metadata": {},
   "outputs": [],
   "source": [
    "df = pd.read_csv(\"LyricsBatch37.csv\")"
   ]
  },
  {
   "cell_type": "code",
   "execution_count": null,
   "id": "2ad9cf3d",
   "metadata": {},
   "outputs": [],
   "source": [
    "dy_df = df[df[\"Band\"]==\"Damn Yankees\"]\n",
    "dy_df.shape"
   ]
  },
  {
   "cell_type": "code",
   "execution_count": null,
   "id": "6dfd951d",
   "metadata": {},
   "outputs": [],
   "source": [
    "dy_df = dy_df.sort_values(by ='Song')\n",
    "dy_df"
   ]
  },
  {
   "cell_type": "markdown",
   "id": "f64a1a9f",
   "metadata": {},
   "source": [
    "## Danger Danger"
   ]
  },
  {
   "cell_type": "code",
   "execution_count": null,
   "id": "5983c20d",
   "metadata": {},
   "outputs": [],
   "source": [
    "df = pd.read_csv(\"LyricsBatch38.csv\")"
   ]
  },
  {
   "cell_type": "code",
   "execution_count": null,
   "id": "63aa3507",
   "metadata": {},
   "outputs": [],
   "source": [
    "dd_df = df[df[\"Band\"]==\"Danger Danger\"]\n",
    "dd_df.shape"
   ]
  },
  {
   "cell_type": "code",
   "execution_count": null,
   "id": "d727a3f5",
   "metadata": {},
   "outputs": [],
   "source": [
    "dd_df = dd_df.sort_values(by ='Song')\n",
    "dd_df"
   ]
  },
  {
   "cell_type": "code",
   "execution_count": null,
   "id": "3c6b8a50",
   "metadata": {},
   "outputs": [],
   "source": [
    "step4 = pd.concat([step3, dy_df, dd_df])\n",
    "step4.shape"
   ]
  },
  {
   "cell_type": "markdown",
   "id": "93b145bb",
   "metadata": {},
   "source": [
    "# -1 band (Def Leppard) 548 rows"
   ]
  },
  {
   "cell_type": "code",
   "execution_count": null,
   "id": "9d29540b",
   "metadata": {},
   "outputs": [],
   "source": [
    "df = pd.read_csv(\"LyricsBatch51.csv\")"
   ]
  },
  {
   "cell_type": "code",
   "execution_count": null,
   "id": "86edda4e",
   "metadata": {},
   "outputs": [],
   "source": [
    "def_df = df[df[\"Band\"]==\"Def Leppard\"].iloc[:100,:]\n",
    "def_df.shape"
   ]
  },
  {
   "cell_type": "code",
   "execution_count": null,
   "id": "b62845e0",
   "metadata": {
    "scrolled": false
   },
   "outputs": [],
   "source": [
    "def_df = def_df.sort_values(by ='Song').reset_index(drop = True)\n",
    "def_df"
   ]
  },
  {
   "cell_type": "code",
   "execution_count": null,
   "id": "9bd45142",
   "metadata": {},
   "outputs": [],
   "source": [
    "def_df = def_df.drop(index = [4, 7, 9, 11, 20, 24, 43, 48, 53, 62, 67, 68, 71, 72, 74, 75, 89, 97]).reset_index(drop = True)"
   ]
  },
  {
   "cell_type": "code",
   "execution_count": null,
   "id": "44315ea5",
   "metadata": {},
   "outputs": [],
   "source": [
    "def_df = def_df.replace(' \\[\\*\\]', '', regex = True)\n",
    "def_df = def_df.replace('\\[\\*\\]', '', regex = True)\n",
    "def_df = def_df.replace(' \\[\\#\\]', '', regex = True) \n",
    "def_df = def_df.replace(' \\[Live\\]','', regex=True)\n",
    "def_df = def_df.replace(' \\[Electric Version\\]','', regex=True)"
   ]
  },
  {
   "cell_type": "code",
   "execution_count": null,
   "id": "5c46103b",
   "metadata": {},
   "outputs": [],
   "source": [
    "step5 = pd.concat([step4, def_df])\n",
    "step5.shape"
   ]
  },
  {
   "cell_type": "markdown",
   "id": "f67e2821",
   "metadata": {},
   "source": [
    "# -1 band (Dokken) 631 rows"
   ]
  },
  {
   "cell_type": "code",
   "execution_count": null,
   "id": "51be928e",
   "metadata": {},
   "outputs": [],
   "source": [
    "df = pd.read_csv(\"LyricsBatch68.csv\")"
   ]
  },
  {
   "cell_type": "code",
   "execution_count": null,
   "id": "21883898",
   "metadata": {
    "scrolled": true
   },
   "outputs": [],
   "source": [
    "do_df = df[df[\"Band\"]==\"Dokken\"]\n",
    "do_df.shape"
   ]
  },
  {
   "cell_type": "code",
   "execution_count": null,
   "id": "318e50c4",
   "metadata": {
    "scrolled": false
   },
   "outputs": [],
   "source": [
    "do_df = do_df.sort_values(by ='Song').reset_index(drop = True)\n",
    "do_df"
   ]
  },
  {
   "cell_type": "code",
   "execution_count": null,
   "id": "4edda202",
   "metadata": {},
   "outputs": [],
   "source": [
    "do_df = do_df.drop(index = [1, 15, 34, 53, 55, 77, 78, 81])"
   ]
  },
  {
   "cell_type": "code",
   "execution_count": null,
   "id": "9afa52ce",
   "metadata": {},
   "outputs": [],
   "source": [
    "step6 = pd.concat([step5, do_df])\n",
    "step6.shape"
   ]
  },
  {
   "cell_type": "markdown",
   "id": "745db6ab",
   "metadata": {},
   "source": [
    "# -1 band (Enuff Z'nuff) 678 rows"
   ]
  },
  {
   "cell_type": "code",
   "execution_count": null,
   "id": "d95f6d2f",
   "metadata": {},
   "outputs": [],
   "source": [
    "df = pd.read_csv(\"LyricsBatch96.csv\")"
   ]
  },
  {
   "cell_type": "code",
   "execution_count": null,
   "id": "829f12ec",
   "metadata": {},
   "outputs": [],
   "source": [
    "en_df = df[df[\"Band\"]==\"Enuff Z'nuff\"]\n",
    "en_df.shape"
   ]
  },
  {
   "cell_type": "code",
   "execution_count": null,
   "id": "c6ab8a3d",
   "metadata": {
    "scrolled": true
   },
   "outputs": [],
   "source": [
    "en_df = en_df.sort_values(by ='Song').reset_index(drop = True)\n",
    "en_df"
   ]
  },
  {
   "cell_type": "code",
   "execution_count": null,
   "id": "b5ed8605",
   "metadata": {},
   "outputs": [],
   "source": [
    "en_df = en_df.replace(' \\[\\*\\]', '', regex = True)"
   ]
  },
  {
   "cell_type": "code",
   "execution_count": null,
   "id": "7a35a3c7",
   "metadata": {},
   "outputs": [],
   "source": [
    "step7 = pd.concat([step6, en_df])\n",
    "step7.shape"
   ]
  },
  {
   "cell_type": "markdown",
   "id": "6050be47",
   "metadata": {},
   "source": [
    "# -3 bands (818 rows)"
   ]
  },
  {
   "cell_type": "code",
   "execution_count": null,
   "id": "e77c7f9c",
   "metadata": {},
   "outputs": [],
   "source": [
    "# merging the files\n",
    "joined_files = os.path.join(\"LyricsBatch10?.csv\")"
   ]
  },
  {
   "cell_type": "code",
   "execution_count": null,
   "id": "36d98ea6",
   "metadata": {},
   "outputs": [],
   "source": [
    "# A list of all joined files is returned\n",
    "joined_list = glob.glob(joined_files)"
   ]
  },
  {
   "cell_type": "code",
   "execution_count": null,
   "id": "69efe24f",
   "metadata": {
    "scrolled": true
   },
   "outputs": [],
   "source": [
    "# Finally, the files are joined\n",
    "df = pd.concat(map(pd.read_csv, joined_list), ignore_index=True)"
   ]
  },
  {
   "cell_type": "markdown",
   "id": "e52a403b",
   "metadata": {},
   "source": [
    "## Europe"
   ]
  },
  {
   "cell_type": "code",
   "execution_count": null,
   "id": "d2ff2735",
   "metadata": {},
   "outputs": [],
   "source": [
    "# Found in LyricsBatch101.csv"
   ]
  },
  {
   "cell_type": "code",
   "execution_count": null,
   "id": "033986d9",
   "metadata": {},
   "outputs": [],
   "source": [
    "eu_df = df[df[\"Band\"]==\"Europe\"].iloc[:100,:]\n",
    "eu_df.shape"
   ]
  },
  {
   "cell_type": "code",
   "execution_count": null,
   "id": "a0c7cd8a",
   "metadata": {
    "scrolled": false
   },
   "outputs": [],
   "source": [
    "eu_df = eu_df.sort_values(by ='Song').reset_index(drop = True)\n",
    "eu_df"
   ]
  },
  {
   "cell_type": "code",
   "execution_count": null,
   "id": "84b581ce",
   "metadata": {},
   "outputs": [],
   "source": [
    "eu_df = eu_df.drop(index = [6, 10, 16, 22, 30, 34, 35, 40, 42, \n",
    "                            57, 59, 67, 68, 71, 80, 83, 84, 94, 98, 99])"
   ]
  },
  {
   "cell_type": "code",
   "execution_count": null,
   "id": "eb951ad2",
   "metadata": {},
   "outputs": [],
   "source": [
    "eu_df = eu_df.replace(' \\[DVD\\]', '', regex = True)\n",
    "eu_df = eu_df.replace(' \\[Radio Edit\\]', '', regex = True)\n",
    "eu_df = eu_df.replace(' \\(Single B-Side\\)', '', regex = True)"
   ]
  },
  {
   "cell_type": "markdown",
   "id": "11ffb0b3",
   "metadata": {},
   "source": [
    "## Extreme"
   ]
  },
  {
   "cell_type": "code",
   "execution_count": null,
   "id": "222f343d",
   "metadata": {},
   "outputs": [],
   "source": [
    "# Found in LyricsBatch102.csv"
   ]
  },
  {
   "cell_type": "code",
   "execution_count": null,
   "id": "5832e82d",
   "metadata": {},
   "outputs": [],
   "source": [
    "ex_df = df[df[\"Band\"]==\"Extreme\"]\n",
    "ex_df.shape"
   ]
  },
  {
   "cell_type": "code",
   "execution_count": null,
   "id": "735616b1",
   "metadata": {
    "scrolled": true
   },
   "outputs": [],
   "source": [
    "ex_df = ex_df.sort_values(by ='Song').reset_index(drop = True)\n",
    "ex_df"
   ]
  },
  {
   "cell_type": "code",
   "execution_count": null,
   "id": "bf3168bc",
   "metadata": {},
   "outputs": [],
   "source": [
    "ex_df = ex_df.drop(index = [6, 43])"
   ]
  },
  {
   "cell_type": "markdown",
   "id": "9340ce59",
   "metadata": {},
   "source": [
    "## Faster Pussycat"
   ]
  },
  {
   "cell_type": "code",
   "execution_count": null,
   "id": "c6a56f68",
   "metadata": {},
   "outputs": [],
   "source": [
    "# Found in LyricsBatch105.csv"
   ]
  },
  {
   "cell_type": "code",
   "execution_count": null,
   "id": "7b82221c",
   "metadata": {},
   "outputs": [],
   "source": [
    "fp_df = df[df[\"Band\"]==\"Faster Pussycat\"]\n",
    "fp_df.shape"
   ]
  },
  {
   "cell_type": "code",
   "execution_count": null,
   "id": "7b3bddaf",
   "metadata": {},
   "outputs": [],
   "source": [
    "fp_df = fp_df.sort_values(by ='Song').reset_index(drop = True)\n",
    "fp_df"
   ]
  },
  {
   "cell_type": "code",
   "execution_count": null,
   "id": "c18ee082",
   "metadata": {},
   "outputs": [],
   "source": [
    "step8 = pd.concat([step7, eu_df, ex_df, fp_df])\n",
    "step8.shape"
   ]
  },
  {
   "cell_type": "markdown",
   "id": "33049fa2",
   "metadata": {},
   "source": [
    "# -1 band (Firehouse) 869 rows"
   ]
  },
  {
   "cell_type": "code",
   "execution_count": null,
   "id": "b898ed5b",
   "metadata": {},
   "outputs": [],
   "source": [
    "df = pd.read_csv(\"LyricsBatch119.csv\")"
   ]
  },
  {
   "cell_type": "code",
   "execution_count": null,
   "id": "7a9b80da",
   "metadata": {},
   "outputs": [],
   "source": [
    "fh_df = df[df[\"Band\"]==\"Firehouse\"]\n",
    "fh_df.shape"
   ]
  },
  {
   "cell_type": "code",
   "execution_count": null,
   "id": "3230235f",
   "metadata": {},
   "outputs": [],
   "source": [
    "fh_df = fh_df.sort_values(by ='Song').reset_index(drop = True)\n",
    "fh_df"
   ]
  },
  {
   "cell_type": "code",
   "execution_count": null,
   "id": "4741f80c",
   "metadata": {},
   "outputs": [],
   "source": [
    "step9 = pd.concat([step8, fh_df])\n",
    "step9.shape"
   ]
  },
  {
   "cell_type": "markdown",
   "id": "f924e240",
   "metadata": {},
   "source": [
    "# -1 band (Giant) 891 rows"
   ]
  },
  {
   "cell_type": "code",
   "execution_count": null,
   "id": "e5950c2f",
   "metadata": {},
   "outputs": [],
   "source": [
    "df = pd.read_csv(\"LyricsBatch142.csv\")"
   ]
  },
  {
   "cell_type": "code",
   "execution_count": null,
   "id": "b6235f9b",
   "metadata": {},
   "outputs": [],
   "source": [
    "g_df = df[df[\"Band\"]==\"Giant\"]\n",
    "g_df.shape"
   ]
  },
  {
   "cell_type": "code",
   "execution_count": null,
   "id": "563329a5",
   "metadata": {},
   "outputs": [],
   "source": [
    "g_df = g_df.sort_values(by ='Song').reset_index(drop = True)\n",
    "g_df"
   ]
  },
  {
   "cell_type": "code",
   "execution_count": null,
   "id": "dcb870c8",
   "metadata": {},
   "outputs": [],
   "source": [
    "step10 = pd.concat([step9, g_df])\n",
    "step10.shape"
   ]
  },
  {
   "cell_type": "markdown",
   "id": "89c1c72a",
   "metadata": {},
   "source": [
    "# -1 band (Gorky Park) 896 rows"
   ]
  },
  {
   "cell_type": "code",
   "execution_count": null,
   "id": "ef5825a7",
   "metadata": {},
   "outputs": [],
   "source": [
    "df = pd.read_csv(\"LyricsBatch149.csv\")"
   ]
  },
  {
   "cell_type": "code",
   "execution_count": null,
   "id": "bbb6a8cd",
   "metadata": {
    "scrolled": true
   },
   "outputs": [],
   "source": [
    "gp_df = df[df[\"Band\"]==\"Gorky Park\"]\n",
    "gp_df.shape"
   ]
  },
  {
   "cell_type": "code",
   "execution_count": null,
   "id": "eaf2c902",
   "metadata": {},
   "outputs": [],
   "source": [
    "gp_df = gp_df.sort_values(by ='Song').reset_index(drop = True)\n",
    "gp_df"
   ]
  },
  {
   "cell_type": "code",
   "execution_count": null,
   "id": "64538c61",
   "metadata": {},
   "outputs": [],
   "source": [
    "step11 = pd.concat([step10, gp_df])\n",
    "step11.shape"
   ]
  },
  {
   "cell_type": "markdown",
   "id": "ce77e69c",
   "metadata": {},
   "source": [
    "# 2 bands (1071 rows)"
   ]
  },
  {
   "cell_type": "code",
   "execution_count": null,
   "id": "dce45bc2",
   "metadata": {},
   "outputs": [],
   "source": [
    "# merging the files\n",
    "joined_files = os.path.join(\"LyricsBatch15?.csv\")"
   ]
  },
  {
   "cell_type": "code",
   "execution_count": null,
   "id": "c2d31b98",
   "metadata": {},
   "outputs": [],
   "source": [
    "# A list of all joined files is returned\n",
    "joined_list = glob.glob(joined_files)"
   ]
  },
  {
   "cell_type": "code",
   "execution_count": null,
   "id": "1117a111",
   "metadata": {
    "scrolled": true
   },
   "outputs": [],
   "source": [
    "# Finally, the files are joined\n",
    "df = pd.concat(map(pd.read_csv, joined_list), ignore_index=True)"
   ]
  },
  {
   "cell_type": "markdown",
   "id": "eed2121b",
   "metadata": {},
   "source": [
    "## Great White"
   ]
  },
  {
   "cell_type": "code",
   "execution_count": null,
   "id": "0a0f4de2",
   "metadata": {},
   "outputs": [],
   "source": [
    "# Found in LyricsBatch153.csv"
   ]
  },
  {
   "cell_type": "code",
   "execution_count": null,
   "id": "26995b60",
   "metadata": {},
   "outputs": [],
   "source": [
    "gw_df = df[df[\"Band\"]==\"Great White\"].iloc[:100,:]\n",
    "gw_df.shape"
   ]
  },
  {
   "cell_type": "code",
   "execution_count": null,
   "id": "6bc94a1d",
   "metadata": {
    "scrolled": false
   },
   "outputs": [],
   "source": [
    "gw_df = gw_df.sort_values(by ='Song').reset_index(drop = True)\n",
    "gw_df"
   ]
  },
  {
   "cell_type": "code",
   "execution_count": null,
   "id": "631c6776",
   "metadata": {},
   "outputs": [],
   "source": [
    "gw_df = gw_df.drop(index = [55, 91])"
   ]
  },
  {
   "cell_type": "markdown",
   "id": "6c5fd008",
   "metadata": {},
   "source": [
    "## Guns N' Roses"
   ]
  },
  {
   "cell_type": "code",
   "execution_count": null,
   "id": "90fa8700",
   "metadata": {},
   "outputs": [],
   "source": [
    "# Found in LyricsBatch156.csv"
   ]
  },
  {
   "cell_type": "code",
   "execution_count": null,
   "id": "75fa7b8b",
   "metadata": {},
   "outputs": [],
   "source": [
    "gr_df = df[df[\"Band\"]==\"Guns N' Roses\"]\n",
    "gr_df.shape"
   ]
  },
  {
   "cell_type": "code",
   "execution_count": null,
   "id": "e5cbb98f",
   "metadata": {
    "scrolled": false
   },
   "outputs": [],
   "source": [
    "gr_df = gr_df.sort_values(by ='Song').reset_index(drop = True)\n",
    "gr_df"
   ]
  },
  {
   "cell_type": "code",
   "execution_count": null,
   "id": "e0d59838",
   "metadata": {},
   "outputs": [],
   "source": [
    "gr_df = gr_df.drop(index = [13, 16, 32, 37, 45, 67])"
   ]
  },
  {
   "cell_type": "code",
   "execution_count": null,
   "id": "72227aa2",
   "metadata": {},
   "outputs": [],
   "source": [
    "gr_df = gr_df.replace(' \\[Medley\\]', '', regex = True)\n",
    "gr_df = gr_df.replace(' \\[Original Version\\]', '', regex = True)\n",
    "gr_df = gr_df.replace(' \\[Clean Version\\]', '', regex = True)"
   ]
  },
  {
   "cell_type": "code",
   "execution_count": null,
   "id": "591ffa3c",
   "metadata": {},
   "outputs": [],
   "source": [
    "step12 = pd.concat([step11, gw_df, gr_df])\n",
    "step12.shape"
   ]
  },
  {
   "cell_type": "markdown",
   "id": "849a77ee",
   "metadata": {},
   "source": [
    "# -2 bands (1143 rows)"
   ]
  },
  {
   "cell_type": "code",
   "execution_count": null,
   "id": "8387c576",
   "metadata": {},
   "outputs": [],
   "source": [
    "# merging the files\n",
    "joined_files = os.path.join(\"LyricsBatch16?.csv\")"
   ]
  },
  {
   "cell_type": "code",
   "execution_count": null,
   "id": "29f896dd",
   "metadata": {},
   "outputs": [],
   "source": [
    "# A list of all joined files is returned\n",
    "joined_list = glob.glob(joined_files)"
   ]
  },
  {
   "cell_type": "code",
   "execution_count": null,
   "id": "fc6169e8",
   "metadata": {
    "scrolled": true
   },
   "outputs": [],
   "source": [
    "# Finally, the files are joined\n",
    "df = pd.concat(map(pd.read_csv, joined_list), ignore_index=True)"
   ]
  },
  {
   "cell_type": "markdown",
   "id": "1547de42",
   "metadata": {},
   "source": [
    "## Hanoi Rocks"
   ]
  },
  {
   "cell_type": "code",
   "execution_count": null,
   "id": "e258562e",
   "metadata": {},
   "outputs": [],
   "source": [
    "# Found in LyricsBatch160.csv"
   ]
  },
  {
   "cell_type": "code",
   "execution_count": null,
   "id": "5e10e94a",
   "metadata": {},
   "outputs": [],
   "source": [
    "hr_df = df[df[\"Band\"]==\"Hanoi Rocks\"]\n",
    "hr_df.shape"
   ]
  },
  {
   "cell_type": "code",
   "execution_count": null,
   "id": "02f616cb",
   "metadata": {
    "scrolled": false
   },
   "outputs": [],
   "source": [
    "hr_df = hr_df.sort_values(by ='Song').reset_index(drop = True)\n",
    "hr_df"
   ]
  },
  {
   "cell_type": "code",
   "execution_count": null,
   "id": "d3193a11",
   "metadata": {},
   "outputs": [],
   "source": [
    "hr_df = hr_df.drop(index = [0, 10, 18, 33, 42])"
   ]
  },
  {
   "cell_type": "code",
   "execution_count": null,
   "id": "fb1a573d",
   "metadata": {},
   "outputs": [],
   "source": [
    "hr_df = hr_df.replace('Xmas', 'X-mas', regex = True)"
   ]
  },
  {
   "cell_type": "markdown",
   "id": "e783d5d3",
   "metadata": {},
   "source": [
    "## Helix"
   ]
  },
  {
   "cell_type": "code",
   "execution_count": null,
   "id": "29e20ada",
   "metadata": {},
   "outputs": [],
   "source": [
    "# Found in LyricsBatch166.csv"
   ]
  },
  {
   "cell_type": "code",
   "execution_count": null,
   "id": "98426bf7",
   "metadata": {},
   "outputs": [],
   "source": [
    "h_df = df[df[\"Band\"]==\"Helix\"]\n",
    "h_df.shape"
   ]
  },
  {
   "cell_type": "code",
   "execution_count": null,
   "id": "3e6bf326",
   "metadata": {},
   "outputs": [],
   "source": [
    "h_df = h_df.sort_values(by ='Song').reset_index(drop = True)\n",
    "h_df"
   ]
  },
  {
   "cell_type": "code",
   "execution_count": null,
   "id": "57903f80",
   "metadata": {},
   "outputs": [],
   "source": [
    "h_df = h_df.drop(index = 2)"
   ]
  },
  {
   "cell_type": "code",
   "execution_count": null,
   "id": "15f4c3b0",
   "metadata": {},
   "outputs": [],
   "source": [
    "step13 = pd.concat([step12, hr_df, h_df])\n",
    "step13.shape"
   ]
  },
  {
   "cell_type": "markdown",
   "id": "0e63d399",
   "metadata": {},
   "source": [
    "# -1 band (Jackyl) 1199 rows"
   ]
  },
  {
   "cell_type": "code",
   "execution_count": null,
   "id": "ba04decf",
   "metadata": {},
   "outputs": [],
   "source": [
    "df = pd.read_csv(\"LyricsBatch185.csv\")"
   ]
  },
  {
   "cell_type": "code",
   "execution_count": null,
   "id": "fb1724a9",
   "metadata": {},
   "outputs": [],
   "source": [
    "j_df = df[df[\"Band\"]==\"Jackyl\"]\n",
    "j_df.shape"
   ]
  },
  {
   "cell_type": "code",
   "execution_count": null,
   "id": "25fb2a3a",
   "metadata": {
    "scrolled": true
   },
   "outputs": [],
   "source": [
    "j_df = j_df.sort_values(by ='Song').reset_index(drop = True)\n",
    "j_df"
   ]
  },
  {
   "cell_type": "code",
   "execution_count": null,
   "id": "203b5aa0",
   "metadata": {},
   "outputs": [],
   "source": [
    "j_df = j_df.replace('Intro\\/', '', regex = True)"
   ]
  },
  {
   "cell_type": "code",
   "execution_count": null,
   "id": "adf78d00",
   "metadata": {},
   "outputs": [],
   "source": [
    "step14 = pd.concat([step13, j_df])\n",
    "step14.shape"
   ]
  },
  {
   "cell_type": "markdown",
   "id": "edfddd00",
   "metadata": {},
   "source": [
    "# -2 bands 1358 rows"
   ]
  },
  {
   "cell_type": "code",
   "execution_count": null,
   "id": "97f27040",
   "metadata": {},
   "outputs": [],
   "source": [
    "# merging the files\n",
    "joined_files = os.path.join(\"LyricsBatch104*.csv\")"
   ]
  },
  {
   "cell_type": "code",
   "execution_count": null,
   "id": "05e49256",
   "metadata": {},
   "outputs": [],
   "source": [
    "# A list of all joined files is returned\n",
    "joined_list = glob.glob(joined_files)"
   ]
  },
  {
   "cell_type": "code",
   "execution_count": null,
   "id": "111abfc3",
   "metadata": {
    "scrolled": true
   },
   "outputs": [],
   "source": [
    "# Finally, the files are joined\n",
    "df = pd.concat(map(pd.read_csv, joined_list), ignore_index=True)"
   ]
  },
  {
   "cell_type": "markdown",
   "id": "48721c2c",
   "metadata": {},
   "source": [
    "## Motley Crue"
   ]
  },
  {
   "cell_type": "code",
   "execution_count": null,
   "id": "58f414d1",
   "metadata": {},
   "outputs": [],
   "source": [
    "# Found in LyricsBatch1047.csv"
   ]
  },
  {
   "cell_type": "code",
   "execution_count": null,
   "id": "1998a79d",
   "metadata": {},
   "outputs": [],
   "source": [
    "mc_df = df[df[\"Band\"]==\"Mötley Crüe\"].iloc[:100,:]\n",
    "mc_df.shape"
   ]
  },
  {
   "cell_type": "code",
   "execution_count": null,
   "id": "36f2dca5",
   "metadata": {
    "scrolled": false
   },
   "outputs": [],
   "source": [
    "mc_df = mc_df.sort_values(by ='Song').reset_index(drop = True)\n",
    "mc_df"
   ]
  },
  {
   "cell_type": "code",
   "execution_count": null,
   "id": "599a2391",
   "metadata": {},
   "outputs": [],
   "source": [
    "mc_df = mc_df.drop(index = [2, 7, 15, 21, 22, 24, 34, 36, 40, 51, 52, 54, 55, 76, 92])"
   ]
  },
  {
   "cell_type": "code",
   "execution_count": null,
   "id": "1066321e",
   "metadata": {},
   "outputs": [],
   "source": [
    "mc_df = mc_df.replace('\\[\\#\\]', '', regex = True)\n",
    "mc_df = mc_df.replace('\\[\\*\\]', '', regex = True)\n",
    "mc_df = mc_df.replace(\" \\['91 Remix\\]\", '', regex = True)\n",
    "mc_df = mc_df.replace(' \\[Live\\]', '', regex = True)\n",
    "mc_df = mc_df.replace(' \\[Live in Dallas, TX\\]', '', regex = True)\n",
    "mc_df = mc_df.replace('\\[Demo Version\\]', '', regex = True)"
   ]
  },
  {
   "cell_type": "markdown",
   "id": "8a23f531",
   "metadata": {},
   "source": [
    "## Mr. Big"
   ]
  },
  {
   "cell_type": "code",
   "execution_count": null,
   "id": "096d2351",
   "metadata": {},
   "outputs": [],
   "source": [
    "# Found in LyricsBatch1048.csv"
   ]
  },
  {
   "cell_type": "code",
   "execution_count": null,
   "id": "13ee899f",
   "metadata": {},
   "outputs": [],
   "source": [
    "mb_df = df[df[\"Band\"]==\"Mr. Big\"]\n",
    "mb_df.shape"
   ]
  },
  {
   "cell_type": "code",
   "execution_count": null,
   "id": "4c14f25d",
   "metadata": {
    "scrolled": false
   },
   "outputs": [],
   "source": [
    "mb_df = mb_df.sort_values(by ='Song').reset_index(drop = True)\n",
    "mb_df"
   ]
  },
  {
   "cell_type": "code",
   "execution_count": null,
   "id": "87b69e08",
   "metadata": {},
   "outputs": [],
   "source": [
    "mb_df = mb_df.drop(index = [2, 5, 7, 9, 19, 22, 26, 31, 36, 48, 67, 70, 77])"
   ]
  },
  {
   "cell_type": "code",
   "execution_count": null,
   "id": "e10391c4",
   "metadata": {},
   "outputs": [],
   "source": [
    "mb_df = mb_df.replace(' \\[\\*\\]', '', regex = True)\n",
    "mb_df = mb_df.replace(' \\[\\#\\]', '', regex = True)\n",
    "mb_df = mb_df.replace(' \\(Studio\\)', '', regex = True)"
   ]
  },
  {
   "cell_type": "code",
   "execution_count": null,
   "id": "05db2179",
   "metadata": {},
   "outputs": [],
   "source": [
    "step15 = pd.concat([step14, mc_df, mb_df])\n",
    "step15.shape"
   ]
  },
  {
   "cell_type": "markdown",
   "id": "f99d620d",
   "metadata": {},
   "source": [
    "# -2 bands (1443 rows)"
   ]
  },
  {
   "cell_type": "code",
   "execution_count": null,
   "id": "b129d4cc",
   "metadata": {},
   "outputs": [],
   "source": [
    "# merging the files\n",
    "joined_files = os.path.join(\"LyricsBatch109*.csv\")"
   ]
  },
  {
   "cell_type": "code",
   "execution_count": null,
   "id": "468e823a",
   "metadata": {},
   "outputs": [],
   "source": [
    "# A list of all joined files is returned\n",
    "joined_list = glob.glob(joined_files)"
   ]
  },
  {
   "cell_type": "code",
   "execution_count": null,
   "id": "b73d01b5",
   "metadata": {
    "scrolled": true
   },
   "outputs": [],
   "source": [
    "# Finally, the files are joined\n",
    "df = pd.concat(map(pd.read_csv, joined_list), ignore_index=True)"
   ]
  },
  {
   "cell_type": "markdown",
   "id": "ca229186",
   "metadata": {},
   "source": [
    "## Poison"
   ]
  },
  {
   "cell_type": "code",
   "execution_count": null,
   "id": "0a74bd56",
   "metadata": {},
   "outputs": [],
   "source": [
    "# Found in LyricsBatch1095.csv"
   ]
  },
  {
   "cell_type": "code",
   "execution_count": null,
   "id": "a7d7053b",
   "metadata": {},
   "outputs": [],
   "source": [
    "p_df = df[df[\"Band\"]==\"Poison\"].iloc[:100,:]\n",
    "p_df.shape"
   ]
  },
  {
   "cell_type": "code",
   "execution_count": null,
   "id": "fee49d67",
   "metadata": {
    "scrolled": false
   },
   "outputs": [],
   "source": [
    "p_df = p_df.sort_values(by ='Song').reset_index(drop = True)\n",
    "p_df"
   ]
  },
  {
   "cell_type": "code",
   "execution_count": null,
   "id": "30604243",
   "metadata": {},
   "outputs": [],
   "source": [
    "p_df = p_df.drop(index = [18, 20, 26, 28, 32, 35, 36, 39, 42, 48, 50, \n",
    "                          56, 63, 66, 72, 73, 74, 78, 91, 92, 99])"
   ]
  },
  {
   "cell_type": "code",
   "execution_count": null,
   "id": "1357c49c",
   "metadata": {},
   "outputs": [],
   "source": [
    "p_df = p_df.replace('\\[\\*\\]', '', regex = True)\n",
    "p_df = p_df.replace(' \\[\\#\\]', '', regex = True)\n",
    "p_df = p_df.replace('\\(Poison Jazz\\)', '', regex = True)\n",
    "p_df = p_df.replace(' \\[Studio Version\\]', '', regex = True)\n",
    "p_df = p_df.replace('\\[Live on MTV Unplugged\\]', '', regex = True)"
   ]
  },
  {
   "cell_type": "markdown",
   "id": "1fb27c16",
   "metadata": {},
   "source": [
    "## Pretty Boy Floyd"
   ]
  },
  {
   "cell_type": "code",
   "execution_count": null,
   "id": "c241fa50",
   "metadata": {},
   "outputs": [],
   "source": [
    "# Found in LyricsBatch1097.csv"
   ]
  },
  {
   "cell_type": "code",
   "execution_count": null,
   "id": "e79b3105",
   "metadata": {},
   "outputs": [],
   "source": [
    "pf_df = df[df[\"Band\"]==\"Pretty Boy Floyd\"]\n",
    "pf_df.shape"
   ]
  },
  {
   "cell_type": "code",
   "execution_count": null,
   "id": "ca878c77",
   "metadata": {},
   "outputs": [],
   "source": [
    "pf_df = pf_df.sort_values(by ='Song').reset_index(drop = True)\n",
    "pf_df"
   ]
  },
  {
   "cell_type": "code",
   "execution_count": null,
   "id": "ae02e5e8",
   "metadata": {},
   "outputs": [],
   "source": [
    "step16 = pd.concat([step15, p_df, pf_df])\n",
    "step16.shape"
   ]
  },
  {
   "cell_type": "markdown",
   "id": "26f02306",
   "metadata": {},
   "source": [
    "# -3 bands (1625 rows)"
   ]
  },
  {
   "cell_type": "code",
   "execution_count": null,
   "id": "06708a91",
   "metadata": {},
   "outputs": [],
   "source": [
    "# merging the files\n",
    "joined_files = os.path.join(\"LyricsBatch110?.csv\")"
   ]
  },
  {
   "cell_type": "code",
   "execution_count": null,
   "id": "4ebc1722",
   "metadata": {},
   "outputs": [],
   "source": [
    "# A list of all joined files is returned\n",
    "joined_list = glob.glob(joined_files)"
   ]
  },
  {
   "cell_type": "code",
   "execution_count": null,
   "id": "eab5f572",
   "metadata": {
    "scrolled": true
   },
   "outputs": [],
   "source": [
    "# Finally, the files are joined\n",
    "df = pd.concat(map(pd.read_csv, joined_list), ignore_index=True)"
   ]
  },
  {
   "cell_type": "markdown",
   "id": "bc62e3a7",
   "metadata": {},
   "source": [
    "## Queensryche"
   ]
  },
  {
   "cell_type": "code",
   "execution_count": null,
   "id": "d4b7591a",
   "metadata": {},
   "outputs": [],
   "source": [
    "# Found in LyricsBatch1101.csv"
   ]
  },
  {
   "cell_type": "code",
   "execution_count": null,
   "id": "af920748",
   "metadata": {},
   "outputs": [],
   "source": [
    "q_df = df[df[\"Band\"]==\"Queensrÿche\"].iloc[:100,:]\n",
    "q_df.shape"
   ]
  },
  {
   "cell_type": "code",
   "execution_count": null,
   "id": "64ef87ad",
   "metadata": {
    "scrolled": false
   },
   "outputs": [],
   "source": [
    "q_df = q_df.sort_values(by ='Song').reset_index(drop = True)\n",
    "q_df"
   ]
  },
  {
   "cell_type": "code",
   "execution_count": null,
   "id": "9d7bd0e3",
   "metadata": {},
   "outputs": [],
   "source": [
    "q_df = q_df.drop(index = [3, 8, 13, 20, 25, 27, 28, 36, 45, 49, 50, 62, \n",
    "                          68, 70, 74, 75, 79, 80, 82, 88, 89, 91, 92])"
   ]
  },
  {
   "cell_type": "code",
   "execution_count": null,
   "id": "b2b51634",
   "metadata": {},
   "outputs": [],
   "source": [
    "q_df = q_df.replace(' \\[\\*\\]', '', regex = True)\n",
    "q_df = q_df.replace('\\[\\#\\]', '', regex = True)\n",
    "q_df = q_df.replace('\\[Live in Tokyo\\]', '', regex = True)"
   ]
  },
  {
   "cell_type": "markdown",
   "id": "7a85a123",
   "metadata": {},
   "source": [
    "## Quiet Riot"
   ]
  },
  {
   "cell_type": "code",
   "execution_count": null,
   "id": "831dfe94",
   "metadata": {},
   "outputs": [],
   "source": [
    "# Found in LyricsBatch1101.csv"
   ]
  },
  {
   "cell_type": "code",
   "execution_count": null,
   "id": "7db62a37",
   "metadata": {},
   "outputs": [],
   "source": [
    "qr_df = df[df[\"Band\"]==\"Quiet Riot\"]\n",
    "qr_df.shape"
   ]
  },
  {
   "cell_type": "code",
   "execution_count": null,
   "id": "32501292",
   "metadata": {
    "scrolled": true
   },
   "outputs": [],
   "source": [
    "qr_df = qr_df.sort_values(by ='Song').reset_index(drop = True)\n",
    "qr_df"
   ]
  },
  {
   "cell_type": "code",
   "execution_count": null,
   "id": "6fcb73a3",
   "metadata": {},
   "outputs": [],
   "source": [
    "qr_df = qr_df.drop(index = [6, 16, 17, 20, 24, 25, 30, 31, 36, 43])"
   ]
  },
  {
   "cell_type": "code",
   "execution_count": null,
   "id": "e1fd6bf4",
   "metadata": {},
   "outputs": [],
   "source": [
    "qr_df = qr_df.replace(' \\[\\*\\]', '', regex = True)\n",
    "qr_df = qr_df.replace(' \\[\\#\\]', '', regex = True)\n",
    "qr_df = qr_df.replace(' \\[Live\\]', '', regex = True)"
   ]
  },
  {
   "cell_type": "markdown",
   "id": "ea424f09",
   "metadata": {},
   "source": [
    "## Ratt"
   ]
  },
  {
   "cell_type": "code",
   "execution_count": null,
   "id": "32a8ef80",
   "metadata": {},
   "outputs": [],
   "source": [
    "# Found in LyricsBatch1106.csv & LyricsBatch1107.csv"
   ]
  },
  {
   "cell_type": "code",
   "execution_count": null,
   "id": "51b9f9ac",
   "metadata": {},
   "outputs": [],
   "source": [
    "r_df = df[df[\"Band\"]==\"Ratt\"]\n",
    "r_df.shape"
   ]
  },
  {
   "cell_type": "code",
   "execution_count": null,
   "id": "44746064",
   "metadata": {
    "scrolled": false
   },
   "outputs": [],
   "source": [
    "r_df = r_df.sort_values(by ='Song').reset_index(drop = True)\n",
    "r_df"
   ]
  },
  {
   "cell_type": "code",
   "execution_count": null,
   "id": "f35d1328",
   "metadata": {},
   "outputs": [],
   "source": [
    "r_df = r_df.drop(index = [48, 61])"
   ]
  },
  {
   "cell_type": "code",
   "execution_count": null,
   "id": "e0a3cf83",
   "metadata": {},
   "outputs": [],
   "source": [
    "r_df = r_df.replace(' \\(Live in Germany\\)', '', regex = True)"
   ]
  },
  {
   "cell_type": "code",
   "execution_count": null,
   "id": "3bbf6439",
   "metadata": {},
   "outputs": [],
   "source": [
    "step17 = pd.concat([step16, q_df, qr_df, r_df])\n",
    "step17.shape"
   ]
  },
  {
   "cell_type": "markdown",
   "id": "f07612c3",
   "metadata": {},
   "source": [
    "# -1 band (Saigon Kick) 1659 rows"
   ]
  },
  {
   "cell_type": "code",
   "execution_count": null,
   "id": "269f2faf",
   "metadata": {},
   "outputs": [],
   "source": [
    "df = pd.read_csv(\"LyricsBatch1146.csv\")"
   ]
  },
  {
   "cell_type": "code",
   "execution_count": null,
   "id": "e1084c2b",
   "metadata": {},
   "outputs": [],
   "source": [
    "sk_df = df[df[\"Band\"]==\"Saigon Kick\"]\n",
    "sk_df.shape"
   ]
  },
  {
   "cell_type": "code",
   "execution_count": null,
   "id": "43c922da",
   "metadata": {
    "scrolled": false
   },
   "outputs": [],
   "source": [
    "sk_df = sk_df.sort_values(by ='Song').reset_index(drop = True)\n",
    "sk_df"
   ]
  },
  {
   "cell_type": "code",
   "execution_count": null,
   "id": "26bd71b5",
   "metadata": {},
   "outputs": [],
   "source": [
    "step18 = pd.concat([step17, sk_df])\n",
    "step18.shape"
   ]
  },
  {
   "cell_type": "markdown",
   "id": "6cd43ffa",
   "metadata": {},
   "source": [
    "# -1 band (Scorpions) 1752 rows"
   ]
  },
  {
   "cell_type": "code",
   "execution_count": null,
   "id": "6c5e8411",
   "metadata": {},
   "outputs": [],
   "source": [
    "df = pd.read_csv(\"LyricsBatch1154.csv\")"
   ]
  },
  {
   "cell_type": "code",
   "execution_count": null,
   "id": "05c8309e",
   "metadata": {},
   "outputs": [],
   "source": [
    "sc_df = df[df[\"Band\"]==\"Scorpions\"].iloc[:100,:]\n",
    "sc_df.shape"
   ]
  },
  {
   "cell_type": "code",
   "execution_count": null,
   "id": "b65b2472",
   "metadata": {},
   "outputs": [],
   "source": [
    "sc_df = sc_df.sort_values(by ='Song').reset_index(drop = True)\n",
    "sc_df"
   ]
  },
  {
   "cell_type": "code",
   "execution_count": null,
   "id": "a9fd4e05",
   "metadata": {},
   "outputs": [],
   "source": [
    "sc_df = sc_df.drop(index = [3, 14, 15, 33, 58, 69, 80])"
   ]
  },
  {
   "cell_type": "code",
   "execution_count": null,
   "id": "7fcc5509",
   "metadata": {},
   "outputs": [],
   "source": [
    "sc_df = sc_df.replace('\\[\\*\\]', '', regex = True)\n",
    "sc_df = sc_df.replace(' \\[Live\\]', '', regex = True)\n",
    "sc_df = sc_df.replace(' \\[Live at the Moscow PeaceFestival\\]', '', regex = True)"
   ]
  },
  {
   "cell_type": "code",
   "execution_count": null,
   "id": "3b888803",
   "metadata": {},
   "outputs": [],
   "source": [
    "step19 = pd.concat([step18, sc_df])\n",
    "step19.shape"
   ]
  },
  {
   "cell_type": "markdown",
   "id": "3a5fc970",
   "metadata": {},
   "source": [
    "# -2 bands (1831 rows)"
   ]
  },
  {
   "cell_type": "code",
   "execution_count": null,
   "id": "6e7249a6",
   "metadata": {},
   "outputs": [],
   "source": [
    "# merging the files\n",
    "joined_files = os.path.join(\"LyricsBatch116?.csv\")"
   ]
  },
  {
   "cell_type": "code",
   "execution_count": null,
   "id": "70db525a",
   "metadata": {},
   "outputs": [],
   "source": [
    "# A list of all joined files is returned\n",
    "joined_list = glob.glob(joined_files)"
   ]
  },
  {
   "cell_type": "code",
   "execution_count": null,
   "id": "8b7a1433",
   "metadata": {
    "scrolled": true
   },
   "outputs": [],
   "source": [
    "# Finally, the files are joined\n",
    "df = pd.concat(map(pd.read_csv, joined_list), ignore_index=True)"
   ]
  },
  {
   "cell_type": "markdown",
   "id": "03fa0805",
   "metadata": {},
   "source": [
    "## Skid Row"
   ]
  },
  {
   "cell_type": "code",
   "execution_count": null,
   "id": "964507f5",
   "metadata": {},
   "outputs": [],
   "source": [
    "# Found in LyricsBatch1168.csv"
   ]
  },
  {
   "cell_type": "code",
   "execution_count": null,
   "id": "a8913c07",
   "metadata": {},
   "outputs": [],
   "source": [
    "sr_df = df[df[\"Band\"]==\"Skid Row\"]\n",
    "sr_df.shape"
   ]
  },
  {
   "cell_type": "code",
   "execution_count": null,
   "id": "7ea65e11",
   "metadata": {},
   "outputs": [],
   "source": [
    "sr_df = sr_df.sort_values(by ='Song').reset_index(drop = True)\n",
    "sr_df"
   ]
  },
  {
   "cell_type": "code",
   "execution_count": null,
   "id": "daa09039",
   "metadata": {},
   "outputs": [],
   "source": [
    "sr_df = sr_df.drop(index = [5, 14, 15, 23, 32, 34])"
   ]
  },
  {
   "cell_type": "code",
   "execution_count": null,
   "id": "331bea4a",
   "metadata": {},
   "outputs": [],
   "source": [
    "sr_df = sr_df.replace(' \\[\\#\\]', '', regex = True)\n",
    "sr_df = sr_df.replace(' \\[Live\\]', '', regex = True)\n",
    "sr_df = sr_df.replace('\\[Demo Version\\]', '', regex = True)"
   ]
  },
  {
   "cell_type": "markdown",
   "id": "ef491803",
   "metadata": {},
   "source": [
    "## Slaughter"
   ]
  },
  {
   "cell_type": "code",
   "execution_count": null,
   "id": "fd329eec",
   "metadata": {},
   "outputs": [],
   "source": [
    "# Found in LyricsBatch1169.csv"
   ]
  },
  {
   "cell_type": "code",
   "execution_count": null,
   "id": "7b32039b",
   "metadata": {},
   "outputs": [],
   "source": [
    "s_df = df[df[\"Band\"]==\"Slaughter\"]\n",
    "s_df.shape"
   ]
  },
  {
   "cell_type": "code",
   "execution_count": null,
   "id": "c554118e",
   "metadata": {
    "scrolled": true
   },
   "outputs": [],
   "source": [
    "s_df = s_df.sort_values(by ='Song').reset_index(drop = True)\n",
    "s_df"
   ]
  },
  {
   "cell_type": "code",
   "execution_count": null,
   "id": "d6027416",
   "metadata": {},
   "outputs": [],
   "source": [
    "s_df = s_df.drop(index = [3, 10, 19])"
   ]
  },
  {
   "cell_type": "code",
   "execution_count": null,
   "id": "716e4625",
   "metadata": {},
   "outputs": [],
   "source": [
    "step20 = pd.concat([step19, sr_df, s_df])\n",
    "step20.head()"
   ]
  },
  {
   "cell_type": "markdown",
   "id": "ea4bb4a8",
   "metadata": {},
   "source": [
    "# -1 band (Steelheart) 1850 rows"
   ]
  },
  {
   "cell_type": "code",
   "execution_count": null,
   "id": "a7791a3a",
   "metadata": {},
   "outputs": [],
   "source": [
    "df = pd.read_csv(\"LyricsBatch1183.csv\")"
   ]
  },
  {
   "cell_type": "code",
   "execution_count": null,
   "id": "61dea580",
   "metadata": {},
   "outputs": [],
   "source": [
    "sh_df = df[df[\"Band\"]==\"Steelheart\"]\n",
    "sh_df.shape"
   ]
  },
  {
   "cell_type": "code",
   "execution_count": null,
   "id": "eee2c297",
   "metadata": {},
   "outputs": [],
   "source": [
    "sh_df = sh_df.sort_values(by ='Song').reset_index(drop = True)\n",
    "sh_df"
   ]
  },
  {
   "cell_type": "code",
   "execution_count": null,
   "id": "86106ea1",
   "metadata": {},
   "outputs": [],
   "source": [
    "step21 = pd.concat([step20, sh_df])\n",
    "step21.head()"
   ]
  },
  {
   "cell_type": "markdown",
   "id": "7b81d339",
   "metadata": {},
   "source": [
    "# Finish df and save to csv"
   ]
  },
  {
   "cell_type": "code",
   "execution_count": null,
   "id": "52ba0f05",
   "metadata": {},
   "outputs": [],
   "source": [
    "df = step21.reset_index(drop = True)\n",
    "df.head()"
   ]
  },
  {
   "cell_type": "code",
   "execution_count": null,
   "id": "4c61ceb4",
   "metadata": {},
   "outputs": [],
   "source": [
    "df = df.rename(columns={\"Band\": \"artist\", \"Lyrics\": \"words\", \"Song\": \"title\"})\n",
    "df.head()"
   ]
  },
  {
   "cell_type": "code",
   "execution_count": null,
   "id": "cd1059f5",
   "metadata": {},
   "outputs": [],
   "source": [
    "df.to_csv(r\"..\\..\\datasets\\hair_lyrics_test.csv\")"
   ]
  },
  {
   "cell_type": "markdown",
   "id": "6bb083c7",
   "metadata": {},
   "source": [
    "# Next Steps"
   ]
  },
  {
   "cell_type": "markdown",
   "id": "319f054f",
   "metadata": {},
   "source": [
    "With everything being read into one dataframe from the beginning, I could create a list of all the band names I want to select and then pull them out in one step instead of one band at a time. Since I dropped some of the rows, however, this isn't something I can do quickly. Here's a plan of attack:\n",
    " * for any bands that don't have any rows dropped, select them and put them into a seaparate df\n",
    " * for bands that have rows that get dropped, find an elegant way to drop them all at once."
   ]
  }
 ],
 "metadata": {
  "kernelspec": {
   "display_name": "Python 3 (ipykernel)",
   "language": "python",
   "name": "python3"
  },
  "language_info": {
   "codemirror_mode": {
    "name": "ipython",
    "version": 3
   },
   "file_extension": ".py",
   "mimetype": "text/x-python",
   "name": "python",
   "nbconvert_exporter": "python",
   "pygments_lexer": "ipython3",
   "version": "3.9.7"
  },
  "toc": {
   "base_numbering": 1,
   "nav_menu": {},
   "number_sections": true,
   "sideBar": true,
   "skip_h1_title": false,
   "title_cell": "Table of Contents",
   "title_sidebar": "Contents",
   "toc_cell": true,
   "toc_position": {
    "height": "calc(100% - 180px)",
    "left": "10px",
    "top": "150px",
    "width": "279.273px"
   },
   "toc_section_display": true,
   "toc_window_display": true
  }
 },
 "nbformat": 4,
 "nbformat_minor": 5
}

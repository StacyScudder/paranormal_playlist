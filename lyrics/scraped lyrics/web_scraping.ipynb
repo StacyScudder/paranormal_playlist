{
 "cells": [
  {
   "cell_type": "markdown",
   "id": "04f6f6e5",
   "metadata": {
    "toc": true
   },
   "source": [
    "<h1>Table of Contents<span class=\"tocSkip\"></span></h1>\n",
    "<div class=\"toc\"><ul class=\"toc-item\"><li><span><a href=\"#Import-all-the-things\" data-toc-modified-id=\"Import-all-the-things-1\"><span class=\"toc-item-num\">1&nbsp;&nbsp;</span>Import all the things</a></span></li><li><span><a href=\"#send-key-and-info-to-Genius-API\" data-toc-modified-id=\"send-key-and-info-to-Genius-API-2\"><span class=\"toc-item-num\">2&nbsp;&nbsp;</span>send key and info to Genius API</a></span></li><li><span><a href=\"#Get-top-100-song-lyrics-for-artist-and-send-to-json-file\" data-toc-modified-id=\"Get-top-100-song-lyrics-for-artist-and-send-to-json-file-3\"><span class=\"toc-item-num\">3&nbsp;&nbsp;</span>Get top 100 song lyrics for artist and send to json file</a></span></li></ul></div>"
   ]
  },
  {
   "cell_type": "raw",
   "id": "221a75fe",
   "metadata": {},
   "source": [
    "**Explanation of Process**\n",
    "\n",
    "After pulling the band's song lyrics from the found csv files, I still needed songs from several other hair metal bands. So, I used the Genius API to scrape song lyrics and save them to json file. I overwrote the band name each time so I was doing one band at a time. I could have created a loop to get all the bands at once, but this let me see what I was getting every step of the way and was less likely to get me kicked off the API. This is the list of bands that had lyrics scraped:\n",
    "\n",
    "\"Badlands\",\n",
    "\"Bang Tango\",\n",
    "\"Baton Rouge\",\n",
    "\"Bon Jovi\",\n",
    "\"Britny Fox\",\n",
    "\"BulletBoys\",\n",
    "\"House of Lords\",\n",
    "\"Jackyl\",\n",
    "\"Jetboy\",\n",
    "\"King Kobra\",\n",
    "\"Love/Hate\",\n",
    "\"Stryper\",\n",
    "\"Tesla\",\n",
    "\"Trixter\",\n",
    "\"Twisted Sister\",\n",
    "\"Van Halen\",\n",
    "\"Vinnie Vincent Invasion\",\n",
    "\"W.A.S.P.\",\n",
    "\"Warrant\",\n",
    "\"White Lion\",\n",
    "\"Whitesnake\",\n",
    "\"Winger\""
   ]
  },
  {
   "cell_type": "markdown",
   "id": "7e43e6b1",
   "metadata": {},
   "source": [
    "# Import all the things"
   ]
  },
  {
   "cell_type": "code",
   "execution_count": null,
   "id": "0aad666b",
   "metadata": {},
   "outputs": [],
   "source": [
    "import lyricsgenius as Genius"
   ]
  },
  {
   "cell_type": "markdown",
   "id": "ae973dea",
   "metadata": {},
   "source": [
    "# send key and info to Genius API"
   ]
  },
  {
   "cell_type": "code",
   "execution_count": null,
   "id": "10fe9fd2",
   "metadata": {},
   "outputs": [],
   "source": [
    "token = 'Insert Your Genius API Token Here'\n",
    "genius = Genius.Genius(token, skip_non_songs=True, excluded_terms=[\"(Remix)\", \"(Live)\"], \n",
    "                remove_section_headers=True)"
   ]
  },
  {
   "cell_type": "markdown",
   "id": "b2efc8bd",
   "metadata": {},
   "source": [
    "# Get top 100 song lyrics for artist and send to json file"
   ]
  },
  {
   "cell_type": "code",
   "execution_count": null,
   "id": "ef500186",
   "metadata": {},
   "outputs": [],
   "source": [
    "artist = genius.search_artist(\"Badlands\", max_songs=108, sort=\"popularity\")\n",
    "artist.save_lyrics()"
   ]
  }
 ],
 "metadata": {
  "kernelspec": {
   "display_name": "Python 3 (ipykernel)",
   "language": "python",
   "name": "python3"
  },
  "language_info": {
   "codemirror_mode": {
    "name": "ipython",
    "version": 3
   },
   "file_extension": ".py",
   "mimetype": "text/x-python",
   "name": "python",
   "nbconvert_exporter": "python",
   "pygments_lexer": "ipython3",
   "version": "3.9.7"
  },
  "toc": {
   "base_numbering": 1,
   "nav_menu": {},
   "number_sections": true,
   "sideBar": true,
   "skip_h1_title": false,
   "title_cell": "Table of Contents",
   "title_sidebar": "Contents",
   "toc_cell": true,
   "toc_position": {},
   "toc_section_display": true,
   "toc_window_display": true
  }
 },
 "nbformat": 4,
 "nbformat_minor": 5
}

{
 "cells": [
  {
   "cell_type": "markdown",
   "id": "84d50ee7",
   "metadata": {
    "toc": true
   },
   "source": [
    "<h1>Table of Contents<span class=\"tocSkip\"></span></h1>\n",
    "<div class=\"toc\"><ul class=\"toc-item\"><li><span><a href=\"#Import-all-the-things\" data-toc-modified-id=\"Import-all-the-things-1\"><span class=\"toc-item-num\">1&nbsp;&nbsp;</span>Import all the things</a></span></li><li><span><a href=\"#Read-the-file-and-create-df\" data-toc-modified-id=\"Read-the-file-and-create-df-2\"><span class=\"toc-item-num\">2&nbsp;&nbsp;</span>Read the file and create df</a></span></li><li><span><a href=\"#Rename-columns\" data-toc-modified-id=\"Rename-columns-3\"><span class=\"toc-item-num\">3&nbsp;&nbsp;</span>Rename columns</a></span></li><li><span><a href=\"#Basic-EDA\" data-toc-modified-id=\"Basic-EDA-4\"><span class=\"toc-item-num\">4&nbsp;&nbsp;</span>Basic EDA</a></span></li><li><span><a href=\"#Add-column-of-0-for-books\" data-toc-modified-id=\"Add-column-of-0-for-books-5\"><span class=\"toc-item-num\">5&nbsp;&nbsp;</span>Add column of 0 for books</a></span></li><li><span><a href=\"#Save-to-csv-file-for-EDA\" data-toc-modified-id=\"Save-to-csv-file-for-EDA-6\"><span class=\"toc-item-num\">6&nbsp;&nbsp;</span>Save to csv file for EDA</a></span></li></ul></div>"
   ]
  },
  {
   "cell_type": "markdown",
   "id": "82194cfa",
   "metadata": {},
   "source": [
    "**Explanation of Process**\n",
    "\n",
    "I found a dataset (https://www.kaggle.com/meetnaren/goodreads-best-books) that included title, author, description, and genre. I needed the genre so I could get the romance books separately. \n",
    "\n",
    "I first read the file and created the df. I tried to pull out just the romance books, but there were null values.I only planned to keep a few and didn't want to drop rows unnecesarily, so I dropped rows where only the genre was null. Then I filtered out the paranormal books. Once I had only PNR romance books, I pulled out the three columns I was interested in then renamed and reorganized them. Finally, I reset the index and added a column of all zeroes to indicate these are books and saved the file to csv. I'll do more cleaning in book_sountrack.ipnyb"
   ]
  },
  {
   "cell_type": "markdown",
   "id": "37bc3dd6",
   "metadata": {},
   "source": [
    "# Import all the things"
   ]
  },
  {
   "cell_type": "code",
   "execution_count": 1,
   "id": "1aca9b5c",
   "metadata": {
    "scrolled": true
   },
   "outputs": [],
   "source": [
    "import pandas as pd"
   ]
  },
  {
   "cell_type": "code",
   "execution_count": 2,
   "id": "d61ace14",
   "metadata": {},
   "outputs": [],
   "source": [
    "import sys\n",
    "sys.path.insert(0, r\"..\\functions\")\n",
    "\n",
    "from myEDA import *"
   ]
  },
  {
   "cell_type": "code",
   "execution_count": 3,
   "id": "61603a7e",
   "metadata": {},
   "outputs": [],
   "source": [
    "#This will make all the rows print in the df without skipping any\n",
    "#pd.set_option('display.max_rows', None)"
   ]
  },
  {
   "cell_type": "markdown",
   "id": "8e4bffd8",
   "metadata": {},
   "source": [
    "# Read the file and create df"
   ]
  },
  {
   "cell_type": "code",
   "execution_count": 16,
   "id": "6215dfae",
   "metadata": {
    "scrolled": true
   },
   "outputs": [
    {
     "data": {
      "text/plain": [
       "(4644, 4)"
      ]
     },
     "execution_count": 16,
     "metadata": {},
     "output_type": "execute_result"
    }
   ],
   "source": [
    "#Download the 2 GB file from the link above, unzip, and put in the datasets folder\n",
    "\n",
    "#uncomment line below after csv is in datasets folder\n",
    "\n",
    "#df = pd.read_csv(r\"..\\datasets\\book_data.csv\")\n",
    "df.shape"
   ]
  },
  {
   "cell_type": "code",
   "execution_count": 5,
   "id": "9a6c82ba",
   "metadata": {},
   "outputs": [
    {
     "data": {
      "text/plain": [
       "(50177, 12)"
      ]
     },
     "execution_count": 5,
     "metadata": {},
     "output_type": "execute_result"
    }
   ],
   "source": [
    "# drop all rows that have blanks in the subset columns\n",
    "\n",
    "df = df.dropna(axis=0, subset=['genres', 'book_authors', 'book_desc', 'book_title'])\n",
    "df.shape"
   ]
  },
  {
   "cell_type": "code",
   "execution_count": 6,
   "id": "05be90d9",
   "metadata": {},
   "outputs": [
    {
     "data": {
      "text/plain": [
       "(5206, 12)"
      ]
     },
     "execution_count": 6,
     "metadata": {},
     "output_type": "execute_result"
    }
   ],
   "source": [
    "# keep only books in the Paranormal Romance genre\n",
    "\n",
    "df = df[df['genres'].str.contains(\"Paranormal\")]\n",
    "df.shape"
   ]
  },
  {
   "cell_type": "code",
   "execution_count": 7,
   "id": "542db6dd",
   "metadata": {
    "scrolled": true
   },
   "outputs": [
    {
     "data": {
      "text/plain": [
       "(5206, 3)"
      ]
     },
     "execution_count": 7,
     "metadata": {},
     "output_type": "execute_result"
    }
   ],
   "source": [
    "#keep only 3 columns\n",
    "\n",
    "df = df[['book_authors', 'book_title', 'book_desc']]\n",
    "df.shape"
   ]
  },
  {
   "cell_type": "markdown",
   "id": "948647fe",
   "metadata": {},
   "source": [
    "# Rename columns"
   ]
  },
  {
   "cell_type": "code",
   "execution_count": 8,
   "id": "03d703b3",
   "metadata": {},
   "outputs": [
    {
     "data": {
      "text/html": [
       "<div>\n",
       "<style scoped>\n",
       "    .dataframe tbody tr th:only-of-type {\n",
       "        vertical-align: middle;\n",
       "    }\n",
       "\n",
       "    .dataframe tbody tr th {\n",
       "        vertical-align: top;\n",
       "    }\n",
       "\n",
       "    .dataframe thead th {\n",
       "        text-align: right;\n",
       "    }\n",
       "</style>\n",
       "<table border=\"1\" class=\"dataframe\">\n",
       "  <thead>\n",
       "    <tr style=\"text-align: right;\">\n",
       "      <th></th>\n",
       "      <th>author</th>\n",
       "      <th>title</th>\n",
       "      <th>desc</th>\n",
       "    </tr>\n",
       "  </thead>\n",
       "  <tbody>\n",
       "  </tbody>\n",
       "</table>\n",
       "</div>"
      ],
      "text/plain": [
       "Empty DataFrame\n",
       "Columns: [author, title, desc]\n",
       "Index: []"
      ]
     },
     "execution_count": 8,
     "metadata": {},
     "output_type": "execute_result"
    }
   ],
   "source": [
    "#rename columns to make them easier to deal with \n",
    "\n",
    "df = df.rename(columns={\"book_authors\": \"author\", \"book_desc\": \"desc\", \"book_title\": \"title\"})\n",
    "df.head(0)"
   ]
  },
  {
   "cell_type": "code",
   "execution_count": 9,
   "id": "b259c65e",
   "metadata": {},
   "outputs": [
    {
     "data": {
      "text/html": [
       "<div>\n",
       "<style scoped>\n",
       "    .dataframe tbody tr th:only-of-type {\n",
       "        vertical-align: middle;\n",
       "    }\n",
       "\n",
       "    .dataframe tbody tr th {\n",
       "        vertical-align: top;\n",
       "    }\n",
       "\n",
       "    .dataframe thead th {\n",
       "        text-align: right;\n",
       "    }\n",
       "</style>\n",
       "<table border=\"1\" class=\"dataframe\">\n",
       "  <thead>\n",
       "    <tr style=\"text-align: right;\">\n",
       "      <th></th>\n",
       "      <th>author</th>\n",
       "      <th>title</th>\n",
       "      <th>desc</th>\n",
       "    </tr>\n",
       "  </thead>\n",
       "  <tbody>\n",
       "    <tr>\n",
       "      <th>0</th>\n",
       "      <td>Stephen King</td>\n",
       "      <td>'Salem's Lot</td>\n",
       "      <td>Thousands of miles away from the small townshi...</td>\n",
       "    </tr>\n",
       "    <tr>\n",
       "      <th>1</th>\n",
       "      <td>Stephen King|Jerry N. Uelsmann</td>\n",
       "      <td>'Salem's Lot</td>\n",
       "      <td>Upon its initial publication in 1975, 'Salem’s...</td>\n",
       "    </tr>\n",
       "    <tr>\n",
       "      <th>2</th>\n",
       "      <td>Stephen King</td>\n",
       "      <td>'Salem's Lot</td>\n",
       "      <td>Thousands of miles away from the small townshi...</td>\n",
       "    </tr>\n",
       "    <tr>\n",
       "      <th>3</th>\n",
       "      <td>Stephen King</td>\n",
       "      <td>'Salem's Lot</td>\n",
       "      <td>'Salem's Lot is a small New England town with ...</td>\n",
       "    </tr>\n",
       "    <tr>\n",
       "      <th>4</th>\n",
       "      <td>Oliviu Craznic</td>\n",
       "      <td>....Și la sfârșit a mai rămas coșmarul (...And...</td>\n",
       "      <td>In the Castle of the Last Towers, the things a...</td>\n",
       "    </tr>\n",
       "  </tbody>\n",
       "</table>\n",
       "</div>"
      ],
      "text/plain": [
       "                           author  \\\n",
       "0                    Stephen King   \n",
       "1  Stephen King|Jerry N. Uelsmann   \n",
       "2                    Stephen King   \n",
       "3                    Stephen King   \n",
       "4                  Oliviu Craznic   \n",
       "\n",
       "                                               title  \\\n",
       "0                                       'Salem's Lot   \n",
       "1                                       'Salem's Lot   \n",
       "2                                       'Salem's Lot   \n",
       "3                                       'Salem's Lot   \n",
       "4  ....Și la sfârșit a mai rămas coșmarul (...And...   \n",
       "\n",
       "                                                desc  \n",
       "0  Thousands of miles away from the small townshi...  \n",
       "1  Upon its initial publication in 1975, 'Salem’s...  \n",
       "2  Thousands of miles away from the small townshi...  \n",
       "3  'Salem's Lot is a small New England town with ...  \n",
       "4  In the Castle of the Last Towers, the things a...  "
      ]
     },
     "execution_count": 9,
     "metadata": {},
     "output_type": "execute_result"
    }
   ],
   "source": [
    "# There are several non-English titles, but those will be dropped in book_soundtrack.ipnyb\n",
    "\n",
    "df = df.sort_values(by ='title').reset_index(drop = True)\n",
    "df.head()"
   ]
  },
  {
   "cell_type": "code",
   "execution_count": 10,
   "id": "196c73b1",
   "metadata": {},
   "outputs": [
    {
     "data": {
      "text/plain": [
       "(4644, 3)"
      ]
     },
     "execution_count": 10,
     "metadata": {},
     "output_type": "execute_result"
    }
   ],
   "source": [
    "#Several books have multiple entries, so drop duplicate titles\n",
    "#I will revisit this later since I know there are some books by different authors with the same title\n",
    "\n",
    "df = df.drop_duplicates(subset = ['title'])\n",
    "df.shape"
   ]
  },
  {
   "cell_type": "markdown",
   "id": "6ea0ef05",
   "metadata": {},
   "source": [
    "# Basic EDA"
   ]
  },
  {
   "cell_type": "code",
   "execution_count": 11,
   "id": "d41a3291",
   "metadata": {},
   "outputs": [
    {
     "name": "stdout",
     "output_type": "stream",
     "text": [
      "Basic information from your dataset\n",
      " ---------------------------------------------\n",
      "<class 'pandas.core.frame.DataFrame'>\n",
      "Int64Index: 4644 entries, 0 to 5205\n",
      "Data columns (total 3 columns):\n",
      " #   Column  Non-Null Count  Dtype \n",
      "---  ------  --------------  ----- \n",
      " 0   author  4644 non-null   object\n",
      " 1   title   4644 non-null   object\n",
      " 2   desc    4644 non-null   object\n",
      "dtypes: object(3)\n",
      "memory usage: 145.1+ KB\n",
      "\n",
      "Numerical variables are:\n",
      " Index([], dtype='object')\n",
      "-------------------------------------------------\n",
      "Categorical variables are:\n",
      " Index(['author', 'title', 'desc'], dtype='object')\n",
      "-------------------------------------------------\n"
     ]
    },
    {
     "data": {
      "text/plain": [
       "(Index([], dtype='object'), Index(['author', 'title', 'desc'], dtype='object'))"
      ]
     },
     "execution_count": 11,
     "metadata": {},
     "output_type": "execute_result"
    }
   ],
   "source": [
    "#get an overview of nulls and any problems with data types\n",
    "\n",
    "get_info_dataset(df)"
   ]
  },
  {
   "cell_type": "markdown",
   "id": "3f22e0c7",
   "metadata": {},
   "source": [
    "# Add column of 0 for books"
   ]
  },
  {
   "cell_type": "code",
   "execution_count": 12,
   "id": "ce0ff7cb",
   "metadata": {},
   "outputs": [
    {
     "data": {
      "text/html": [
       "<div>\n",
       "<style scoped>\n",
       "    .dataframe tbody tr th:only-of-type {\n",
       "        vertical-align: middle;\n",
       "    }\n",
       "\n",
       "    .dataframe tbody tr th {\n",
       "        vertical-align: top;\n",
       "    }\n",
       "\n",
       "    .dataframe thead th {\n",
       "        text-align: right;\n",
       "    }\n",
       "</style>\n",
       "<table border=\"1\" class=\"dataframe\">\n",
       "  <thead>\n",
       "    <tr style=\"text-align: right;\">\n",
       "      <th></th>\n",
       "      <th>author</th>\n",
       "      <th>title</th>\n",
       "      <th>desc</th>\n",
       "      <th>format</th>\n",
       "    </tr>\n",
       "  </thead>\n",
       "  <tbody>\n",
       "    <tr>\n",
       "      <th>0</th>\n",
       "      <td>Stephen King</td>\n",
       "      <td>'Salem's Lot</td>\n",
       "      <td>Thousands of miles away from the small townshi...</td>\n",
       "      <td>0</td>\n",
       "    </tr>\n",
       "    <tr>\n",
       "      <th>4</th>\n",
       "      <td>Oliviu Craznic</td>\n",
       "      <td>....Și la sfârșit a mai rămas coșmarul (...And...</td>\n",
       "      <td>In the Castle of the Last Towers, the things a...</td>\n",
       "      <td>0</td>\n",
       "    </tr>\n",
       "  </tbody>\n",
       "</table>\n",
       "</div>"
      ],
      "text/plain": [
       "           author                                              title  \\\n",
       "0    Stephen King                                       'Salem's Lot   \n",
       "4  Oliviu Craznic  ....Și la sfârșit a mai rămas coșmarul (...And...   \n",
       "\n",
       "                                                desc  format  \n",
       "0  Thousands of miles away from the small townshi...       0  \n",
       "4  In the Castle of the Last Towers, the things a...       0  "
      ]
     },
     "execution_count": 12,
     "metadata": {},
     "output_type": "execute_result"
    }
   ],
   "source": [
    "# Add a column of 0 for books\n",
    "df['format'] = 0\n",
    "df.head(2)"
   ]
  },
  {
   "cell_type": "markdown",
   "id": "c67e8f0c",
   "metadata": {},
   "source": [
    "# Save to csv file for EDA"
   ]
  },
  {
   "cell_type": "code",
   "execution_count": 13,
   "id": "f4572c10",
   "metadata": {},
   "outputs": [],
   "source": [
    "df.to_csv(r\"..\\datasets\\books_raw.csv\")"
   ]
  }
 ],
 "metadata": {
  "kernelspec": {
   "display_name": "Python 3 (ipykernel)",
   "language": "python",
   "name": "python3"
  },
  "language_info": {
   "codemirror_mode": {
    "name": "ipython",
    "version": 3
   },
   "file_extension": ".py",
   "mimetype": "text/x-python",
   "name": "python",
   "nbconvert_exporter": "python",
   "pygments_lexer": "ipython3",
   "version": "3.9.7"
  },
  "toc": {
   "base_numbering": 1,
   "nav_menu": {},
   "number_sections": true,
   "sideBar": true,
   "skip_h1_title": false,
   "title_cell": "Table of Contents",
   "title_sidebar": "Contents",
   "toc_cell": true,
   "toc_position": {},
   "toc_section_display": true,
   "toc_window_display": true
  }
 },
 "nbformat": 4,
 "nbformat_minor": 5
}
